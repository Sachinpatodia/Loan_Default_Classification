{
 "cells": [
  {
   "cell_type": "markdown",
   "id": "6fce8ca8",
   "metadata": {},
   "source": [
    "## Logistic Regression"
   ]
  },
  {
   "cell_type": "markdown",
   "id": "b845fea6",
   "metadata": {},
   "source": [
    "### Importing Required Libraries"
   ]
  },
  {
   "cell_type": "code",
   "execution_count": 46,
   "id": "e034a1d6",
   "metadata": {},
   "outputs": [],
   "source": [
    "import numpy as np\n",
    "import pandas as pd\n",
    "import matplotlib.pyplot as plt\n",
    "import seaborn as sns\n",
    "import statsmodels.api as sm\n",
    "from sklearn.model_selection import train_test_split\n",
    "from sklearn.metrics import confusion_matrix\n",
    "from sklearn.metrics import roc_curve,roc_auc_score\n",
    "from sklearn.metrics import classification_report\n",
    "import warnings\n",
    "warnings.filterwarnings('ignore')\n",
    "pd.set_option('display.max_columns', 200)"
   ]
  },
  {
   "cell_type": "markdown",
   "id": "fbe4283b",
   "metadata": {},
   "source": [
    "### Reading Dataset"
   ]
  },
  {
   "cell_type": "code",
   "execution_count": 47,
   "id": "74b60328",
   "metadata": {},
   "outputs": [],
   "source": [
    "loan = pd.read_csv('./lending_club_loan_two.csv')"
   ]
  },
  {
   "cell_type": "code",
   "execution_count": 48,
   "id": "959cb36b",
   "metadata": {},
   "outputs": [
    {
     "name": "stdout",
     "output_type": "stream",
     "text": [
      "<class 'pandas.core.frame.DataFrame'>\n",
      "RangeIndex: 396030 entries, 0 to 396029\n",
      "Data columns (total 27 columns):\n",
      " #   Column                Non-Null Count   Dtype  \n",
      "---  ------                --------------   -----  \n",
      " 0   loan_amnt             396030 non-null  float64\n",
      " 1   term                  396030 non-null  object \n",
      " 2   int_rate              396030 non-null  float64\n",
      " 3   installment           396030 non-null  float64\n",
      " 4   grade                 396030 non-null  object \n",
      " 5   sub_grade             396030 non-null  object \n",
      " 6   emp_title             373103 non-null  object \n",
      " 7   emp_length            377729 non-null  object \n",
      " 8   home_ownership        396030 non-null  object \n",
      " 9   annual_inc            396030 non-null  float64\n",
      " 10  verification_status   396030 non-null  object \n",
      " 11  issue_d               396030 non-null  object \n",
      " 12  loan_status           396030 non-null  object \n",
      " 13  purpose               396030 non-null  object \n",
      " 14  title                 394274 non-null  object \n",
      " 15  dti                   396030 non-null  float64\n",
      " 16  earliest_cr_line      396030 non-null  object \n",
      " 17  open_acc              396030 non-null  float64\n",
      " 18  pub_rec               396030 non-null  float64\n",
      " 19  revol_bal             396030 non-null  float64\n",
      " 20  revol_util            395754 non-null  float64\n",
      " 21  total_acc             396030 non-null  float64\n",
      " 22  initial_list_status   396030 non-null  object \n",
      " 23  application_type      396030 non-null  object \n",
      " 24  mort_acc              358235 non-null  float64\n",
      " 25  pub_rec_bankruptcies  395495 non-null  float64\n",
      " 26  address               396030 non-null  object \n",
      "dtypes: float64(12), object(15)\n",
      "memory usage: 81.6+ MB\n"
     ]
    }
   ],
   "source": [
    "loan.info()"
   ]
  },
  {
   "cell_type": "code",
   "execution_count": 49,
   "id": "56c11e28",
   "metadata": {},
   "outputs": [
    {
     "data": {
      "text/html": [
       "<div>\n",
       "<style scoped>\n",
       "    .dataframe tbody tr th:only-of-type {\n",
       "        vertical-align: middle;\n",
       "    }\n",
       "\n",
       "    .dataframe tbody tr th {\n",
       "        vertical-align: top;\n",
       "    }\n",
       "\n",
       "    .dataframe thead th {\n",
       "        text-align: right;\n",
       "    }\n",
       "</style>\n",
       "<table border=\"1\" class=\"dataframe\">\n",
       "  <thead>\n",
       "    <tr style=\"text-align: right;\">\n",
       "      <th></th>\n",
       "      <th>loan_amnt</th>\n",
       "      <th>term</th>\n",
       "      <th>int_rate</th>\n",
       "      <th>installment</th>\n",
       "      <th>grade</th>\n",
       "      <th>sub_grade</th>\n",
       "      <th>emp_title</th>\n",
       "      <th>emp_length</th>\n",
       "      <th>home_ownership</th>\n",
       "      <th>annual_inc</th>\n",
       "    </tr>\n",
       "  </thead>\n",
       "  <tbody>\n",
       "    <tr>\n",
       "      <th>0</th>\n",
       "      <td>10000.0</td>\n",
       "      <td>36 months</td>\n",
       "      <td>11.44</td>\n",
       "      <td>329.48</td>\n",
       "      <td>B</td>\n",
       "      <td>B4</td>\n",
       "      <td>Marketing</td>\n",
       "      <td>10+ years</td>\n",
       "      <td>RENT</td>\n",
       "      <td>117000.0</td>\n",
       "    </tr>\n",
       "    <tr>\n",
       "      <th>1</th>\n",
       "      <td>8000.0</td>\n",
       "      <td>36 months</td>\n",
       "      <td>11.99</td>\n",
       "      <td>265.68</td>\n",
       "      <td>B</td>\n",
       "      <td>B5</td>\n",
       "      <td>Credit analyst</td>\n",
       "      <td>4 years</td>\n",
       "      <td>MORTGAGE</td>\n",
       "      <td>65000.0</td>\n",
       "    </tr>\n",
       "    <tr>\n",
       "      <th>2</th>\n",
       "      <td>15600.0</td>\n",
       "      <td>36 months</td>\n",
       "      <td>10.49</td>\n",
       "      <td>506.97</td>\n",
       "      <td>B</td>\n",
       "      <td>B3</td>\n",
       "      <td>Statistician</td>\n",
       "      <td>&lt; 1 year</td>\n",
       "      <td>RENT</td>\n",
       "      <td>43057.0</td>\n",
       "    </tr>\n",
       "    <tr>\n",
       "      <th>3</th>\n",
       "      <td>7200.0</td>\n",
       "      <td>36 months</td>\n",
       "      <td>6.49</td>\n",
       "      <td>220.65</td>\n",
       "      <td>A</td>\n",
       "      <td>A2</td>\n",
       "      <td>Client Advocate</td>\n",
       "      <td>6 years</td>\n",
       "      <td>RENT</td>\n",
       "      <td>54000.0</td>\n",
       "    </tr>\n",
       "    <tr>\n",
       "      <th>4</th>\n",
       "      <td>24375.0</td>\n",
       "      <td>60 months</td>\n",
       "      <td>17.27</td>\n",
       "      <td>609.33</td>\n",
       "      <td>C</td>\n",
       "      <td>C5</td>\n",
       "      <td>Destiny Management Inc.</td>\n",
       "      <td>9 years</td>\n",
       "      <td>MORTGAGE</td>\n",
       "      <td>55000.0</td>\n",
       "    </tr>\n",
       "    <tr>\n",
       "      <th>5</th>\n",
       "      <td>20000.0</td>\n",
       "      <td>36 months</td>\n",
       "      <td>13.33</td>\n",
       "      <td>677.07</td>\n",
       "      <td>C</td>\n",
       "      <td>C3</td>\n",
       "      <td>HR Specialist</td>\n",
       "      <td>10+ years</td>\n",
       "      <td>MORTGAGE</td>\n",
       "      <td>86788.0</td>\n",
       "    </tr>\n",
       "    <tr>\n",
       "      <th>6</th>\n",
       "      <td>18000.0</td>\n",
       "      <td>36 months</td>\n",
       "      <td>5.32</td>\n",
       "      <td>542.07</td>\n",
       "      <td>A</td>\n",
       "      <td>A1</td>\n",
       "      <td>Software Development Engineer</td>\n",
       "      <td>2 years</td>\n",
       "      <td>MORTGAGE</td>\n",
       "      <td>125000.0</td>\n",
       "    </tr>\n",
       "    <tr>\n",
       "      <th>7</th>\n",
       "      <td>13000.0</td>\n",
       "      <td>36 months</td>\n",
       "      <td>11.14</td>\n",
       "      <td>426.47</td>\n",
       "      <td>B</td>\n",
       "      <td>B2</td>\n",
       "      <td>Office Depot</td>\n",
       "      <td>10+ years</td>\n",
       "      <td>RENT</td>\n",
       "      <td>46000.0</td>\n",
       "    </tr>\n",
       "    <tr>\n",
       "      <th>8</th>\n",
       "      <td>18900.0</td>\n",
       "      <td>60 months</td>\n",
       "      <td>10.99</td>\n",
       "      <td>410.84</td>\n",
       "      <td>B</td>\n",
       "      <td>B3</td>\n",
       "      <td>Application Architect</td>\n",
       "      <td>10+ years</td>\n",
       "      <td>RENT</td>\n",
       "      <td>103000.0</td>\n",
       "    </tr>\n",
       "    <tr>\n",
       "      <th>9</th>\n",
       "      <td>26300.0</td>\n",
       "      <td>36 months</td>\n",
       "      <td>16.29</td>\n",
       "      <td>928.40</td>\n",
       "      <td>C</td>\n",
       "      <td>C5</td>\n",
       "      <td>Regado Biosciences</td>\n",
       "      <td>3 years</td>\n",
       "      <td>MORTGAGE</td>\n",
       "      <td>115000.0</td>\n",
       "    </tr>\n",
       "  </tbody>\n",
       "</table>\n",
       "</div>"
      ],
      "text/plain": [
       "   loan_amnt        term  int_rate  installment grade sub_grade  \\\n",
       "0    10000.0   36 months     11.44       329.48     B        B4   \n",
       "1     8000.0   36 months     11.99       265.68     B        B5   \n",
       "2    15600.0   36 months     10.49       506.97     B        B3   \n",
       "3     7200.0   36 months      6.49       220.65     A        A2   \n",
       "4    24375.0   60 months     17.27       609.33     C        C5   \n",
       "5    20000.0   36 months     13.33       677.07     C        C3   \n",
       "6    18000.0   36 months      5.32       542.07     A        A1   \n",
       "7    13000.0   36 months     11.14       426.47     B        B2   \n",
       "8    18900.0   60 months     10.99       410.84     B        B3   \n",
       "9    26300.0   36 months     16.29       928.40     C        C5   \n",
       "\n",
       "                       emp_title emp_length home_ownership  annual_inc  \n",
       "0                      Marketing  10+ years           RENT    117000.0  \n",
       "1                Credit analyst     4 years       MORTGAGE     65000.0  \n",
       "2                   Statistician   < 1 year           RENT     43057.0  \n",
       "3                Client Advocate    6 years           RENT     54000.0  \n",
       "4        Destiny Management Inc.    9 years       MORTGAGE     55000.0  \n",
       "5                  HR Specialist  10+ years       MORTGAGE     86788.0  \n",
       "6  Software Development Engineer    2 years       MORTGAGE    125000.0  \n",
       "7                   Office Depot  10+ years           RENT     46000.0  \n",
       "8          Application Architect  10+ years           RENT    103000.0  \n",
       "9             Regado Biosciences    3 years       MORTGAGE    115000.0  "
      ]
     },
     "execution_count": 49,
     "metadata": {},
     "output_type": "execute_result"
    }
   ],
   "source": [
    "loan.iloc[0:10, 0:10]"
   ]
  },
  {
   "cell_type": "code",
   "execution_count": 50,
   "id": "97a459eb",
   "metadata": {},
   "outputs": [
    {
     "data": {
      "text/html": [
       "<div>\n",
       "<style scoped>\n",
       "    .dataframe tbody tr th:only-of-type {\n",
       "        vertical-align: middle;\n",
       "    }\n",
       "\n",
       "    .dataframe tbody tr th {\n",
       "        vertical-align: top;\n",
       "    }\n",
       "\n",
       "    .dataframe thead th {\n",
       "        text-align: right;\n",
       "    }\n",
       "</style>\n",
       "<table border=\"1\" class=\"dataframe\">\n",
       "  <thead>\n",
       "    <tr style=\"text-align: right;\">\n",
       "      <th></th>\n",
       "      <th>verification_status</th>\n",
       "      <th>issue_d</th>\n",
       "      <th>loan_status</th>\n",
       "      <th>purpose</th>\n",
       "      <th>title</th>\n",
       "      <th>dti</th>\n",
       "      <th>earliest_cr_line</th>\n",
       "      <th>open_acc</th>\n",
       "      <th>pub_rec</th>\n",
       "      <th>revol_bal</th>\n",
       "      <th>revol_util</th>\n",
       "      <th>total_acc</th>\n",
       "      <th>initial_list_status</th>\n",
       "      <th>application_type</th>\n",
       "      <th>mort_acc</th>\n",
       "      <th>pub_rec_bankruptcies</th>\n",
       "      <th>address</th>\n",
       "    </tr>\n",
       "  </thead>\n",
       "  <tbody>\n",
       "    <tr>\n",
       "      <th>0</th>\n",
       "      <td>Not Verified</td>\n",
       "      <td>Jan-2015</td>\n",
       "      <td>Fully Paid</td>\n",
       "      <td>vacation</td>\n",
       "      <td>Vacation</td>\n",
       "      <td>26.24</td>\n",
       "      <td>Jun-1990</td>\n",
       "      <td>16.0</td>\n",
       "      <td>0.0</td>\n",
       "      <td>36369.0</td>\n",
       "      <td>41.8</td>\n",
       "      <td>25.0</td>\n",
       "      <td>w</td>\n",
       "      <td>INDIVIDUAL</td>\n",
       "      <td>0.0</td>\n",
       "      <td>0.0</td>\n",
       "      <td>0174 Michelle Gateway\\r\\nMendozaberg, OK 22690</td>\n",
       "    </tr>\n",
       "    <tr>\n",
       "      <th>1</th>\n",
       "      <td>Not Verified</td>\n",
       "      <td>Jan-2015</td>\n",
       "      <td>Fully Paid</td>\n",
       "      <td>debt_consolidation</td>\n",
       "      <td>Debt consolidation</td>\n",
       "      <td>22.05</td>\n",
       "      <td>Jul-2004</td>\n",
       "      <td>17.0</td>\n",
       "      <td>0.0</td>\n",
       "      <td>20131.0</td>\n",
       "      <td>53.3</td>\n",
       "      <td>27.0</td>\n",
       "      <td>f</td>\n",
       "      <td>INDIVIDUAL</td>\n",
       "      <td>3.0</td>\n",
       "      <td>0.0</td>\n",
       "      <td>1076 Carney Fort Apt. 347\\r\\nLoganmouth, SD 05113</td>\n",
       "    </tr>\n",
       "    <tr>\n",
       "      <th>2</th>\n",
       "      <td>Source Verified</td>\n",
       "      <td>Jan-2015</td>\n",
       "      <td>Fully Paid</td>\n",
       "      <td>credit_card</td>\n",
       "      <td>Credit card refinancing</td>\n",
       "      <td>12.79</td>\n",
       "      <td>Aug-2007</td>\n",
       "      <td>13.0</td>\n",
       "      <td>0.0</td>\n",
       "      <td>11987.0</td>\n",
       "      <td>92.2</td>\n",
       "      <td>26.0</td>\n",
       "      <td>f</td>\n",
       "      <td>INDIVIDUAL</td>\n",
       "      <td>0.0</td>\n",
       "      <td>0.0</td>\n",
       "      <td>87025 Mark Dale Apt. 269\\r\\nNew Sabrina, WV 05113</td>\n",
       "    </tr>\n",
       "    <tr>\n",
       "      <th>3</th>\n",
       "      <td>Not Verified</td>\n",
       "      <td>Nov-2014</td>\n",
       "      <td>Fully Paid</td>\n",
       "      <td>credit_card</td>\n",
       "      <td>Credit card refinancing</td>\n",
       "      <td>2.60</td>\n",
       "      <td>Sep-2006</td>\n",
       "      <td>6.0</td>\n",
       "      <td>0.0</td>\n",
       "      <td>5472.0</td>\n",
       "      <td>21.5</td>\n",
       "      <td>13.0</td>\n",
       "      <td>f</td>\n",
       "      <td>INDIVIDUAL</td>\n",
       "      <td>0.0</td>\n",
       "      <td>0.0</td>\n",
       "      <td>823 Reid Ford\\r\\nDelacruzside, MA 00813</td>\n",
       "    </tr>\n",
       "    <tr>\n",
       "      <th>4</th>\n",
       "      <td>Verified</td>\n",
       "      <td>Apr-2013</td>\n",
       "      <td>Charged Off</td>\n",
       "      <td>credit_card</td>\n",
       "      <td>Credit Card Refinance</td>\n",
       "      <td>33.95</td>\n",
       "      <td>Mar-1999</td>\n",
       "      <td>13.0</td>\n",
       "      <td>0.0</td>\n",
       "      <td>24584.0</td>\n",
       "      <td>69.8</td>\n",
       "      <td>43.0</td>\n",
       "      <td>f</td>\n",
       "      <td>INDIVIDUAL</td>\n",
       "      <td>1.0</td>\n",
       "      <td>0.0</td>\n",
       "      <td>679 Luna Roads\\r\\nGreggshire, VA 11650</td>\n",
       "    </tr>\n",
       "    <tr>\n",
       "      <th>5</th>\n",
       "      <td>Verified</td>\n",
       "      <td>Sep-2015</td>\n",
       "      <td>Fully Paid</td>\n",
       "      <td>debt_consolidation</td>\n",
       "      <td>Debt consolidation</td>\n",
       "      <td>16.31</td>\n",
       "      <td>Jan-2005</td>\n",
       "      <td>8.0</td>\n",
       "      <td>0.0</td>\n",
       "      <td>25757.0</td>\n",
       "      <td>100.6</td>\n",
       "      <td>23.0</td>\n",
       "      <td>f</td>\n",
       "      <td>INDIVIDUAL</td>\n",
       "      <td>4.0</td>\n",
       "      <td>0.0</td>\n",
       "      <td>1726 Cooper Passage Suite 129\\r\\nNorth Deniseb...</td>\n",
       "    </tr>\n",
       "    <tr>\n",
       "      <th>6</th>\n",
       "      <td>Source Verified</td>\n",
       "      <td>Sep-2015</td>\n",
       "      <td>Fully Paid</td>\n",
       "      <td>home_improvement</td>\n",
       "      <td>Home improvement</td>\n",
       "      <td>1.36</td>\n",
       "      <td>Aug-2005</td>\n",
       "      <td>8.0</td>\n",
       "      <td>0.0</td>\n",
       "      <td>4178.0</td>\n",
       "      <td>4.9</td>\n",
       "      <td>25.0</td>\n",
       "      <td>f</td>\n",
       "      <td>INDIVIDUAL</td>\n",
       "      <td>3.0</td>\n",
       "      <td>0.0</td>\n",
       "      <td>1008 Erika Vista Suite 748\\r\\nEast Stephanie, ...</td>\n",
       "    </tr>\n",
       "    <tr>\n",
       "      <th>7</th>\n",
       "      <td>Not Verified</td>\n",
       "      <td>Sep-2012</td>\n",
       "      <td>Fully Paid</td>\n",
       "      <td>credit_card</td>\n",
       "      <td>No More Credit Cards</td>\n",
       "      <td>26.87</td>\n",
       "      <td>Sep-1994</td>\n",
       "      <td>11.0</td>\n",
       "      <td>0.0</td>\n",
       "      <td>13425.0</td>\n",
       "      <td>64.5</td>\n",
       "      <td>15.0</td>\n",
       "      <td>f</td>\n",
       "      <td>INDIVIDUAL</td>\n",
       "      <td>0.0</td>\n",
       "      <td>0.0</td>\n",
       "      <td>USCGC Nunez\\r\\nFPO AE 30723</td>\n",
       "    </tr>\n",
       "    <tr>\n",
       "      <th>8</th>\n",
       "      <td>Verified</td>\n",
       "      <td>Oct-2014</td>\n",
       "      <td>Fully Paid</td>\n",
       "      <td>debt_consolidation</td>\n",
       "      <td>Debt consolidation</td>\n",
       "      <td>12.52</td>\n",
       "      <td>Jun-1994</td>\n",
       "      <td>13.0</td>\n",
       "      <td>0.0</td>\n",
       "      <td>18637.0</td>\n",
       "      <td>32.9</td>\n",
       "      <td>40.0</td>\n",
       "      <td>w</td>\n",
       "      <td>INDIVIDUAL</td>\n",
       "      <td>3.0</td>\n",
       "      <td>0.0</td>\n",
       "      <td>USCGC Tran\\r\\nFPO AP 22690</td>\n",
       "    </tr>\n",
       "    <tr>\n",
       "      <th>9</th>\n",
       "      <td>Verified</td>\n",
       "      <td>Apr-2012</td>\n",
       "      <td>Fully Paid</td>\n",
       "      <td>debt_consolidation</td>\n",
       "      <td>Debt Consolidation</td>\n",
       "      <td>23.69</td>\n",
       "      <td>Dec-1997</td>\n",
       "      <td>13.0</td>\n",
       "      <td>0.0</td>\n",
       "      <td>22171.0</td>\n",
       "      <td>82.4</td>\n",
       "      <td>37.0</td>\n",
       "      <td>f</td>\n",
       "      <td>INDIVIDUAL</td>\n",
       "      <td>1.0</td>\n",
       "      <td>0.0</td>\n",
       "      <td>3390 Luis Rue\\r\\nMauricestad, VA 00813</td>\n",
       "    </tr>\n",
       "  </tbody>\n",
       "</table>\n",
       "</div>"
      ],
      "text/plain": [
       "  verification_status   issue_d  loan_status             purpose  \\\n",
       "0        Not Verified  Jan-2015   Fully Paid            vacation   \n",
       "1        Not Verified  Jan-2015   Fully Paid  debt_consolidation   \n",
       "2     Source Verified  Jan-2015   Fully Paid         credit_card   \n",
       "3        Not Verified  Nov-2014   Fully Paid         credit_card   \n",
       "4            Verified  Apr-2013  Charged Off         credit_card   \n",
       "5            Verified  Sep-2015   Fully Paid  debt_consolidation   \n",
       "6     Source Verified  Sep-2015   Fully Paid    home_improvement   \n",
       "7        Not Verified  Sep-2012   Fully Paid         credit_card   \n",
       "8            Verified  Oct-2014   Fully Paid  debt_consolidation   \n",
       "9            Verified  Apr-2012   Fully Paid  debt_consolidation   \n",
       "\n",
       "                     title    dti earliest_cr_line  open_acc  pub_rec  \\\n",
       "0                 Vacation  26.24         Jun-1990      16.0      0.0   \n",
       "1       Debt consolidation  22.05         Jul-2004      17.0      0.0   \n",
       "2  Credit card refinancing  12.79         Aug-2007      13.0      0.0   \n",
       "3  Credit card refinancing   2.60         Sep-2006       6.0      0.0   \n",
       "4    Credit Card Refinance  33.95         Mar-1999      13.0      0.0   \n",
       "5       Debt consolidation  16.31         Jan-2005       8.0      0.0   \n",
       "6         Home improvement   1.36         Aug-2005       8.0      0.0   \n",
       "7     No More Credit Cards  26.87         Sep-1994      11.0      0.0   \n",
       "8       Debt consolidation  12.52         Jun-1994      13.0      0.0   \n",
       "9       Debt Consolidation  23.69         Dec-1997      13.0      0.0   \n",
       "\n",
       "   revol_bal  revol_util  total_acc initial_list_status application_type  \\\n",
       "0    36369.0        41.8       25.0                   w       INDIVIDUAL   \n",
       "1    20131.0        53.3       27.0                   f       INDIVIDUAL   \n",
       "2    11987.0        92.2       26.0                   f       INDIVIDUAL   \n",
       "3     5472.0        21.5       13.0                   f       INDIVIDUAL   \n",
       "4    24584.0        69.8       43.0                   f       INDIVIDUAL   \n",
       "5    25757.0       100.6       23.0                   f       INDIVIDUAL   \n",
       "6     4178.0         4.9       25.0                   f       INDIVIDUAL   \n",
       "7    13425.0        64.5       15.0                   f       INDIVIDUAL   \n",
       "8    18637.0        32.9       40.0                   w       INDIVIDUAL   \n",
       "9    22171.0        82.4       37.0                   f       INDIVIDUAL   \n",
       "\n",
       "   mort_acc  pub_rec_bankruptcies  \\\n",
       "0       0.0                   0.0   \n",
       "1       3.0                   0.0   \n",
       "2       0.0                   0.0   \n",
       "3       0.0                   0.0   \n",
       "4       1.0                   0.0   \n",
       "5       4.0                   0.0   \n",
       "6       3.0                   0.0   \n",
       "7       0.0                   0.0   \n",
       "8       3.0                   0.0   \n",
       "9       1.0                   0.0   \n",
       "\n",
       "                                             address  \n",
       "0     0174 Michelle Gateway\\r\\nMendozaberg, OK 22690  \n",
       "1  1076 Carney Fort Apt. 347\\r\\nLoganmouth, SD 05113  \n",
       "2  87025 Mark Dale Apt. 269\\r\\nNew Sabrina, WV 05113  \n",
       "3            823 Reid Ford\\r\\nDelacruzside, MA 00813  \n",
       "4             679 Luna Roads\\r\\nGreggshire, VA 11650  \n",
       "5  1726 Cooper Passage Suite 129\\r\\nNorth Deniseb...  \n",
       "6  1008 Erika Vista Suite 748\\r\\nEast Stephanie, ...  \n",
       "7                        USCGC Nunez\\r\\nFPO AE 30723  \n",
       "8                         USCGC Tran\\r\\nFPO AP 22690  \n",
       "9             3390 Luis Rue\\r\\nMauricestad, VA 00813  "
      ]
     },
     "execution_count": 50,
     "metadata": {},
     "output_type": "execute_result"
    }
   ],
   "source": [
    "loan.iloc[0:10, 10:]"
   ]
  },
  {
   "cell_type": "markdown",
   "id": "3f685487",
   "metadata": {},
   "source": [
    "### Data Preprocessing"
   ]
  },
  {
   "cell_type": "markdown",
   "id": "188194bd",
   "metadata": {},
   "source": [
    "#### Remapping Target Variable Values"
   ]
  },
  {
   "cell_type": "code",
   "execution_count": 51,
   "id": "dd54623e",
   "metadata": {},
   "outputs": [],
   "source": [
    "loan['loan_status'].replace(to_replace='Fully Paid', value=1, inplace=True)\n",
    "loan['loan_status'].replace(to_replace='Charged Off', value=0, inplace=True)"
   ]
  },
  {
   "cell_type": "markdown",
   "id": "40f8e777",
   "metadata": {},
   "source": [
    "#### Count of Nulls"
   ]
  },
  {
   "cell_type": "code",
   "execution_count": 52,
   "id": "8be21523",
   "metadata": {},
   "outputs": [
    {
     "data": {
      "text/plain": [
       "loan_amnt                   0\n",
       "term                        0\n",
       "int_rate                    0\n",
       "installment                 0\n",
       "grade                       0\n",
       "sub_grade                   0\n",
       "emp_title               22927\n",
       "emp_length              18301\n",
       "home_ownership              0\n",
       "annual_inc                  0\n",
       "verification_status         0\n",
       "issue_d                     0\n",
       "loan_status                 0\n",
       "purpose                     0\n",
       "title                    1756\n",
       "dti                         0\n",
       "earliest_cr_line            0\n",
       "open_acc                    0\n",
       "pub_rec                     0\n",
       "revol_bal                   0\n",
       "revol_util                276\n",
       "total_acc                   0\n",
       "initial_list_status         0\n",
       "application_type            0\n",
       "mort_acc                37795\n",
       "pub_rec_bankruptcies      535\n",
       "address                     0\n",
       "dtype: int64"
      ]
     },
     "execution_count": 52,
     "metadata": {},
     "output_type": "execute_result"
    }
   ],
   "source": [
    "loan.isnull().sum()"
   ]
  },
  {
   "cell_type": "markdown",
   "id": "178cfdd7",
   "metadata": {},
   "source": [
    "#### Percentage of Nulls"
   ]
  },
  {
   "cell_type": "code",
   "execution_count": 53,
   "id": "25f12f05",
   "metadata": {},
   "outputs": [
    {
     "data": {
      "text/plain": [
       "loan_amnt               0.000000\n",
       "term                    0.000000\n",
       "int_rate                0.000000\n",
       "installment             0.000000\n",
       "grade                   0.000000\n",
       "sub_grade               0.000000\n",
       "emp_title               5.789208\n",
       "emp_length              4.621115\n",
       "home_ownership          0.000000\n",
       "annual_inc              0.000000\n",
       "verification_status     0.000000\n",
       "issue_d                 0.000000\n",
       "loan_status             0.000000\n",
       "purpose                 0.000000\n",
       "title                   0.443401\n",
       "dti                     0.000000\n",
       "earliest_cr_line        0.000000\n",
       "open_acc                0.000000\n",
       "pub_rec                 0.000000\n",
       "revol_bal               0.000000\n",
       "revol_util              0.069692\n",
       "total_acc               0.000000\n",
       "initial_list_status     0.000000\n",
       "application_type        0.000000\n",
       "mort_acc                9.543469\n",
       "pub_rec_bankruptcies    0.135091\n",
       "address                 0.000000\n",
       "dtype: float64"
      ]
     },
     "execution_count": 53,
     "metadata": {},
     "output_type": "execute_result"
    }
   ],
   "source": [
    "100*loan.isnull().sum()/len(loan)"
   ]
  },
  {
   "cell_type": "markdown",
   "id": "fb188a07",
   "metadata": {},
   "source": [
    "#### Dropping columns not required for analysis"
   ]
  },
  {
   "cell_type": "code",
   "execution_count": 54,
   "id": "b8f85668-9836-4639-9d94-1bee7c9d02be",
   "metadata": {},
   "outputs": [],
   "source": [
    "from sklearn.impute import SimpleImputer,KNNImputer"
   ]
  },
  {
   "cell_type": "code",
   "execution_count": 55,
   "id": "ec41ebe7-fc20-4a3c-a8dc-86a4243c5ae8",
   "metadata": {
    "scrolled": true
   },
   "outputs": [
    {
     "data": {
      "text/plain": [
       "loan_amnt               float64\n",
       "term                     object\n",
       "int_rate                float64\n",
       "installment             float64\n",
       "grade                    object\n",
       "sub_grade                object\n",
       "emp_title                object\n",
       "emp_length               object\n",
       "home_ownership           object\n",
       "annual_inc              float64\n",
       "verification_status      object\n",
       "issue_d                  object\n",
       "loan_status               int64\n",
       "purpose                  object\n",
       "title                    object\n",
       "dti                     float64\n",
       "earliest_cr_line         object\n",
       "open_acc                float64\n",
       "pub_rec                 float64\n",
       "revol_bal               float64\n",
       "revol_util              float64\n",
       "total_acc               float64\n",
       "initial_list_status      object\n",
       "application_type         object\n",
       "mort_acc                float64\n",
       "pub_rec_bankruptcies    float64\n",
       "address                  object\n",
       "dtype: object"
      ]
     },
     "execution_count": 55,
     "metadata": {},
     "output_type": "execute_result"
    }
   ],
   "source": [
    "loan.dtypes"
   ]
  },
  {
   "cell_type": "code",
   "execution_count": 59,
   "id": "dff2dafd-5831-4b44-937c-34456b521637",
   "metadata": {},
   "outputs": [
    {
     "data": {
      "text/plain": [
       "Index(['loan_amnt', 'term', 'int_rate', 'installment', 'grade', 'sub_grade',\n",
       "       'emp_title', 'emp_length', 'home_ownership', 'annual_inc',\n",
       "       'verification_status', 'issue_d', 'loan_status', 'purpose', 'title',\n",
       "       'dti', 'earliest_cr_line', 'open_acc', 'pub_rec', 'revol_bal',\n",
       "       'revol_util', 'total_acc', 'initial_list_status', 'application_type',\n",
       "       'mort_acc', 'pub_rec_bankruptcies', 'address'],\n",
       "      dtype='object')"
      ]
     },
     "execution_count": 59,
     "metadata": {},
     "output_type": "execute_result"
    }
   ],
   "source": [
    "loan.columns"
   ]
  },
  {
   "cell_type": "code",
   "execution_count": 60,
   "id": "e94f32e2-f802-466b-98e1-39db242e2386",
   "metadata": {},
   "outputs": [],
   "source": [
    "X_im=loan[['loan_amnt','int_rate','installment','annual_inc','mort_acc','pub_rec_bankruptcies']]\n",
    "y_im=loan['loan_status']"
   ]
  },
  {
   "cell_type": "code",
   "execution_count": 61,
   "id": "185bae70-6fb9-44ec-acd2-d4116d8e8e88",
   "metadata": {},
   "outputs": [],
   "source": [
    "knn_im=KNNImputer()\n",
    "X_im_2=knn_im.fit_transform(X_im)"
   ]
  },
  {
   "cell_type": "code",
   "execution_count": 63,
   "id": "c28d78e8-2109-4e99-a175-3026b560e3f0",
   "metadata": {},
   "outputs": [
    {
     "data": {
      "text/html": [
       "<div>\n",
       "<style scoped>\n",
       "    .dataframe tbody tr th:only-of-type {\n",
       "        vertical-align: middle;\n",
       "    }\n",
       "\n",
       "    .dataframe tbody tr th {\n",
       "        vertical-align: top;\n",
       "    }\n",
       "\n",
       "    .dataframe thead th {\n",
       "        text-align: right;\n",
       "    }\n",
       "</style>\n",
       "<table border=\"1\" class=\"dataframe\">\n",
       "  <thead>\n",
       "    <tr style=\"text-align: right;\">\n",
       "      <th></th>\n",
       "      <th>loan_amnt</th>\n",
       "      <th>int_rate</th>\n",
       "      <th>installment</th>\n",
       "      <th>annual_inc</th>\n",
       "      <th>mort_acc</th>\n",
       "      <th>pub_rec_bankruptcies</th>\n",
       "    </tr>\n",
       "  </thead>\n",
       "  <tbody>\n",
       "    <tr>\n",
       "      <th>0</th>\n",
       "      <td>10000.0</td>\n",
       "      <td>11.44</td>\n",
       "      <td>329.48</td>\n",
       "      <td>117000.0</td>\n",
       "      <td>0.0</td>\n",
       "      <td>0.0</td>\n",
       "    </tr>\n",
       "    <tr>\n",
       "      <th>1</th>\n",
       "      <td>8000.0</td>\n",
       "      <td>11.99</td>\n",
       "      <td>265.68</td>\n",
       "      <td>65000.0</td>\n",
       "      <td>3.0</td>\n",
       "      <td>0.0</td>\n",
       "    </tr>\n",
       "    <tr>\n",
       "      <th>2</th>\n",
       "      <td>15600.0</td>\n",
       "      <td>10.49</td>\n",
       "      <td>506.97</td>\n",
       "      <td>43057.0</td>\n",
       "      <td>0.0</td>\n",
       "      <td>0.0</td>\n",
       "    </tr>\n",
       "    <tr>\n",
       "      <th>3</th>\n",
       "      <td>7200.0</td>\n",
       "      <td>6.49</td>\n",
       "      <td>220.65</td>\n",
       "      <td>54000.0</td>\n",
       "      <td>0.0</td>\n",
       "      <td>0.0</td>\n",
       "    </tr>\n",
       "    <tr>\n",
       "      <th>4</th>\n",
       "      <td>24375.0</td>\n",
       "      <td>17.27</td>\n",
       "      <td>609.33</td>\n",
       "      <td>55000.0</td>\n",
       "      <td>1.0</td>\n",
       "      <td>0.0</td>\n",
       "    </tr>\n",
       "    <tr>\n",
       "      <th>...</th>\n",
       "      <td>...</td>\n",
       "      <td>...</td>\n",
       "      <td>...</td>\n",
       "      <td>...</td>\n",
       "      <td>...</td>\n",
       "      <td>...</td>\n",
       "    </tr>\n",
       "    <tr>\n",
       "      <th>396025</th>\n",
       "      <td>10000.0</td>\n",
       "      <td>10.99</td>\n",
       "      <td>217.38</td>\n",
       "      <td>40000.0</td>\n",
       "      <td>0.0</td>\n",
       "      <td>0.0</td>\n",
       "    </tr>\n",
       "    <tr>\n",
       "      <th>396026</th>\n",
       "      <td>21000.0</td>\n",
       "      <td>12.29</td>\n",
       "      <td>700.42</td>\n",
       "      <td>110000.0</td>\n",
       "      <td>1.0</td>\n",
       "      <td>0.0</td>\n",
       "    </tr>\n",
       "    <tr>\n",
       "      <th>396027</th>\n",
       "      <td>5000.0</td>\n",
       "      <td>9.99</td>\n",
       "      <td>161.32</td>\n",
       "      <td>56500.0</td>\n",
       "      <td>0.0</td>\n",
       "      <td>0.0</td>\n",
       "    </tr>\n",
       "    <tr>\n",
       "      <th>396028</th>\n",
       "      <td>21000.0</td>\n",
       "      <td>15.31</td>\n",
       "      <td>503.02</td>\n",
       "      <td>64000.0</td>\n",
       "      <td>5.0</td>\n",
       "      <td>0.0</td>\n",
       "    </tr>\n",
       "    <tr>\n",
       "      <th>396029</th>\n",
       "      <td>2000.0</td>\n",
       "      <td>13.61</td>\n",
       "      <td>67.98</td>\n",
       "      <td>42996.0</td>\n",
       "      <td>0.8</td>\n",
       "      <td>0.0</td>\n",
       "    </tr>\n",
       "  </tbody>\n",
       "</table>\n",
       "<p>396030 rows × 6 columns</p>\n",
       "</div>"
      ],
      "text/plain": [
       "        loan_amnt  int_rate  installment  annual_inc  mort_acc  \\\n",
       "0         10000.0     11.44       329.48    117000.0       0.0   \n",
       "1          8000.0     11.99       265.68     65000.0       3.0   \n",
       "2         15600.0     10.49       506.97     43057.0       0.0   \n",
       "3          7200.0      6.49       220.65     54000.0       0.0   \n",
       "4         24375.0     17.27       609.33     55000.0       1.0   \n",
       "...           ...       ...          ...         ...       ...   \n",
       "396025    10000.0     10.99       217.38     40000.0       0.0   \n",
       "396026    21000.0     12.29       700.42    110000.0       1.0   \n",
       "396027     5000.0      9.99       161.32     56500.0       0.0   \n",
       "396028    21000.0     15.31       503.02     64000.0       5.0   \n",
       "396029     2000.0     13.61        67.98     42996.0       0.8   \n",
       "\n",
       "        pub_rec_bankruptcies  \n",
       "0                        0.0  \n",
       "1                        0.0  \n",
       "2                        0.0  \n",
       "3                        0.0  \n",
       "4                        0.0  \n",
       "...                      ...  \n",
       "396025                   0.0  \n",
       "396026                   0.0  \n",
       "396027                   0.0  \n",
       "396028                   0.0  \n",
       "396029                   0.0  \n",
       "\n",
       "[396030 rows x 6 columns]"
      ]
     },
     "execution_count": 63,
     "metadata": {},
     "output_type": "execute_result"
    }
   ],
   "source": [
    "pd.DataFrame(X_im_2,columns=X_im.columns)"
   ]
  },
  {
   "cell_type": "code",
   "execution_count": 9,
   "id": "3f15f647",
   "metadata": {},
   "outputs": [
    {
     "data": {
      "text/plain": [
       "emp_title\n",
       "Teacher                    4389\n",
       "Manager                    4250\n",
       "Registered Nurse           1856\n",
       "RN                         1846\n",
       "Supervisor                 1830\n",
       "                           ... \n",
       "Postman                       1\n",
       "McCarthy & Holthus, LLC       1\n",
       "jp flooring                   1\n",
       "Histology Technologist        1\n",
       "Gracon Services, Inc          1\n",
       "Name: count, Length: 173105, dtype: int64"
      ]
     },
     "execution_count": 9,
     "metadata": {},
     "output_type": "execute_result"
    }
   ],
   "source": [
    "loan['emp_title'].value_counts()"
   ]
  },
  {
   "cell_type": "markdown",
   "id": "4219de0d",
   "metadata": {},
   "source": [
    "Too many unique job titles to convert to a dummy variable feature. Removing emp_title column."
   ]
  },
  {
   "cell_type": "code",
   "execution_count": 10,
   "id": "1079e93a",
   "metadata": {},
   "outputs": [],
   "source": [
    "loan = loan.drop('emp_title',axis=1)"
   ]
  },
  {
   "cell_type": "code",
   "execution_count": 11,
   "id": "078fb6b9",
   "metadata": {},
   "outputs": [
    {
     "data": {
      "text/plain": [
       "<Axes: xlabel='emp_length', ylabel='loan_status'>"
      ]
     },
     "execution_count": 11,
     "metadata": {},
     "output_type": "execute_result"
    },
    {
     "data": {
      "image/png": "[encoded data removed]",
      "text/plain": [
       "<Figure size 640x480 with 1 Axes>"
      ]
     },
     "metadata": {},
     "output_type": "display_data"
    }
   ],
   "source": [
    "emp_co = loan[loan['loan_status']==0].groupby(\"emp_length\").count()['loan_status']\n",
    "emp_fp = loan[loan['loan_status']==1].groupby(\"emp_length\").count()['loan_status']\n",
    "emp_len = emp_co/emp_fp\n",
    "emp_len\n",
    "sns.barplot(emp_len)"
   ]
  },
  {
   "cell_type": "markdown",
   "id": "4211ebc9",
   "metadata": {},
   "source": [
    "Charge off rates are similar across all employment lengths. Dropping the emp_length column."
   ]
  },
  {
   "cell_type": "code",
   "execution_count": 12,
   "id": "82e4f0aa",
   "metadata": {},
   "outputs": [],
   "source": [
    "loan = loan.drop('emp_length', axis=1)"
   ]
  },
  {
   "cell_type": "code",
   "execution_count": 13,
   "id": "bae4f13a",
   "metadata": {},
   "outputs": [
    {
     "data": {
      "text/plain": [
       "loan_amnt                   0\n",
       "term                        0\n",
       "int_rate                    0\n",
       "installment                 0\n",
       "grade                       0\n",
       "sub_grade                   0\n",
       "home_ownership              0\n",
       "annual_inc                  0\n",
       "verification_status         0\n",
       "issue_d                     0\n",
       "loan_status                 0\n",
       "purpose                     0\n",
       "title                    1756\n",
       "dti                         0\n",
       "earliest_cr_line            0\n",
       "open_acc                    0\n",
       "pub_rec                     0\n",
       "revol_bal                   0\n",
       "revol_util                276\n",
       "total_acc                   0\n",
       "initial_list_status         0\n",
       "application_type            0\n",
       "mort_acc                37795\n",
       "pub_rec_bankruptcies      535\n",
       "address                     0\n",
       "dtype: int64"
      ]
     },
     "execution_count": 13,
     "metadata": {},
     "output_type": "execute_result"
    }
   ],
   "source": [
    "loan.isnull().sum()"
   ]
  },
  {
   "cell_type": "code",
   "execution_count": 14,
   "id": "eb6be137",
   "metadata": {},
   "outputs": [],
   "source": [
    "loan.dropna(inplace=True)"
   ]
  },
  {
   "cell_type": "code",
   "execution_count": 15,
   "id": "e945df06",
   "metadata": {},
   "outputs": [
    {
     "data": {
      "text/plain": [
       "loan_amnt               0\n",
       "term                    0\n",
       "int_rate                0\n",
       "installment             0\n",
       "grade                   0\n",
       "sub_grade               0\n",
       "home_ownership          0\n",
       "annual_inc              0\n",
       "verification_status     0\n",
       "issue_d                 0\n",
       "loan_status             0\n",
       "purpose                 0\n",
       "title                   0\n",
       "dti                     0\n",
       "earliest_cr_line        0\n",
       "open_acc                0\n",
       "pub_rec                 0\n",
       "revol_bal               0\n",
       "revol_util              0\n",
       "total_acc               0\n",
       "initial_list_status     0\n",
       "application_type        0\n",
       "mort_acc                0\n",
       "pub_rec_bankruptcies    0\n",
       "address                 0\n",
       "dtype: int64"
      ]
     },
     "execution_count": 15,
     "metadata": {},
     "output_type": "execute_result"
    }
   ],
   "source": [
    "loan.isnull().sum()"
   ]
  },
  {
   "cell_type": "markdown",
   "id": "52173f8a",
   "metadata": {},
   "source": [
    "Dropping all null rows."
   ]
  },
  {
   "cell_type": "code",
   "execution_count": 16,
   "id": "db6caf12",
   "metadata": {},
   "outputs": [
    {
     "data": {
      "text/plain": [
       "0              vacation\n",
       "1    debt_consolidation\n",
       "2           credit_card\n",
       "3           credit_card\n",
       "4           credit_card\n",
       "5    debt_consolidation\n",
       "6      home_improvement\n",
       "7           credit_card\n",
       "8    debt_consolidation\n",
       "9    debt_consolidation\n",
       "Name: purpose, dtype: object"
      ]
     },
     "execution_count": 16,
     "metadata": {},
     "output_type": "execute_result"
    }
   ],
   "source": [
    "loan['purpose'].head(10)"
   ]
  },
  {
   "cell_type": "code",
   "execution_count": 17,
   "id": "808608af",
   "metadata": {},
   "outputs": [
    {
     "data": {
      "text/plain": [
       "0                   Vacation\n",
       "1         Debt consolidation\n",
       "2    Credit card refinancing\n",
       "3    Credit card refinancing\n",
       "4      Credit Card Refinance\n",
       "5         Debt consolidation\n",
       "6           Home improvement\n",
       "7       No More Credit Cards\n",
       "8         Debt consolidation\n",
       "9         Debt Consolidation\n",
       "Name: title, dtype: object"
      ]
     },
     "execution_count": 17,
     "metadata": {},
     "output_type": "execute_result"
    }
   ],
   "source": [
    "loan['title'].head(10)"
   ]
  },
  {
   "cell_type": "markdown",
   "id": "ff951297",
   "metadata": {},
   "source": [
    "Title column is similar to the purpose column. Dropping the title column."
   ]
  },
  {
   "cell_type": "code",
   "execution_count": 18,
   "id": "f2c9a100",
   "metadata": {},
   "outputs": [],
   "source": [
    "loan = loan.drop('title', axis=1)"
   ]
  },
  {
   "cell_type": "code",
   "execution_count": 19,
   "id": "372801fc",
   "metadata": {},
   "outputs": [
    {
     "data": {
      "text/plain": [
       "mort_acc\n",
       "0.0     139053\n",
       "1.0      60073\n",
       "2.0      49653\n",
       "3.0      37820\n",
       "4.0      27715\n",
       "5.0      18108\n",
       "6.0      11011\n",
       "7.0       6020\n",
       "8.0       3108\n",
       "9.0       1648\n",
       "10.0       862\n",
       "11.0       478\n",
       "12.0       263\n",
       "13.0       146\n",
       "14.0       107\n",
       "15.0        61\n",
       "16.0        37\n",
       "17.0        21\n",
       "18.0        18\n",
       "19.0        15\n",
       "20.0        13\n",
       "24.0        10\n",
       "22.0         7\n",
       "21.0         4\n",
       "25.0         4\n",
       "27.0         3\n",
       "32.0         2\n",
       "31.0         2\n",
       "23.0         2\n",
       "26.0         2\n",
       "28.0         1\n",
       "30.0         1\n",
       "34.0         1\n",
       "Name: count, dtype: int64"
      ]
     },
     "execution_count": 19,
     "metadata": {},
     "output_type": "execute_result"
    }
   ],
   "source": [
    "loan['mort_acc'].value_counts()"
   ]
  },
  {
   "cell_type": "code",
   "execution_count": 20,
   "id": "be4f583f",
   "metadata": {
    "scrolled": true
   },
   "outputs": [
    {
     "data": {
      "text/plain": [
       "term\n",
       "36 months    272387\n",
       "60 months     83882\n",
       "Name: count, dtype: int64"
      ]
     },
     "execution_count": 20,
     "metadata": {},
     "output_type": "execute_result"
    }
   ],
   "source": [
    "loan['term'].value_counts()"
   ]
  },
  {
   "cell_type": "markdown",
   "id": "ed7fd102",
   "metadata": {},
   "source": [
    "Getting number of months from term."
   ]
  },
  {
   "cell_type": "code",
   "execution_count": 21,
   "id": "4c3fcaf9",
   "metadata": {},
   "outputs": [],
   "source": [
    "# loan['term'] = loan['term'].apply(lambda term: int(term[:3]))\n",
    "# loan['term']"
   ]
  },
  {
   "cell_type": "markdown",
   "id": "4b6a98b6",
   "metadata": {},
   "source": [
    "Dropping grade as it is a redundant column."
   ]
  },
  {
   "cell_type": "code",
   "execution_count": 22,
   "id": "bfe844d8",
   "metadata": {},
   "outputs": [],
   "source": [
    "loan = loan.drop('grade',axis=1)"
   ]
  },
  {
   "cell_type": "code",
   "execution_count": 23,
   "id": "09d5b6ee",
   "metadata": {},
   "outputs": [
    {
     "data": {
      "text/plain": [
       "home_ownership\n",
       "MORTGAGE    180682\n",
       "RENT        140983\n",
       "OWN          34538\n",
       "OTHER           34\n",
       "NONE            29\n",
       "ANY              3\n",
       "Name: count, dtype: int64"
      ]
     },
     "execution_count": 23,
     "metadata": {},
     "output_type": "execute_result"
    }
   ],
   "source": [
    "loan['home_ownership'].value_counts()"
   ]
  },
  {
   "cell_type": "markdown",
   "id": "31e0659a",
   "metadata": {},
   "source": [
    "Combining NONE and ANY with OTHER for home_ownership."
   ]
  },
  {
   "cell_type": "code",
   "execution_count": 24,
   "id": "e13593b4",
   "metadata": {},
   "outputs": [],
   "source": [
    "loan['home_ownership'] = loan['home_ownership'].replace(['NONE', 'ANY'], 'OTHER')"
   ]
  },
  {
   "cell_type": "markdown",
   "id": "a52f2afe",
   "metadata": {},
   "source": [
    "Getting last 5 characters of address as zip_code."
   ]
  },
  {
   "cell_type": "code",
   "execution_count": 25,
   "id": "3a5c66c3",
   "metadata": {},
   "outputs": [],
   "source": [
    "loan['zip_code'] = loan['address'].apply(lambda address:address[-5:])"
   ]
  },
  {
   "cell_type": "markdown",
   "id": "1ba16f14",
   "metadata": {},
   "source": [
    "Dropping issue date of loan."
   ]
  },
  {
   "cell_type": "code",
   "execution_count": 26,
   "id": "55ec37e9",
   "metadata": {},
   "outputs": [],
   "source": [
    "loan = loan.drop('issue_d',axis=1)"
   ]
  },
  {
   "cell_type": "markdown",
   "id": "e2ec813b",
   "metadata": {},
   "source": [
    "Getting last 4 characters of earliest_cr_line as earliest_cr_year."
   ]
  },
  {
   "cell_type": "code",
   "execution_count": 27,
   "id": "63bdf107",
   "metadata": {},
   "outputs": [],
   "source": [
    "loan['earliest_cr_year'] = loan['earliest_cr_line'].apply(lambda date:int(date[-4:]))"
   ]
  },
  {
   "cell_type": "code",
   "execution_count": 28,
   "id": "ee0e8c18",
   "metadata": {},
   "outputs": [],
   "source": [
    "loan = loan.drop(['address', 'earliest_cr_line', 'zip_code', 'earliest_cr_year'],axis=1)"
   ]
  },
  {
   "cell_type": "code",
   "execution_count": 29,
   "id": "e28f7eec-52c7-4138-a8ee-4ae575d1bdb5",
   "metadata": {},
   "outputs": [],
   "source": [
    "loan=loan[loan['home_ownership']!='OTHER']"
   ]
  },
  {
   "cell_type": "code",
   "execution_count": 30,
   "id": "7360a5b3-8c78-44a9-8b8c-3752d797b2c1",
   "metadata": {},
   "outputs": [
    {
     "data": {
      "text/plain": [
       "verification_status\n",
       "Verified           126535\n",
       "Source Verified    120488\n",
       "Not Verified       109180\n",
       "Name: count, dtype: int64"
      ]
     },
     "execution_count": 30,
     "metadata": {},
     "output_type": "execute_result"
    }
   ],
   "source": [
    "loan['verification_status'].value_counts()"
   ]
  },
  {
   "cell_type": "code",
   "execution_count": 31,
   "id": "57bb7111-274c-4295-8381-c357bdbe640b",
   "metadata": {},
   "outputs": [
    {
     "data": {
      "text/plain": [
       "array(['Not Verified', 'Source Verified', 'Verified'], dtype='<U15')"
      ]
     },
     "execution_count": 31,
     "metadata": {},
     "output_type": "execute_result"
    }
   ],
   "source": [
    "np.array(sorted(loan['sub_grade'].value_counts().index))\n",
    "np.array(sorted(loan['verification_status'].value_counts().index))"
   ]
  },
  {
   "cell_type": "code",
   "execution_count": 32,
   "id": "c50d7f32-2e5f-4e51-a289-7088929ea94e",
   "metadata": {},
   "outputs": [],
   "source": [
    "from sklearn.preprocessing import OrdinalEncoder"
   ]
  },
  {
   "cell_type": "code",
   "execution_count": 33,
   "id": "d75ddf24-068d-4c28-b294-32e2608ea227",
   "metadata": {},
   "outputs": [],
   "source": [
    "loan=loan.drop('application_type',axis=1) # 99% is individual"
   ]
  },
  {
   "cell_type": "code",
   "execution_count": 34,
   "id": "3e496659-c5b9-42d9-b31e-debe8fa19f63",
   "metadata": {},
   "outputs": [
    {
     "data": {
      "text/plain": [
       "purpose\n",
       "debt_consolidation    60.440255\n",
       "credit_card           21.700828\n",
       "home_improvement       5.950259\n",
       "other                  4.900857\n",
       "major_purchase         1.907620\n",
       "small_business         1.097969\n",
       "medical                0.992692\n",
       "car                    0.917454\n",
       "moving                 0.655806\n",
       "vacation               0.592078\n",
       "house                  0.508699\n",
       "wedding                0.268386\n",
       "renewable_energy       0.066816\n",
       "educational            0.000281\n",
       "Name: count, dtype: float64"
      ]
     },
     "execution_count": 34,
     "metadata": {},
     "output_type": "execute_result"
    }
   ],
   "source": [
    "loan['purpose'].value_counts()/len(loan) * 100"
   ]
  },
  {
   "cell_type": "code",
   "execution_count": 35,
   "id": "9a73fb04-0c85-4a83-a718-6a4130ab8a13",
   "metadata": {},
   "outputs": [
    {
     "data": {
      "text/plain": [
       "array(['debt_consolidation', 'credit_card', 'home_improvement', 'other',\n",
       "       'major_purchase', 'small_business', 'medical', 'car', 'moving',\n",
       "       'vacation', 'house', 'wedding', 'renewable_energy', 'educational'],\n",
       "      dtype=object)"
      ]
     },
     "execution_count": 35,
     "metadata": {},
     "output_type": "execute_result"
    }
   ],
   "source": [
    "np.array(loan['purpose'].value_counts().index)"
   ]
  },
  {
   "cell_type": "code",
   "execution_count": 36,
   "id": "c126b1eb-bdcd-436c-9cb7-9a59402d44f7",
   "metadata": {},
   "outputs": [],
   "source": [
    "loan['purpose'] = loan['purpose'].replace(['major_purchase', 'small_business', 'medical', 'car', 'moving',\n",
    "       'vacation', 'house', 'wedding', 'renewable_energy', 'educational'], 'other')"
   ]
  },
  {
   "cell_type": "code",
   "execution_count": 37,
   "id": "073d075b-82ad-47d4-85d9-970df515db0c",
   "metadata": {},
   "outputs": [
    {
     "data": {
      "text/plain": [
       "purpose\n",
       "debt_consolidation    60.440255\n",
       "credit_card           21.700828\n",
       "other                 11.908659\n",
       "home_improvement       5.950259\n",
       "Name: count, dtype: float64"
      ]
     },
     "execution_count": 37,
     "metadata": {},
     "output_type": "execute_result"
    }
   ],
   "source": [
    "loan['purpose'].value_counts()/len(loan) * 100"
   ]
  },
  {
   "cell_type": "code",
   "execution_count": 38,
   "id": "532368c4",
   "metadata": {},
   "outputs": [
    {
     "data": {
      "text/plain": [
       "Index(['loan_amnt', 'term', 'int_rate', 'installment', 'sub_grade',\n",
       "       'home_ownership', 'annual_inc', 'verification_status', 'loan_status',\n",
       "       'purpose', 'dti', 'open_acc', 'pub_rec', 'revol_bal', 'revol_util',\n",
       "       'total_acc', 'initial_list_status', 'mort_acc', 'pub_rec_bankruptcies'],\n",
       "      dtype='object')"
      ]
     },
     "execution_count": 38,
     "metadata": {},
     "output_type": "execute_result"
    }
   ],
   "source": [
    "loan.columns"
   ]
  },
  {
   "cell_type": "code",
   "execution_count": 39,
   "id": "4bdbd223",
   "metadata": {
    "scrolled": true
   },
   "outputs": [
    {
     "data": {
      "text/plain": [
       "pub_rec\n",
       "0.0     300672\n",
       "1.0      47615\n",
       "2.0       5401\n",
       "3.0       1502\n",
       "4.0        522\n",
       "5.0        235\n",
       "6.0        121\n",
       "7.0         56\n",
       "8.0         34\n",
       "9.0         12\n",
       "10.0        11\n",
       "11.0         7\n",
       "13.0         4\n",
       "12.0         4\n",
       "19.0         2\n",
       "40.0         1\n",
       "17.0         1\n",
       "86.0         1\n",
       "24.0         1\n",
       "15.0         1\n",
       "Name: count, dtype: int64"
      ]
     },
     "execution_count": 39,
     "metadata": {},
     "output_type": "execute_result"
    }
   ],
   "source": [
    "loan['pub_rec'].value_counts()"
   ]
  },
  {
   "cell_type": "code",
   "execution_count": 40,
   "id": "3559abba-b4f3-471f-b110-f9587f8fbfd9",
   "metadata": {},
   "outputs": [],
   "source": [
    "loan['pub_rec'] = loan['pub_rec'].astype(str)"
   ]
  },
  {
   "cell_type": "code",
   "execution_count": 41,
   "id": "4f484a7d-f5bd-46d6-a41d-18f3ae412744",
   "metadata": {},
   "outputs": [
    {
     "data": {
      "text/plain": [
       "array(['0.0', '1.0', '2.0', '3.0', '4.0', '5.0', '6.0', '7.0', '8.0',\n",
       "       '9.0', '10.0', '11.0', '13.0', '12.0', '19.0', '40.0', '17.0',\n",
       "       '86.0', '24.0', '15.0'], dtype=object)"
      ]
     },
     "execution_count": 41,
     "metadata": {},
     "output_type": "execute_result"
    }
   ],
   "source": [
    "np.array(loan['pub_rec'].value_counts().index)"
   ]
  },
  {
   "cell_type": "code",
   "execution_count": 42,
   "id": "724dcf5c-71dc-4258-803c-a0b670301f7f",
   "metadata": {},
   "outputs": [],
   "source": [
    "loan['pub_rec']=loan['pub_rec'].replace([ '2.0', '3.0','4.0', '5.0', '6.0', '7.0', '8.0',\n",
    "       '9.0', '10.0', '11.0', '13.0', '12.0', '19.0', '40.0', '17.0',\n",
    "       '86.0', '24.0', '15.0'],'2+')"
   ]
  },
  {
   "cell_type": "code",
   "execution_count": 43,
   "id": "fea26e6a-5723-4bf0-a166-79e872863efc",
   "metadata": {},
   "outputs": [
    {
     "data": {
      "text/plain": [
       "pub_rec\n",
       "0.0    300672\n",
       "1.0     47615\n",
       "2+       7916\n",
       "Name: count, dtype: int64"
      ]
     },
     "execution_count": 43,
     "metadata": {},
     "output_type": "execute_result"
    }
   ],
   "source": [
    "loan['pub_rec'].value_counts()"
   ]
  },
  {
   "cell_type": "code",
   "execution_count": 44,
   "id": "b3dabe03-2fac-4ec6-8fc8-ae2e3f7d3385",
   "metadata": {},
   "outputs": [
    {
     "data": {
      "text/plain": [
       "Index(['loan_amnt', 'term', 'int_rate', 'installment', 'sub_grade',\n",
       "       'home_ownership', 'annual_inc', 'verification_status', 'loan_status',\n",
       "       'purpose', 'dti', 'open_acc', 'pub_rec', 'revol_bal', 'revol_util',\n",
       "       'total_acc', 'initial_list_status', 'mort_acc', 'pub_rec_bankruptcies'],\n",
       "      dtype='object')"
      ]
     },
     "execution_count": 44,
     "metadata": {},
     "output_type": "execute_result"
    }
   ],
   "source": [
    "loan.columns"
   ]
  },
  {
   "cell_type": "code",
   "execution_count": 45,
   "id": "e19a480e-9354-40f1-87d0-1f4e932bd99b",
   "metadata": {},
   "outputs": [
    {
     "data": {
      "text/plain": [
       "pub_rec_bankruptcies\n",
       "0.0    312833\n",
       "1.0     41066\n",
       "2.0      1830\n",
       "3.0       347\n",
       "4.0        82\n",
       "5.0        32\n",
       "6.0         7\n",
       "7.0         4\n",
       "8.0         2\n",
       "Name: count, dtype: int64"
      ]
     },
     "execution_count": 45,
     "metadata": {},
     "output_type": "execute_result"
    }
   ],
   "source": [
    "loan['pub_rec_bankruptcies'].value_counts()"
   ]
  },
  {
   "cell_type": "code",
   "execution_count": 47,
   "id": "a971e301-b302-48ba-bf47-4270c367563d",
   "metadata": {},
   "outputs": [],
   "source": [
    "loan=loan[loan['pub_rec_bankruptcies']<=2.0]"
   ]
  },
  {
   "cell_type": "code",
   "execution_count": 48,
   "id": "7a34c691-9c91-42c9-a982-6c80586b59a8",
   "metadata": {},
   "outputs": [
    {
     "data": {
      "text/plain": [
       "pub_rec_bankruptcies\n",
       "0.0    312833\n",
       "1.0     41066\n",
       "2.0      1830\n",
       "Name: count, dtype: int64"
      ]
     },
     "execution_count": 48,
     "metadata": {},
     "output_type": "execute_result"
    }
   ],
   "source": [
    "loan['pub_rec_bankruptcies'].value_counts()"
   ]
  },
  {
   "cell_type": "code",
   "execution_count": 45,
   "id": "8db7c6d2-e703-49b5-9366-91e98f211894",
   "metadata": {},
   "outputs": [
    {
     "data": {
      "text/plain": [
       "loan_amnt               0\n",
       "term                    0\n",
       "int_rate                0\n",
       "installment             0\n",
       "sub_grade               0\n",
       "home_ownership          0\n",
       "annual_inc              0\n",
       "verification_status     0\n",
       "loan_status             0\n",
       "purpose                 0\n",
       "dti                     0\n",
       "open_acc                0\n",
       "pub_rec                 0\n",
       "revol_bal               0\n",
       "revol_util              0\n",
       "total_acc               0\n",
       "initial_list_status     0\n",
       "mort_acc                0\n",
       "pub_rec_bankruptcies    0\n",
       "dtype: int64"
      ]
     },
     "execution_count": 45,
     "metadata": {},
     "output_type": "execute_result"
    }
   ],
   "source": [
    "loan.isna().sum()"
   ]
  },
  {
   "cell_type": "code",
   "execution_count": 49,
   "id": "566f5c59-6ff5-4a5f-84f4-ea2801ce233e",
   "metadata": {},
   "outputs": [],
   "source": [
    "# Random sampling"
   ]
  },
  {
   "cell_type": "code",
   "execution_count": 51,
   "id": "09b21b90-80b5-416a-9cd5-3c2f03349df7",
   "metadata": {},
   "outputs": [],
   "source": [
    "import imblearn\n",
    "from imblearn.under_sampling import RandomUnderSampler"
   ]
  },
  {
   "cell_type": "code",
   "execution_count": 53,
   "id": "fd80275c-b0cc-4c74-9568-717fdb8935f4",
   "metadata": {},
   "outputs": [],
   "source": [
    "X_sm=loan.drop('loan_status',axis=1)\n",
    "y_sm=loan['loan_status']"
   ]
  },
  {
   "cell_type": "code",
   "execution_count": 56,
   "id": "9eefff1d-829a-4061-a06b-8d2ff6a5dbc8",
   "metadata": {},
   "outputs": [
    {
     "data": {
      "text/plain": [
       "loan_status\n",
       "1    284101\n",
       "0     71628\n",
       "Name: count, dtype: int64"
      ]
     },
     "execution_count": 56,
     "metadata": {},
     "output_type": "execute_result"
    }
   ],
   "source": [
    "y_sm.value_counts()"
   ]
  },
  {
   "cell_type": "code",
   "execution_count": 59,
   "id": "ae58dea1-332f-4cfa-b3ac-f4eb89efddc2",
   "metadata": {},
   "outputs": [],
   "source": [
    "rus=RandomUnderSampler(sampling_strategy=1)\n",
    "X_rus,y_rus=rus.fit_resample(X_sm,y_sm)"
   ]
  },
  {
   "cell_type": "code",
   "execution_count": 63,
   "id": "99f25734-1a51-4348-be50-edaecab59a5f",
   "metadata": {},
   "outputs": [
    {
     "data": {
      "text/plain": [
       "loan_status\n",
       "0    71628\n",
       "1    71628\n",
       "Name: count, dtype: int64"
      ]
     },
     "execution_count": 63,
     "metadata": {},
     "output_type": "execute_result"
    }
   ],
   "source": [
    "y_rus.value_counts()"
   ]
  },
  {
   "cell_type": "code",
   "execution_count": 65,
   "id": "2306df6b-0824-494e-9c92-19d862c6d086",
   "metadata": {},
   "outputs": [],
   "source": [
    "from imblearn.over_sampling import RandomOverSampler\n",
    "ros=RandomOverSampler(sampling_strategy=1)\n",
    "X_ros,y_ros=ros.fit_resample(X_sm,y_sm)"
   ]
  },
  {
   "cell_type": "code",
   "execution_count": 66,
   "id": "e8300702-10da-4e23-91f1-75b39603334d",
   "metadata": {},
   "outputs": [
    {
     "data": {
      "text/plain": [
       "loan_status\n",
       "1    284101\n",
       "0    284101\n",
       "Name: count, dtype: int64"
      ]
     },
     "execution_count": 66,
     "metadata": {},
     "output_type": "execute_result"
    }
   ],
   "source": [
    "y_ros.value_counts()"
   ]
  },
  {
   "cell_type": "code",
   "execution_count": 48,
   "id": "530b8fca-8965-4c61-ba26-cf8c7f74c6b8",
   "metadata": {},
   "outputs": [],
   "source": [
    "oe=OrdinalEncoder(categories=[['A1', 'A2', 'A3', 'A4', 'A5', 'B1', 'B2', 'B3', 'B4', 'B5', 'C1',\n",
    "       'C2', 'C3', 'C4', 'C5', 'D1', 'D2', 'D3', 'D4', 'D5', 'E1', 'E2',\n",
    "       'E3', 'E4', 'E5', 'F1', 'F2', 'F3', 'F4', 'F5', 'G1', 'G2', 'G3',\n",
    "       'G4', 'G5'],['RENT', 'MORTGAGE', 'OWN'],['Not Verified', 'Source Verified', 'Verified'],['0.0','1.0','2+']])\n",
    "columns_to_encode = ['sub_grade', 'home_ownership', 'verification_status', 'pub_rec']\n",
    "loan[columns_to_encode]= oe.fit_transform(loan[columns_to_encode])"
   ]
  },
  {
   "cell_type": "code",
   "execution_count": 50,
   "id": "2e0071ae-80e4-425a-98dc-fba119a8b7de",
   "metadata": {},
   "outputs": [
    {
     "data": {
      "text/html": [
       "<div>\n",
       "<style scoped>\n",
       "    .dataframe tbody tr th:only-of-type {\n",
       "        vertical-align: middle;\n",
       "    }\n",
       "\n",
       "    .dataframe tbody tr th {\n",
       "        vertical-align: top;\n",
       "    }\n",
       "\n",
       "    .dataframe thead th {\n",
       "        text-align: right;\n",
       "    }\n",
       "</style>\n",
       "<table border=\"1\" class=\"dataframe\">\n",
       "  <thead>\n",
       "    <tr style=\"text-align: right;\">\n",
       "      <th></th>\n",
       "      <th>loan_amnt</th>\n",
       "      <th>term</th>\n",
       "      <th>int_rate</th>\n",
       "      <th>installment</th>\n",
       "      <th>sub_grade</th>\n",
       "      <th>home_ownership</th>\n",
       "      <th>annual_inc</th>\n",
       "      <th>verification_status</th>\n",
       "      <th>loan_status</th>\n",
       "      <th>purpose</th>\n",
       "      <th>dti</th>\n",
       "      <th>open_acc</th>\n",
       "      <th>pub_rec</th>\n",
       "      <th>revol_bal</th>\n",
       "      <th>revol_util</th>\n",
       "      <th>total_acc</th>\n",
       "      <th>initial_list_status</th>\n",
       "      <th>mort_acc</th>\n",
       "      <th>pub_rec_bankruptcies</th>\n",
       "    </tr>\n",
       "  </thead>\n",
       "  <tbody>\n",
       "    <tr>\n",
       "      <th>0</th>\n",
       "      <td>10000.0</td>\n",
       "      <td>36 months</td>\n",
       "      <td>11.44</td>\n",
       "      <td>329.48</td>\n",
       "      <td>8.0</td>\n",
       "      <td>0.0</td>\n",
       "      <td>117000.0</td>\n",
       "      <td>0.0</td>\n",
       "      <td>1</td>\n",
       "      <td>other</td>\n",
       "      <td>26.24</td>\n",
       "      <td>16.0</td>\n",
       "      <td>0.0</td>\n",
       "      <td>36369.0</td>\n",
       "      <td>41.8</td>\n",
       "      <td>25.0</td>\n",
       "      <td>w</td>\n",
       "      <td>0.0</td>\n",
       "      <td>0.0</td>\n",
       "    </tr>\n",
       "    <tr>\n",
       "      <th>1</th>\n",
       "      <td>8000.0</td>\n",
       "      <td>36 months</td>\n",
       "      <td>11.99</td>\n",
       "      <td>265.68</td>\n",
       "      <td>9.0</td>\n",
       "      <td>1.0</td>\n",
       "      <td>65000.0</td>\n",
       "      <td>0.0</td>\n",
       "      <td>1</td>\n",
       "      <td>debt_consolidation</td>\n",
       "      <td>22.05</td>\n",
       "      <td>17.0</td>\n",
       "      <td>0.0</td>\n",
       "      <td>20131.0</td>\n",
       "      <td>53.3</td>\n",
       "      <td>27.0</td>\n",
       "      <td>f</td>\n",
       "      <td>3.0</td>\n",
       "      <td>0.0</td>\n",
       "    </tr>\n",
       "    <tr>\n",
       "      <th>2</th>\n",
       "      <td>15600.0</td>\n",
       "      <td>36 months</td>\n",
       "      <td>10.49</td>\n",
       "      <td>506.97</td>\n",
       "      <td>7.0</td>\n",
       "      <td>0.0</td>\n",
       "      <td>43057.0</td>\n",
       "      <td>1.0</td>\n",
       "      <td>1</td>\n",
       "      <td>credit_card</td>\n",
       "      <td>12.79</td>\n",
       "      <td>13.0</td>\n",
       "      <td>0.0</td>\n",
       "      <td>11987.0</td>\n",
       "      <td>92.2</td>\n",
       "      <td>26.0</td>\n",
       "      <td>f</td>\n",
       "      <td>0.0</td>\n",
       "      <td>0.0</td>\n",
       "    </tr>\n",
       "    <tr>\n",
       "      <th>3</th>\n",
       "      <td>7200.0</td>\n",
       "      <td>36 months</td>\n",
       "      <td>6.49</td>\n",
       "      <td>220.65</td>\n",
       "      <td>1.0</td>\n",
       "      <td>0.0</td>\n",
       "      <td>54000.0</td>\n",
       "      <td>0.0</td>\n",
       "      <td>1</td>\n",
       "      <td>credit_card</td>\n",
       "      <td>2.60</td>\n",
       "      <td>6.0</td>\n",
       "      <td>0.0</td>\n",
       "      <td>5472.0</td>\n",
       "      <td>21.5</td>\n",
       "      <td>13.0</td>\n",
       "      <td>f</td>\n",
       "      <td>0.0</td>\n",
       "      <td>0.0</td>\n",
       "    </tr>\n",
       "    <tr>\n",
       "      <th>4</th>\n",
       "      <td>24375.0</td>\n",
       "      <td>60 months</td>\n",
       "      <td>17.27</td>\n",
       "      <td>609.33</td>\n",
       "      <td>14.0</td>\n",
       "      <td>1.0</td>\n",
       "      <td>55000.0</td>\n",
       "      <td>2.0</td>\n",
       "      <td>0</td>\n",
       "      <td>credit_card</td>\n",
       "      <td>33.95</td>\n",
       "      <td>13.0</td>\n",
       "      <td>0.0</td>\n",
       "      <td>24584.0</td>\n",
       "      <td>69.8</td>\n",
       "      <td>43.0</td>\n",
       "      <td>f</td>\n",
       "      <td>1.0</td>\n",
       "      <td>0.0</td>\n",
       "    </tr>\n",
       "    <tr>\n",
       "      <th>...</th>\n",
       "      <td>...</td>\n",
       "      <td>...</td>\n",
       "      <td>...</td>\n",
       "      <td>...</td>\n",
       "      <td>...</td>\n",
       "      <td>...</td>\n",
       "      <td>...</td>\n",
       "      <td>...</td>\n",
       "      <td>...</td>\n",
       "      <td>...</td>\n",
       "      <td>...</td>\n",
       "      <td>...</td>\n",
       "      <td>...</td>\n",
       "      <td>...</td>\n",
       "      <td>...</td>\n",
       "      <td>...</td>\n",
       "      <td>...</td>\n",
       "      <td>...</td>\n",
       "      <td>...</td>\n",
       "    </tr>\n",
       "    <tr>\n",
       "      <th>396024</th>\n",
       "      <td>6000.0</td>\n",
       "      <td>36 months</td>\n",
       "      <td>13.11</td>\n",
       "      <td>202.49</td>\n",
       "      <td>8.0</td>\n",
       "      <td>0.0</td>\n",
       "      <td>64000.0</td>\n",
       "      <td>0.0</td>\n",
       "      <td>1</td>\n",
       "      <td>debt_consolidation</td>\n",
       "      <td>10.81</td>\n",
       "      <td>7.0</td>\n",
       "      <td>0.0</td>\n",
       "      <td>11456.0</td>\n",
       "      <td>97.1</td>\n",
       "      <td>9.0</td>\n",
       "      <td>w</td>\n",
       "      <td>0.0</td>\n",
       "      <td>0.0</td>\n",
       "    </tr>\n",
       "    <tr>\n",
       "      <th>396025</th>\n",
       "      <td>10000.0</td>\n",
       "      <td>60 months</td>\n",
       "      <td>10.99</td>\n",
       "      <td>217.38</td>\n",
       "      <td>8.0</td>\n",
       "      <td>0.0</td>\n",
       "      <td>40000.0</td>\n",
       "      <td>1.0</td>\n",
       "      <td>1</td>\n",
       "      <td>debt_consolidation</td>\n",
       "      <td>15.63</td>\n",
       "      <td>6.0</td>\n",
       "      <td>0.0</td>\n",
       "      <td>1990.0</td>\n",
       "      <td>34.3</td>\n",
       "      <td>23.0</td>\n",
       "      <td>w</td>\n",
       "      <td>0.0</td>\n",
       "      <td>0.0</td>\n",
       "    </tr>\n",
       "    <tr>\n",
       "      <th>396026</th>\n",
       "      <td>21000.0</td>\n",
       "      <td>36 months</td>\n",
       "      <td>12.29</td>\n",
       "      <td>700.42</td>\n",
       "      <td>10.0</td>\n",
       "      <td>1.0</td>\n",
       "      <td>110000.0</td>\n",
       "      <td>1.0</td>\n",
       "      <td>1</td>\n",
       "      <td>debt_consolidation</td>\n",
       "      <td>21.45</td>\n",
       "      <td>6.0</td>\n",
       "      <td>0.0</td>\n",
       "      <td>43263.0</td>\n",
       "      <td>95.7</td>\n",
       "      <td>8.0</td>\n",
       "      <td>f</td>\n",
       "      <td>1.0</td>\n",
       "      <td>0.0</td>\n",
       "    </tr>\n",
       "    <tr>\n",
       "      <th>396027</th>\n",
       "      <td>5000.0</td>\n",
       "      <td>36 months</td>\n",
       "      <td>9.99</td>\n",
       "      <td>161.32</td>\n",
       "      <td>5.0</td>\n",
       "      <td>0.0</td>\n",
       "      <td>56500.0</td>\n",
       "      <td>2.0</td>\n",
       "      <td>1</td>\n",
       "      <td>debt_consolidation</td>\n",
       "      <td>17.56</td>\n",
       "      <td>15.0</td>\n",
       "      <td>0.0</td>\n",
       "      <td>32704.0</td>\n",
       "      <td>66.9</td>\n",
       "      <td>23.0</td>\n",
       "      <td>f</td>\n",
       "      <td>0.0</td>\n",
       "      <td>0.0</td>\n",
       "    </tr>\n",
       "    <tr>\n",
       "      <th>396028</th>\n",
       "      <td>21000.0</td>\n",
       "      <td>60 months</td>\n",
       "      <td>15.31</td>\n",
       "      <td>503.02</td>\n",
       "      <td>11.0</td>\n",
       "      <td>1.0</td>\n",
       "      <td>64000.0</td>\n",
       "      <td>2.0</td>\n",
       "      <td>1</td>\n",
       "      <td>debt_consolidation</td>\n",
       "      <td>15.88</td>\n",
       "      <td>9.0</td>\n",
       "      <td>0.0</td>\n",
       "      <td>15704.0</td>\n",
       "      <td>53.8</td>\n",
       "      <td>20.0</td>\n",
       "      <td>f</td>\n",
       "      <td>5.0</td>\n",
       "      <td>0.0</td>\n",
       "    </tr>\n",
       "  </tbody>\n",
       "</table>\n",
       "<p>355729 rows × 19 columns</p>\n",
       "</div>"
      ],
      "text/plain": [
       "        loan_amnt        term  int_rate  installment  sub_grade  \\\n",
       "0         10000.0   36 months     11.44       329.48        8.0   \n",
       "1          8000.0   36 months     11.99       265.68        9.0   \n",
       "2         15600.0   36 months     10.49       506.97        7.0   \n",
       "3          7200.0   36 months      6.49       220.65        1.0   \n",
       "4         24375.0   60 months     17.27       609.33       14.0   \n",
       "...           ...         ...       ...          ...        ...   \n",
       "396024     6000.0   36 months     13.11       202.49        8.0   \n",
       "396025    10000.0   60 months     10.99       217.38        8.0   \n",
       "396026    21000.0   36 months     12.29       700.42       10.0   \n",
       "396027     5000.0   36 months      9.99       161.32        5.0   \n",
       "396028    21000.0   60 months     15.31       503.02       11.0   \n",
       "\n",
       "        home_ownership  annual_inc  verification_status  loan_status  \\\n",
       "0                  0.0    117000.0                  0.0            1   \n",
       "1                  1.0     65000.0                  0.0            1   \n",
       "2                  0.0     43057.0                  1.0            1   \n",
       "3                  0.0     54000.0                  0.0            1   \n",
       "4                  1.0     55000.0                  2.0            0   \n",
       "...                ...         ...                  ...          ...   \n",
       "396024             0.0     64000.0                  0.0            1   \n",
       "396025             0.0     40000.0                  1.0            1   \n",
       "396026             1.0    110000.0                  1.0            1   \n",
       "396027             0.0     56500.0                  2.0            1   \n",
       "396028             1.0     64000.0                  2.0            1   \n",
       "\n",
       "                   purpose    dti  open_acc  pub_rec  revol_bal  revol_util  \\\n",
       "0                    other  26.24      16.0      0.0    36369.0        41.8   \n",
       "1       debt_consolidation  22.05      17.0      0.0    20131.0        53.3   \n",
       "2              credit_card  12.79      13.0      0.0    11987.0        92.2   \n",
       "3              credit_card   2.60       6.0      0.0     5472.0        21.5   \n",
       "4              credit_card  33.95      13.0      0.0    24584.0        69.8   \n",
       "...                    ...    ...       ...      ...        ...         ...   \n",
       "396024  debt_consolidation  10.81       7.0      0.0    11456.0        97.1   \n",
       "396025  debt_consolidation  15.63       6.0      0.0     1990.0        34.3   \n",
       "396026  debt_consolidation  21.45       6.0      0.0    43263.0        95.7   \n",
       "396027  debt_consolidation  17.56      15.0      0.0    32704.0        66.9   \n",
       "396028  debt_consolidation  15.88       9.0      0.0    15704.0        53.8   \n",
       "\n",
       "        total_acc initial_list_status  mort_acc  pub_rec_bankruptcies  \n",
       "0            25.0                   w       0.0                   0.0  \n",
       "1            27.0                   f       3.0                   0.0  \n",
       "2            26.0                   f       0.0                   0.0  \n",
       "3            13.0                   f       0.0                   0.0  \n",
       "4            43.0                   f       1.0                   0.0  \n",
       "...           ...                 ...       ...                   ...  \n",
       "396024        9.0                   w       0.0                   0.0  \n",
       "396025       23.0                   w       0.0                   0.0  \n",
       "396026        8.0                   f       1.0                   0.0  \n",
       "396027       23.0                   f       0.0                   0.0  \n",
       "396028       20.0                   f       5.0                   0.0  \n",
       "\n",
       "[355729 rows x 19 columns]"
      ]
     },
     "execution_count": 50,
     "metadata": {},
     "output_type": "execute_result"
    }
   ],
   "source": [
    "loan"
   ]
  },
  {
   "cell_type": "code",
   "execution_count": 51,
   "id": "697ab904-6e10-470d-93f3-c30fbd026d92",
   "metadata": {},
   "outputs": [],
   "source": [
    "loan = pd.get_dummies(loan, columns=['term','initial_list_status', 'purpose',],drop_first=True,dtype='float64')"
   ]
  },
  {
   "cell_type": "code",
   "execution_count": 52,
   "id": "9c9b6b8d-a315-442b-b6f2-53472942df1c",
   "metadata": {},
   "outputs": [
    {
     "data": {
      "text/html": [
       "<div>\n",
       "<style scoped>\n",
       "    .dataframe tbody tr th:only-of-type {\n",
       "        vertical-align: middle;\n",
       "    }\n",
       "\n",
       "    .dataframe tbody tr th {\n",
       "        vertical-align: top;\n",
       "    }\n",
       "\n",
       "    .dataframe thead th {\n",
       "        text-align: right;\n",
       "    }\n",
       "</style>\n",
       "<table border=\"1\" class=\"dataframe\">\n",
       "  <thead>\n",
       "    <tr style=\"text-align: right;\">\n",
       "      <th></th>\n",
       "      <th>loan_amnt</th>\n",
       "      <th>int_rate</th>\n",
       "      <th>installment</th>\n",
       "      <th>sub_grade</th>\n",
       "      <th>home_ownership</th>\n",
       "      <th>annual_inc</th>\n",
       "      <th>verification_status</th>\n",
       "      <th>loan_status</th>\n",
       "      <th>dti</th>\n",
       "      <th>open_acc</th>\n",
       "      <th>pub_rec</th>\n",
       "      <th>revol_bal</th>\n",
       "      <th>revol_util</th>\n",
       "      <th>total_acc</th>\n",
       "      <th>mort_acc</th>\n",
       "      <th>pub_rec_bankruptcies</th>\n",
       "      <th>term_ 60 months</th>\n",
       "      <th>initial_list_status_w</th>\n",
       "      <th>purpose_debt_consolidation</th>\n",
       "      <th>purpose_home_improvement</th>\n",
       "      <th>purpose_other</th>\n",
       "    </tr>\n",
       "  </thead>\n",
       "  <tbody>\n",
       "    <tr>\n",
       "      <th>0</th>\n",
       "      <td>10000.0</td>\n",
       "      <td>11.44</td>\n",
       "      <td>329.48</td>\n",
       "      <td>8.0</td>\n",
       "      <td>0.0</td>\n",
       "      <td>117000.0</td>\n",
       "      <td>0.0</td>\n",
       "      <td>1</td>\n",
       "      <td>26.24</td>\n",
       "      <td>16.0</td>\n",
       "      <td>0.0</td>\n",
       "      <td>36369.0</td>\n",
       "      <td>41.8</td>\n",
       "      <td>25.0</td>\n",
       "      <td>0.0</td>\n",
       "      <td>0.0</td>\n",
       "      <td>0.0</td>\n",
       "      <td>1.0</td>\n",
       "      <td>0.0</td>\n",
       "      <td>0.0</td>\n",
       "      <td>1.0</td>\n",
       "    </tr>\n",
       "    <tr>\n",
       "      <th>1</th>\n",
       "      <td>8000.0</td>\n",
       "      <td>11.99</td>\n",
       "      <td>265.68</td>\n",
       "      <td>9.0</td>\n",
       "      <td>1.0</td>\n",
       "      <td>65000.0</td>\n",
       "      <td>0.0</td>\n",
       "      <td>1</td>\n",
       "      <td>22.05</td>\n",
       "      <td>17.0</td>\n",
       "      <td>0.0</td>\n",
       "      <td>20131.0</td>\n",
       "      <td>53.3</td>\n",
       "      <td>27.0</td>\n",
       "      <td>3.0</td>\n",
       "      <td>0.0</td>\n",
       "      <td>0.0</td>\n",
       "      <td>0.0</td>\n",
       "      <td>1.0</td>\n",
       "      <td>0.0</td>\n",
       "      <td>0.0</td>\n",
       "    </tr>\n",
       "    <tr>\n",
       "      <th>2</th>\n",
       "      <td>15600.0</td>\n",
       "      <td>10.49</td>\n",
       "      <td>506.97</td>\n",
       "      <td>7.0</td>\n",
       "      <td>0.0</td>\n",
       "      <td>43057.0</td>\n",
       "      <td>1.0</td>\n",
       "      <td>1</td>\n",
       "      <td>12.79</td>\n",
       "      <td>13.0</td>\n",
       "      <td>0.0</td>\n",
       "      <td>11987.0</td>\n",
       "      <td>92.2</td>\n",
       "      <td>26.0</td>\n",
       "      <td>0.0</td>\n",
       "      <td>0.0</td>\n",
       "      <td>0.0</td>\n",
       "      <td>0.0</td>\n",
       "      <td>0.0</td>\n",
       "      <td>0.0</td>\n",
       "      <td>0.0</td>\n",
       "    </tr>\n",
       "    <tr>\n",
       "      <th>3</th>\n",
       "      <td>7200.0</td>\n",
       "      <td>6.49</td>\n",
       "      <td>220.65</td>\n",
       "      <td>1.0</td>\n",
       "      <td>0.0</td>\n",
       "      <td>54000.0</td>\n",
       "      <td>0.0</td>\n",
       "      <td>1</td>\n",
       "      <td>2.60</td>\n",
       "      <td>6.0</td>\n",
       "      <td>0.0</td>\n",
       "      <td>5472.0</td>\n",
       "      <td>21.5</td>\n",
       "      <td>13.0</td>\n",
       "      <td>0.0</td>\n",
       "      <td>0.0</td>\n",
       "      <td>0.0</td>\n",
       "      <td>0.0</td>\n",
       "      <td>0.0</td>\n",
       "      <td>0.0</td>\n",
       "      <td>0.0</td>\n",
       "    </tr>\n",
       "    <tr>\n",
       "      <th>4</th>\n",
       "      <td>24375.0</td>\n",
       "      <td>17.27</td>\n",
       "      <td>609.33</td>\n",
       "      <td>14.0</td>\n",
       "      <td>1.0</td>\n",
       "      <td>55000.0</td>\n",
       "      <td>2.0</td>\n",
       "      <td>0</td>\n",
       "      <td>33.95</td>\n",
       "      <td>13.0</td>\n",
       "      <td>0.0</td>\n",
       "      <td>24584.0</td>\n",
       "      <td>69.8</td>\n",
       "      <td>43.0</td>\n",
       "      <td>1.0</td>\n",
       "      <td>0.0</td>\n",
       "      <td>1.0</td>\n",
       "      <td>0.0</td>\n",
       "      <td>0.0</td>\n",
       "      <td>0.0</td>\n",
       "      <td>0.0</td>\n",
       "    </tr>\n",
       "    <tr>\n",
       "      <th>...</th>\n",
       "      <td>...</td>\n",
       "      <td>...</td>\n",
       "      <td>...</td>\n",
       "      <td>...</td>\n",
       "      <td>...</td>\n",
       "      <td>...</td>\n",
       "      <td>...</td>\n",
       "      <td>...</td>\n",
       "      <td>...</td>\n",
       "      <td>...</td>\n",
       "      <td>...</td>\n",
       "      <td>...</td>\n",
       "      <td>...</td>\n",
       "      <td>...</td>\n",
       "      <td>...</td>\n",
       "      <td>...</td>\n",
       "      <td>...</td>\n",
       "      <td>...</td>\n",
       "      <td>...</td>\n",
       "      <td>...</td>\n",
       "      <td>...</td>\n",
       "    </tr>\n",
       "    <tr>\n",
       "      <th>396024</th>\n",
       "      <td>6000.0</td>\n",
       "      <td>13.11</td>\n",
       "      <td>202.49</td>\n",
       "      <td>8.0</td>\n",
       "      <td>0.0</td>\n",
       "      <td>64000.0</td>\n",
       "      <td>0.0</td>\n",
       "      <td>1</td>\n",
       "      <td>10.81</td>\n",
       "      <td>7.0</td>\n",
       "      <td>0.0</td>\n",
       "      <td>11456.0</td>\n",
       "      <td>97.1</td>\n",
       "      <td>9.0</td>\n",
       "      <td>0.0</td>\n",
       "      <td>0.0</td>\n",
       "      <td>0.0</td>\n",
       "      <td>1.0</td>\n",
       "      <td>1.0</td>\n",
       "      <td>0.0</td>\n",
       "      <td>0.0</td>\n",
       "    </tr>\n",
       "    <tr>\n",
       "      <th>396025</th>\n",
       "      <td>10000.0</td>\n",
       "      <td>10.99</td>\n",
       "      <td>217.38</td>\n",
       "      <td>8.0</td>\n",
       "      <td>0.0</td>\n",
       "      <td>40000.0</td>\n",
       "      <td>1.0</td>\n",
       "      <td>1</td>\n",
       "      <td>15.63</td>\n",
       "      <td>6.0</td>\n",
       "      <td>0.0</td>\n",
       "      <td>1990.0</td>\n",
       "      <td>34.3</td>\n",
       "      <td>23.0</td>\n",
       "      <td>0.0</td>\n",
       "      <td>0.0</td>\n",
       "      <td>1.0</td>\n",
       "      <td>1.0</td>\n",
       "      <td>1.0</td>\n",
       "      <td>0.0</td>\n",
       "      <td>0.0</td>\n",
       "    </tr>\n",
       "    <tr>\n",
       "      <th>396026</th>\n",
       "      <td>21000.0</td>\n",
       "      <td>12.29</td>\n",
       "      <td>700.42</td>\n",
       "      <td>10.0</td>\n",
       "      <td>1.0</td>\n",
       "      <td>110000.0</td>\n",
       "      <td>1.0</td>\n",
       "      <td>1</td>\n",
       "      <td>21.45</td>\n",
       "      <td>6.0</td>\n",
       "      <td>0.0</td>\n",
       "      <td>43263.0</td>\n",
       "      <td>95.7</td>\n",
       "      <td>8.0</td>\n",
       "      <td>1.0</td>\n",
       "      <td>0.0</td>\n",
       "      <td>0.0</td>\n",
       "      <td>0.0</td>\n",
       "      <td>1.0</td>\n",
       "      <td>0.0</td>\n",
       "      <td>0.0</td>\n",
       "    </tr>\n",
       "    <tr>\n",
       "      <th>396027</th>\n",
       "      <td>5000.0</td>\n",
       "      <td>9.99</td>\n",
       "      <td>161.32</td>\n",
       "      <td>5.0</td>\n",
       "      <td>0.0</td>\n",
       "      <td>56500.0</td>\n",
       "      <td>2.0</td>\n",
       "      <td>1</td>\n",
       "      <td>17.56</td>\n",
       "      <td>15.0</td>\n",
       "      <td>0.0</td>\n",
       "      <td>32704.0</td>\n",
       "      <td>66.9</td>\n",
       "      <td>23.0</td>\n",
       "      <td>0.0</td>\n",
       "      <td>0.0</td>\n",
       "      <td>0.0</td>\n",
       "      <td>0.0</td>\n",
       "      <td>1.0</td>\n",
       "      <td>0.0</td>\n",
       "      <td>0.0</td>\n",
       "    </tr>\n",
       "    <tr>\n",
       "      <th>396028</th>\n",
       "      <td>21000.0</td>\n",
       "      <td>15.31</td>\n",
       "      <td>503.02</td>\n",
       "      <td>11.0</td>\n",
       "      <td>1.0</td>\n",
       "      <td>64000.0</td>\n",
       "      <td>2.0</td>\n",
       "      <td>1</td>\n",
       "      <td>15.88</td>\n",
       "      <td>9.0</td>\n",
       "      <td>0.0</td>\n",
       "      <td>15704.0</td>\n",
       "      <td>53.8</td>\n",
       "      <td>20.0</td>\n",
       "      <td>5.0</td>\n",
       "      <td>0.0</td>\n",
       "      <td>1.0</td>\n",
       "      <td>0.0</td>\n",
       "      <td>1.0</td>\n",
       "      <td>0.0</td>\n",
       "      <td>0.0</td>\n",
       "    </tr>\n",
       "  </tbody>\n",
       "</table>\n",
       "<p>355729 rows × 21 columns</p>\n",
       "</div>"
      ],
      "text/plain": [
       "        loan_amnt  int_rate  installment  sub_grade  home_ownership  \\\n",
       "0         10000.0     11.44       329.48        8.0             0.0   \n",
       "1          8000.0     11.99       265.68        9.0             1.0   \n",
       "2         15600.0     10.49       506.97        7.0             0.0   \n",
       "3          7200.0      6.49       220.65        1.0             0.0   \n",
       "4         24375.0     17.27       609.33       14.0             1.0   \n",
       "...           ...       ...          ...        ...             ...   \n",
       "396024     6000.0     13.11       202.49        8.0             0.0   \n",
       "396025    10000.0     10.99       217.38        8.0             0.0   \n",
       "396026    21000.0     12.29       700.42       10.0             1.0   \n",
       "396027     5000.0      9.99       161.32        5.0             0.0   \n",
       "396028    21000.0     15.31       503.02       11.0             1.0   \n",
       "\n",
       "        annual_inc  verification_status  loan_status    dti  open_acc  \\\n",
       "0         117000.0                  0.0            1  26.24      16.0   \n",
       "1          65000.0                  0.0            1  22.05      17.0   \n",
       "2          43057.0                  1.0            1  12.79      13.0   \n",
       "3          54000.0                  0.0            1   2.60       6.0   \n",
       "4          55000.0                  2.0            0  33.95      13.0   \n",
       "...            ...                  ...          ...    ...       ...   \n",
       "396024     64000.0                  0.0            1  10.81       7.0   \n",
       "396025     40000.0                  1.0            1  15.63       6.0   \n",
       "396026    110000.0                  1.0            1  21.45       6.0   \n",
       "396027     56500.0                  2.0            1  17.56      15.0   \n",
       "396028     64000.0                  2.0            1  15.88       9.0   \n",
       "\n",
       "        pub_rec  revol_bal  revol_util  total_acc  mort_acc  \\\n",
       "0           0.0    36369.0        41.8       25.0       0.0   \n",
       "1           0.0    20131.0        53.3       27.0       3.0   \n",
       "2           0.0    11987.0        92.2       26.0       0.0   \n",
       "3           0.0     5472.0        21.5       13.0       0.0   \n",
       "4           0.0    24584.0        69.8       43.0       1.0   \n",
       "...         ...        ...         ...        ...       ...   \n",
       "396024      0.0    11456.0        97.1        9.0       0.0   \n",
       "396025      0.0     1990.0        34.3       23.0       0.0   \n",
       "396026      0.0    43263.0        95.7        8.0       1.0   \n",
       "396027      0.0    32704.0        66.9       23.0       0.0   \n",
       "396028      0.0    15704.0        53.8       20.0       5.0   \n",
       "\n",
       "        pub_rec_bankruptcies  term_ 60 months  initial_list_status_w  \\\n",
       "0                        0.0              0.0                    1.0   \n",
       "1                        0.0              0.0                    0.0   \n",
       "2                        0.0              0.0                    0.0   \n",
       "3                        0.0              0.0                    0.0   \n",
       "4                        0.0              1.0                    0.0   \n",
       "...                      ...              ...                    ...   \n",
       "396024                   0.0              0.0                    1.0   \n",
       "396025                   0.0              1.0                    1.0   \n",
       "396026                   0.0              0.0                    0.0   \n",
       "396027                   0.0              0.0                    0.0   \n",
       "396028                   0.0              1.0                    0.0   \n",
       "\n",
       "        purpose_debt_consolidation  purpose_home_improvement  purpose_other  \n",
       "0                              0.0                       0.0            1.0  \n",
       "1                              1.0                       0.0            0.0  \n",
       "2                              0.0                       0.0            0.0  \n",
       "3                              0.0                       0.0            0.0  \n",
       "4                              0.0                       0.0            0.0  \n",
       "...                            ...                       ...            ...  \n",
       "396024                         1.0                       0.0            0.0  \n",
       "396025                         1.0                       0.0            0.0  \n",
       "396026                         1.0                       0.0            0.0  \n",
       "396027                         1.0                       0.0            0.0  \n",
       "396028                         1.0                       0.0            0.0  \n",
       "\n",
       "[355729 rows x 21 columns]"
      ]
     },
     "execution_count": 52,
     "metadata": {},
     "output_type": "execute_result"
    }
   ],
   "source": [
    "loan"
   ]
  },
  {
   "cell_type": "code",
   "execution_count": 53,
   "id": "6e2b3941-83da-4081-85bd-5ed359b704ca",
   "metadata": {},
   "outputs": [
    {
     "data": {
      "text/plain": [
       "0         1\n",
       "1         1\n",
       "2         1\n",
       "3         1\n",
       "4         0\n",
       "         ..\n",
       "396024    1\n",
       "396025    1\n",
       "396026    1\n",
       "396027    1\n",
       "396028    1\n",
       "Name: loan_status, Length: 355729, dtype: int64"
      ]
     },
     "execution_count": 53,
     "metadata": {},
     "output_type": "execute_result"
    }
   ],
   "source": [
    "loan['loan_status']"
   ]
  },
  {
   "cell_type": "code",
   "execution_count": 54,
   "id": "e79dd642-63af-4140-bf41-aa4dd5703159",
   "metadata": {},
   "outputs": [],
   "source": [
    "X=loan.drop('loan_status',axis=1)\n",
    "y=loan['loan_status']"
   ]
  },
  {
   "cell_type": "code",
   "execution_count": 55,
   "id": "753f97f9-9193-4065-a160-192bf90ccf94",
   "metadata": {},
   "outputs": [],
   "source": [
    "from sklearn.preprocessing import StandardScaler"
   ]
  },
  {
   "cell_type": "code",
   "execution_count": 56,
   "id": "2f249254-e3b1-418b-9cfc-31222a27e54e",
   "metadata": {},
   "outputs": [],
   "source": [
    "scaler=StandardScaler()"
   ]
  },
  {
   "cell_type": "markdown",
   "id": "67c32062",
   "metadata": {},
   "source": [
    "### Building the Logistic Regression Model from Scratch"
   ]
  },
  {
   "cell_type": "code",
   "execution_count": 57,
   "id": "43c17459-a722-442e-b99c-e008cd187bdf",
   "metadata": {},
   "outputs": [
    {
     "data": {
      "text/plain": [
       "((284583, 20), (71146, 20), (284583,), (71146,))"
      ]
     },
     "execution_count": 57,
     "metadata": {},
     "output_type": "execute_result"
    }
   ],
   "source": [
    "X_train, X_test, y_train, y_test = train_test_split(X, y,test_size=0.2, random_state=10)\n",
    "X_train.shape, X_test.shape, y_train.shape, y_test.shape"
   ]
  },
  {
   "cell_type": "code",
   "execution_count": 58,
   "id": "6b8ee06b-241d-481d-b1dc-6ae8a63aa449",
   "metadata": {
    "scrolled": true
   },
   "outputs": [],
   "source": [
    "X_train=scaler.fit_transform(X_train)\n",
    "X_test=scaler.transform(X_test)"
   ]
  },
  {
   "cell_type": "code",
   "execution_count": 59,
   "id": "5de45226-9379-402e-a90f-61ec9f9ed72b",
   "metadata": {},
   "outputs": [
    {
     "data": {
      "text/plain": [
       "(284583, 20)"
      ]
     },
     "execution_count": 59,
     "metadata": {},
     "output_type": "execute_result"
    }
   ],
   "source": [
    "X_train.shape"
   ]
  },
  {
   "cell_type": "code",
   "execution_count": 60,
   "id": "01d0a0c3-34c7-48aa-8050-4af4bdb8827a",
   "metadata": {},
   "outputs": [
    {
     "data": {
      "text/plain": [
       "array([ 1.29185201, -0.21024231,  0.51573891, -0.48845367,  0.46939184,\n",
       "       -0.37574427,  1.17064575,  0.43810349, -0.68144972, -0.40600837,\n",
       "       -0.36658642, -1.42831145,  0.44078065,  1.01769076, -0.36186638,\n",
       "        1.80661642, -0.88549849, -1.23546366, -0.2523544 , -0.36838944])"
      ]
     },
     "execution_count": 60,
     "metadata": {},
     "output_type": "execute_result"
    }
   ],
   "source": [
    "X_train[0]"
   ]
  },
  {
   "cell_type": "code",
   "execution_count": null,
   "id": "50cf3ff0-b374-4431-979b-2dff052e6a96",
   "metadata": {},
   "outputs": [],
   "source": []
  },
  {
   "cell_type": "code",
   "execution_count": 61,
   "id": "00af7f19-f5e8-43ce-8273-f2c79a968d75",
   "metadata": {},
   "outputs": [],
   "source": [
    "def sigmoid(mat):\n",
    "    sig_val=1/(1+ np.exp(-mat))\n",
    "    return sig_val"
   ]
  },
  {
   "cell_type": "code",
   "execution_count": 62,
   "id": "998a1bcf-361d-42b6-b835-dd69a4535b87",
   "metadata": {},
   "outputs": [],
   "source": [
    "def gd(X_tr,y_tr,lr,epochs):\n",
    "    \n",
    "    X_tr=np.insert(X_tr,0,1,axis=1)\n",
    "    W=np.ones(X_tr.shape[1])\n",
    "    print(y_tr.shape,X_tr.shape)\n",
    "    for i in range(epochs):\n",
    "        y_hat=sigmoid(np.dot(X_tr,W))\n",
    "        W=W + lr/X_tr.shape[0] * (np.dot(y_tr-y_hat,X_tr))\n",
    "    \n",
    "    return W"
   ]
  },
  {
   "cell_type": "code",
   "execution_count": 63,
   "id": "0a60a621-4972-423e-b30b-8c3854e0d3fb",
   "metadata": {},
   "outputs": [
    {
     "name": "stdout",
     "output_type": "stream",
     "text": [
      "(284583,) (284583, 21)\n"
     ]
    }
   ],
   "source": [
    "epochs=3000\n",
    "lr=0.3\n",
    "Updated_weights=gd(X_train,y_train,lr,epochs)"
   ]
  },
  {
   "cell_type": "code",
   "execution_count": 64,
   "id": "42550052-1bdd-48ae-b24e-48255fa0e53a",
   "metadata": {},
   "outputs": [
    {
     "data": {
      "text/plain": [
       "array([ 1.54133832, -0.02228688,  0.62727562, -0.03757945, -1.07624584,\n",
       "        0.07838559,  0.1981865 , -0.05226751, -0.19873514, -0.10851911,\n",
       "       -0.06426381,  0.05884402, -0.09535725,  0.10092336,  0.10658674,\n",
       "        0.05090654, -0.1691637 ,  0.030501  , -0.01146953, -0.01991715,\n",
       "       -0.01405081])"
      ]
     },
     "execution_count": 64,
     "metadata": {},
     "output_type": "execute_result"
    }
   ],
   "source": [
    "Updated_weights"
   ]
  },
  {
   "cell_type": "code",
   "execution_count": 65,
   "id": "9df94819-658f-44b5-8864-67ec7d1f3b5a",
   "metadata": {},
   "outputs": [],
   "source": [
    "def pred(X_te,Wt):\n",
    "    X_te=np.insert(X_test,0,1,axis=1)\n",
    "    y_predicted=np.dot(X_te,Wt)\n",
    "    return y_predicted"
   ]
  },
  {
   "cell_type": "code",
   "execution_count": 66,
   "id": "2f64eee3-b086-46cb-9f0f-f05ec574181d",
   "metadata": {},
   "outputs": [],
   "source": [
    "y_pred=pred(X_test,Updated_weights)"
   ]
  },
  {
   "cell_type": "code",
   "execution_count": 67,
   "id": "815aeab2-8f45-4eb5-a2f9-6ecf167fb149",
   "metadata": {},
   "outputs": [
    {
     "data": {
      "text/plain": [
       "(71146,)"
      ]
     },
     "execution_count": 67,
     "metadata": {},
     "output_type": "execute_result"
    }
   ],
   "source": [
    "y_pred.shape"
   ]
  },
  {
   "cell_type": "code",
   "execution_count": 68,
   "id": "548883a4-e75f-4569-9f5c-4b3db26686df",
   "metadata": {},
   "outputs": [
    {
     "data": {
      "text/plain": [
       "(71146,)"
      ]
     },
     "execution_count": 68,
     "metadata": {},
     "output_type": "execute_result"
    }
   ],
   "source": [
    "y_test.shape"
   ]
  },
  {
   "cell_type": "code",
   "execution_count": 69,
   "id": "f14304aa-f238-4760-9744-1d5ed4570e45",
   "metadata": {},
   "outputs": [],
   "source": [
    "pred=np.where(y_pred>=0.5,1,0)"
   ]
  },
  {
   "cell_type": "code",
   "execution_count": 70,
   "id": "62722a69-88ac-48e2-82ae-f266530acc25",
   "metadata": {},
   "outputs": [],
   "source": [
    "final_preds=pd.DataFrame(y_test)"
   ]
  },
  {
   "cell_type": "code",
   "execution_count": 71,
   "id": "6072847e-f0ba-4f09-80c1-7fafc9884650",
   "metadata": {},
   "outputs": [],
   "source": [
    "final_preds['predicted']=pred"
   ]
  },
  {
   "cell_type": "code",
   "execution_count": 72,
   "id": "4489c8cf-2894-447d-b89a-4d6e5796e153",
   "metadata": {},
   "outputs": [
    {
     "data": {
      "text/html": [
       "<div>\n",
       "<style scoped>\n",
       "    .dataframe tbody tr th:only-of-type {\n",
       "        vertical-align: middle;\n",
       "    }\n",
       "\n",
       "    .dataframe tbody tr th {\n",
       "        vertical-align: top;\n",
       "    }\n",
       "\n",
       "    .dataframe thead th {\n",
       "        text-align: right;\n",
       "    }\n",
       "</style>\n",
       "<table border=\"1\" class=\"dataframe\">\n",
       "  <thead>\n",
       "    <tr style=\"text-align: right;\">\n",
       "      <th></th>\n",
       "      <th>loan_status</th>\n",
       "      <th>predicted</th>\n",
       "    </tr>\n",
       "  </thead>\n",
       "  <tbody>\n",
       "    <tr>\n",
       "      <th>329135</th>\n",
       "      <td>1</td>\n",
       "      <td>1</td>\n",
       "    </tr>\n",
       "    <tr>\n",
       "      <th>165583</th>\n",
       "      <td>1</td>\n",
       "      <td>1</td>\n",
       "    </tr>\n",
       "    <tr>\n",
       "      <th>260294</th>\n",
       "      <td>1</td>\n",
       "      <td>1</td>\n",
       "    </tr>\n",
       "    <tr>\n",
       "      <th>273304</th>\n",
       "      <td>1</td>\n",
       "      <td>1</td>\n",
       "    </tr>\n",
       "    <tr>\n",
       "      <th>205202</th>\n",
       "      <td>1</td>\n",
       "      <td>1</td>\n",
       "    </tr>\n",
       "    <tr>\n",
       "      <th>...</th>\n",
       "      <td>...</td>\n",
       "      <td>...</td>\n",
       "    </tr>\n",
       "    <tr>\n",
       "      <th>362938</th>\n",
       "      <td>1</td>\n",
       "      <td>0</td>\n",
       "    </tr>\n",
       "    <tr>\n",
       "      <th>181050</th>\n",
       "      <td>1</td>\n",
       "      <td>1</td>\n",
       "    </tr>\n",
       "    <tr>\n",
       "      <th>226376</th>\n",
       "      <td>1</td>\n",
       "      <td>1</td>\n",
       "    </tr>\n",
       "    <tr>\n",
       "      <th>179210</th>\n",
       "      <td>0</td>\n",
       "      <td>1</td>\n",
       "    </tr>\n",
       "    <tr>\n",
       "      <th>380700</th>\n",
       "      <td>1</td>\n",
       "      <td>0</td>\n",
       "    </tr>\n",
       "  </tbody>\n",
       "</table>\n",
       "<p>71146 rows × 2 columns</p>\n",
       "</div>"
      ],
      "text/plain": [
       "        loan_status  predicted\n",
       "329135            1          1\n",
       "165583            1          1\n",
       "260294            1          1\n",
       "273304            1          1\n",
       "205202            1          1\n",
       "...             ...        ...\n",
       "362938            1          0\n",
       "181050            1          1\n",
       "226376            1          1\n",
       "179210            0          1\n",
       "380700            1          0\n",
       "\n",
       "[71146 rows x 2 columns]"
      ]
     },
     "execution_count": 72,
     "metadata": {},
     "output_type": "execute_result"
    }
   ],
   "source": [
    "final_preds"
   ]
  },
  {
   "cell_type": "code",
   "execution_count": 73,
   "id": "90876bc1-046b-4148-8a77-5ecefd5c5805",
   "metadata": {},
   "outputs": [],
   "source": [
    "from sklearn.metrics import classification_report"
   ]
  },
  {
   "cell_type": "code",
   "execution_count": 74,
   "id": "5a58eec7-7b23-49be-839b-7ba94b534348",
   "metadata": {},
   "outputs": [
    {
     "name": "stdout",
     "output_type": "stream",
     "text": [
      "              precision    recall  f1-score   support\n",
      "\n",
      "           0       0.48      0.24      0.32     14468\n",
      "           1       0.83      0.93      0.88     56678\n",
      "\n",
      "    accuracy                           0.79     71146\n",
      "   macro avg       0.65      0.59      0.60     71146\n",
      "weighted avg       0.76      0.79      0.76     71146\n",
      "\n"
     ]
    }
   ],
   "source": [
    "print(classification_report(y_true=y_test,y_pred=pred))"
   ]
  },
  {
   "cell_type": "code",
   "execution_count": 75,
   "id": "dda1138e-ee72-4a27-bc6e-1ff60da3bfdd",
   "metadata": {},
   "outputs": [],
   "source": [
    "from sklearn.metrics import confusion_matrix\n",
    "from sklearn.metrics import roc_auc_score,roc_curve"
   ]
  },
  {
   "cell_type": "code",
   "execution_count": 76,
   "id": "c888049c-1622-4348-9721-781bc745d7f7",
   "metadata": {},
   "outputs": [
    {
     "data": {
      "text/plain": [
       "array([[ 3455, 11013],\n",
       "       [ 3802, 52876]], dtype=int64)"
      ]
     },
     "execution_count": 76,
     "metadata": {},
     "output_type": "execute_result"
    }
   ],
   "source": [
    "confusion_matrix(y_true=y_test,y_pred=pred)"
   ]
  },
  {
   "cell_type": "code",
   "execution_count": 77,
   "id": "883acb7f-d7ca-4d56-804f-9850b492adb8",
   "metadata": {},
   "outputs": [
    {
     "data": {
      "text/plain": [
       "0.714915431833375"
      ]
     },
     "execution_count": 77,
     "metadata": {},
     "output_type": "execute_result"
    }
   ],
   "source": [
    "roc_auc_score(y_true=y_test,y_score=y_pred)"
   ]
  },
  {
   "cell_type": "code",
   "execution_count": 78,
   "id": "863eacd3-73d5-4187-b5a8-504d0108df88",
   "metadata": {},
   "outputs": [
    {
     "data": {
      "image/png": "[encoded data removed]",
      "text/plain": [
       "<Figure size 640x480 with 1 Axes>"
      ]
     },
     "metadata": {},
     "output_type": "display_data"
    }
   ],
   "source": [
    "fpr, tpr, threshold = roc_curve(y_true=y_test,y_score=y_pred)\n",
    "\n",
    "plt.plot(fpr, tpr);\n",
    "plt.plot([0,1], [0,1], color='r');\n",
    "plt.xlabel('FPR');\n",
    "plt.ylabel('TPR');\n",
    "plt.legend([\"FPR\", \"TPR\"], loc=\"lower right\")\n",
    "\n",
    "plt.title('ROC Curve');"
   ]
  },
  {
   "cell_type": "code",
   "execution_count": null,
   "id": "17790c09-87c5-43ba-8e65-5a5999cbb42a",
   "metadata": {},
   "outputs": [],
   "source": []
  },
  {
   "cell_type": "markdown",
   "id": "f2acaaad-f8af-4f6d-9386-2e2a4d27d38c",
   "metadata": {},
   "source": [
    "### Using sklearn"
   ]
  },
  {
   "cell_type": "code",
   "execution_count": 79,
   "id": "bab40233-f86a-4e56-bc3c-95012590adc8",
   "metadata": {},
   "outputs": [],
   "source": [
    "from sklearn.linear_model import LogisticRegression"
   ]
  },
  {
   "cell_type": "code",
   "execution_count": 81,
   "id": "17361718-dde7-4cca-baaf-2cfa0919e98c",
   "metadata": {},
   "outputs": [],
   "source": [
    "y=loan['loan_status']\n",
    "X=loan.drop('loan_status',axis=1)"
   ]
  },
  {
   "cell_type": "code",
   "execution_count": 82,
   "id": "1857efed-a459-46e2-a15b-760fd9667853",
   "metadata": {},
   "outputs": [],
   "source": [
    "X_train,X_test,y_train,y_test=train_test_split(X,y,test_size=0.2)"
   ]
  },
  {
   "cell_type": "code",
   "execution_count": 87,
   "id": "af7deea5-3324-4e67-812d-36db3fa6e93f",
   "metadata": {},
   "outputs": [
    {
     "data": {
      "text/plain": [
       "(71146,)"
      ]
     },
     "execution_count": 87,
     "metadata": {},
     "output_type": "execute_result"
    }
   ],
   "source": [
    "y_test.shape"
   ]
  },
  {
   "cell_type": "code",
   "execution_count": 105,
   "id": "fd38a9de-c31f-474f-ae26-8453787df010",
   "metadata": {},
   "outputs": [],
   "source": [
    "logreg=LogisticRegression(max_iter=1000,penalty='l1',solver='liblinear',n_jobs=-1)\n",
    "model=logreg.fit(X_train,y_train)"
   ]
  },
  {
   "cell_type": "code",
   "execution_count": 106,
   "id": "fdab4081-57cf-4b44-9562-2e6f7b2eb773",
   "metadata": {},
   "outputs": [],
   "source": [
    "y_pred_lr=model.predict(X_test)"
   ]
  },
  {
   "cell_type": "code",
   "execution_count": 107,
   "id": "d2f53e4e-6790-4ab5-b914-9efc66f7968b",
   "metadata": {},
   "outputs": [
    {
     "name": "stdout",
     "output_type": "stream",
     "text": [
      "              precision    recall  f1-score   support\n",
      "\n",
      "           0       0.52      0.09      0.15     14343\n",
      "           1       0.81      0.98      0.89     56803\n",
      "\n",
      "    accuracy                           0.80     71146\n",
      "   macro avg       0.67      0.53      0.52     71146\n",
      "weighted avg       0.75      0.80      0.74     71146\n",
      "\n"
     ]
    }
   ],
   "source": [
    "cr_new=classification_report(y_true=y_test,y_pred=y_pred_lr)\n",
    "print(cr_new)"
   ]
  },
  {
   "cell_type": "code",
   "execution_count": null,
   "id": "6142d2e7-f22b-47b9-94aa-bbeaef77edef",
   "metadata": {},
   "outputs": [],
   "source": []
  },
  {
   "cell_type": "code",
   "execution_count": null,
   "id": "9416bf64-923f-4161-98dd-d40ddff87b29",
   "metadata": {},
   "outputs": [],
   "source": []
  },
  {
   "cell_type": "code",
   "execution_count": null,
   "id": "c2d5441f-d20c-4be0-9101-f5274813e5f8",
   "metadata": {},
   "outputs": [],
   "source": []
  },
  {
   "cell_type": "code",
   "execution_count": null,
   "id": "adf029dc-6e6b-4fce-af88-8ec90ed49b16",
   "metadata": {},
   "outputs": [],
   "source": []
  },
  {
   "cell_type": "code",
   "execution_count": null,
   "id": "dc82b066-efe5-45d7-bac0-bddad865e920",
   "metadata": {},
   "outputs": [],
   "source": []
  },
  {
   "cell_type": "markdown",
   "id": "7adb828a-2844-4925-a4ed-dcf3dcd30ba3",
   "metadata": {},
   "source": [
    "# -------------------------------------- OLD Method -------------------------------------"
   ]
  },
  {
   "cell_type": "code",
   "execution_count": 41,
   "id": "dbb2d7d7",
   "metadata": {},
   "outputs": [
    {
     "name": "stdout",
     "output_type": "stream",
     "text": [
      "Warning: Maximum number of iterations has been exceeded.\n",
      "         Current function value: 0.453861\n",
      "         Iterations: 35\n"
     ]
    }
   ],
   "source": [
    "logReg_1 = sm.Logit(y_train, X_train)\n",
    "\n",
    "logReg_1 = logReg_1.fit()"
   ]
  },
  {
   "cell_type": "code",
   "execution_count": 42,
   "id": "ff6bb13c",
   "metadata": {},
   "outputs": [
    {
     "data": {
      "text/html": [
       "<table class=\"simpletable\">\n",
       "<tr>\n",
       "        <td>Model:</td>              <td>Logit</td>      <td>Pseudo R-squared:</td>    <td>0.097</td>   \n",
       "</tr>\n",
       "<tr>\n",
       "  <td>Dependent Variable:</td>    <td>loan_status</td>         <td>AIC:</td>        <td>258853.2111</td>\n",
       "</tr>\n",
       "<tr>\n",
       "         <td>Date:</td>        <td>2021-12-06 09:23</td>       <td>BIC:</td>        <td>259581.8718</td>\n",
       "</tr>\n",
       "<tr>\n",
       "   <td>No. Observations:</td>       <td>285016</td>       <td>Log-Likelihood:</td>  <td>-1.2936e+05</td>\n",
       "</tr>\n",
       "<tr>\n",
       "       <td>Df Model:</td>             <td>68</td>            <td>LL-Null:</td>      <td>-1.4323e+05</td>\n",
       "</tr>\n",
       "<tr>\n",
       "     <td>Df Residuals:</td>         <td>284947</td>        <td>LLR p-value:</td>      <td>0.0000</td>   \n",
       "</tr>\n",
       "<tr>\n",
       "      <td>Converged:</td>           <td>0.0000</td>           <td>Scale:</td>         <td>1.0000</td>   \n",
       "</tr>\n",
       "<tr>\n",
       "    <td>No. Iterations:</td>        <td>35.0000</td>             <td></td>               <td></td>      \n",
       "</tr>\n",
       "</table>\n",
       "<table class=\"simpletable\">\n",
       "<tr>\n",
       "                   <td></td>                    <th>Coef.</th>   <th>Std.Err.</th>       <th>z</th>     <th>P>|z|</th>    <th>[0.025</th>      <th>0.975]</th>   \n",
       "</tr>\n",
       "<tr>\n",
       "  <th>const</th>                               <td>0.3563</td>  <td>89858.8101</td>   <td>0.0000</td>  <td>1.0000</td> <td>-176119.6752</td> <td>176120.3878</td>\n",
       "</tr>\n",
       "<tr>\n",
       "  <th>loan_amnt</th>                           <td>0.0000</td>    <td>0.0000</td>     <td>4.3752</td>  <td>0.0000</td>    <td>0.0000</td>      <td>0.0000</td>   \n",
       "</tr>\n",
       "<tr>\n",
       "  <th>term</th>                                <td>-0.0227</td>   <td>0.0012</td>    <td>-18.6286</td> <td>0.0000</td>    <td>-0.0251</td>     <td>-0.0203</td>  \n",
       "</tr>\n",
       "<tr>\n",
       "  <th>int_rate</th>                            <td>0.1799</td>    <td>0.0058</td>     <td>30.9714</td> <td>0.0000</td>    <td>0.1685</td>      <td>0.1913</td>   \n",
       "</tr>\n",
       "<tr>\n",
       "  <th>installment</th>                         <td>-0.0009</td>   <td>0.0001</td>     <td>-6.3024</td> <td>0.0000</td>    <td>-0.0012</td>     <td>-0.0006</td>  \n",
       "</tr>\n",
       "<tr>\n",
       "  <th>annual_inc</th>                          <td>0.0000</td>    <td>0.0000</td>     <td>18.0078</td> <td>0.0000</td>    <td>0.0000</td>      <td>0.0000</td>   \n",
       "</tr>\n",
       "<tr>\n",
       "  <th>dti</th>                                 <td>-0.0226</td>   <td>0.0007</td>    <td>-32.4513</td> <td>0.0000</td>    <td>-0.0239</td>     <td>-0.0212</td>  \n",
       "</tr>\n",
       "<tr>\n",
       "  <th>open_acc</th>                            <td>-0.0213</td>   <td>0.0014</td>    <td>-15.4021</td> <td>0.0000</td>    <td>-0.0240</td>     <td>-0.0186</td>  \n",
       "</tr>\n",
       "<tr>\n",
       "  <th>pub_rec</th>                             <td>-0.0668</td>   <td>0.0124</td>     <td>-5.3912</td> <td>0.0000</td>    <td>-0.0911</td>     <td>-0.0425</td>  \n",
       "</tr>\n",
       "<tr>\n",
       "  <th>revol_bal</th>                           <td>0.0000</td>    <td>0.0000</td>     <td>7.6004</td>  <td>0.0000</td>    <td>0.0000</td>      <td>0.0000</td>   \n",
       "</tr>\n",
       "<tr>\n",
       "  <th>revol_util</th>                          <td>-0.0033</td>   <td>0.0002</td>    <td>-13.3987</td> <td>0.0000</td>    <td>-0.0037</td>     <td>-0.0028</td>  \n",
       "</tr>\n",
       "<tr>\n",
       "  <th>total_acc</th>                           <td>0.0088</td>    <td>0.0006</td>     <td>13.8006</td> <td>0.0000</td>    <td>0.0076</td>      <td>0.0101</td>   \n",
       "</tr>\n",
       "<tr>\n",
       "  <th>mort_acc</th>                            <td>0.0269</td>    <td>0.0031</td>     <td>8.5646</td>  <td>0.0000</td>    <td>0.0207</td>      <td>0.0330</td>   \n",
       "</tr>\n",
       "<tr>\n",
       "  <th>pub_rec_bankruptcies</th>                <td>0.0808</td>    <td>0.0186</td>     <td>4.3514</td>  <td>0.0000</td>    <td>0.0444</td>      <td>0.1172</td>   \n",
       "</tr>\n",
       "<tr>\n",
       "  <th>sub_grade_A1</th>                        <td>3.9432</td>  <td>136704.2144</td>  <td>0.0000</td>  <td>1.0000</td> <td>-267931.3936</td> <td>267939.2800</td>\n",
       "</tr>\n",
       "<tr>\n",
       "  <th>sub_grade_A2</th>                        <td>3.3238</td>  <td>136489.7015</td>  <td>0.0000</td>  <td>1.0000</td> <td>-267511.5754</td> <td>267518.2231</td>\n",
       "</tr>\n",
       "<tr>\n",
       "  <th>sub_grade_A3</th>                        <td>3.0800</td>  <td>137629.9068</td>  <td>0.0000</td>  <td>1.0000</td> <td>-269746.5805</td> <td>269752.7406</td>\n",
       "</tr>\n",
       "<tr>\n",
       "  <th>sub_grade_A4</th>                        <td>2.8116</td>  <td>136408.5755</td>  <td>0.0000</td>  <td>1.0000</td> <td>-267353.0836</td> <td>267358.7069</td>\n",
       "</tr>\n",
       "<tr>\n",
       "  <th>sub_grade_A5</th>                        <td>2.5063</td>  <td>137345.7429</td>  <td>0.0000</td>  <td>1.0000</td> <td>-269190.2032</td> <td>269195.2158</td>\n",
       "</tr>\n",
       "<tr>\n",
       "  <th>sub_grade_B1</th>                        <td>2.2812</td>  <td>136847.0362</td>  <td>0.0000</td>  <td>1.0000</td> <td>-268212.9812</td> <td>268217.5435</td>\n",
       "</tr>\n",
       "<tr>\n",
       "  <th>sub_grade_B2</th>                        <td>1.9854</td>  <td>136899.3669</td>  <td>0.0000</td>  <td>1.0000</td> <td>-268315.8432</td> <td>268319.8139</td>\n",
       "</tr>\n",
       "<tr>\n",
       "  <th>sub_grade_B3</th>                        <td>1.7313</td>  <td>136274.8510</td>  <td>0.0000</td>  <td>1.0000</td> <td>-267092.0686</td> <td>267095.5312</td>\n",
       "</tr>\n",
       "<tr>\n",
       "  <th>sub_grade_B4</th>                        <td>1.4920</td>  <td>136231.8402</td>  <td>0.0000</td>  <td>1.0000</td> <td>-267008.0083</td> <td>267010.9923</td>\n",
       "</tr>\n",
       "<tr>\n",
       "  <th>sub_grade_B5</th>                        <td>1.2485</td>  <td>137089.4918</td>  <td>0.0000</td>  <td>1.0000</td> <td>-268689.2180</td> <td>268691.7150</td>\n",
       "</tr>\n",
       "<tr>\n",
       "  <th>sub_grade_C1</th>                        <td>1.0516</td>  <td>136737.5528</td>  <td>0.0000</td>  <td>1.0000</td> <td>-267999.6273</td> <td>268001.7305</td>\n",
       "</tr>\n",
       "<tr>\n",
       "  <th>sub_grade_C2</th>                        <td>0.8140</td>  <td>137402.6227</td>  <td>0.0000</td>  <td>1.0000</td> <td>-269303.3779</td> <td>269305.0058</td>\n",
       "</tr>\n",
       "<tr>\n",
       "  <th>sub_grade_C3</th>                        <td>0.6129</td>  <td>136889.8537</td>  <td>0.0000</td>  <td>1.0000</td> <td>-268298.5701</td> <td>268299.7960</td>\n",
       "</tr>\n",
       "<tr>\n",
       "  <th>sub_grade_C4</th>                        <td>0.4612</td>  <td>136184.0345</td>  <td>0.0000</td>  <td>1.0000</td> <td>-266915.3417</td> <td>266916.2641</td>\n",
       "</tr>\n",
       "<tr>\n",
       "  <th>sub_grade_C5</th>                        <td>0.2844</td>  <td>136965.9406</td>  <td>0.0000</td>  <td>1.0000</td> <td>-268448.0263</td> <td>268448.5951</td>\n",
       "</tr>\n",
       "<tr>\n",
       "  <th>sub_grade_D1</th>                        <td>0.0714</td>  <td>136880.3398</td>  <td>0.0000</td>  <td>1.0000</td> <td>-268280.4649</td> <td>268280.6077</td>\n",
       "</tr>\n",
       "<tr>\n",
       "  <th>sub_grade_D2</th>                        <td>-0.1333</td> <td>137070.4911</td>  <td>-0.0000</td> <td>1.0000</td> <td>-268653.3592</td> <td>268653.0927</td>\n",
       "</tr>\n",
       "<tr>\n",
       "  <th>sub_grade_D3</th>                        <td>-0.2417</td> <td>137852.0927</td>  <td>-0.0000</td> <td>1.0000</td> <td>-270185.3786</td> <td>270184.8953</td>\n",
       "</tr>\n",
       "<tr>\n",
       "  <th>sub_grade_D4</th>                        <td>-0.4281</td> <td>136899.3669</td>  <td>-0.0000</td> <td>1.0000</td> <td>-268318.2566</td> <td>268317.4005</td>\n",
       "</tr>\n",
       "<tr>\n",
       "  <th>sub_grade_D5</th>                        <td>-0.5620</td> <td>136284.4071</td>  <td>-0.0000</td> <td>1.0000</td> <td>-267113.0915</td> <td>267111.9675</td>\n",
       "</tr>\n",
       "<tr>\n",
       "  <th>sub_grade_E1</th>                        <td>-0.6703</td> <td>136880.3398</td>  <td>-0.0000</td> <td>1.0000</td> <td>-268281.2066</td> <td>268279.8660</td>\n",
       "</tr>\n",
       "<tr>\n",
       "  <th>sub_grade_E2</th>                        <td>-0.8970</td> <td>136699.4511</td>  <td>-0.0000</td> <td>1.0000</td> <td>-267926.8979</td> <td>267925.1040</td>\n",
       "</tr>\n",
       "<tr>\n",
       "  <th>sub_grade_E3</th>                        <td>-1.0562</td> <td>136704.2144</td>  <td>-0.0000</td> <td>1.0000</td> <td>-267936.3930</td> <td>267934.2806</td>\n",
       "</tr>\n",
       "<tr>\n",
       "  <th>sub_grade_E4</th>                        <td>-1.1751</td> <td>136327.4013</td>  <td>-0.0000</td> <td>1.0000</td> <td>-267197.9716</td> <td>267195.6215</td>\n",
       "</tr>\n",
       "<tr>\n",
       "  <th>sub_grade_E5</th>                        <td>-1.3712</td> <td>137431.0538</td>  <td>-0.0000</td> <td>1.0000</td> <td>-269361.2869</td> <td>269358.5446</td>\n",
       "</tr>\n",
       "<tr>\n",
       "  <th>sub_grade_F1</th>                        <td>-1.4332</td> <td>136570.7793</td>  <td>-0.0000</td> <td>1.0000</td> <td>-267675.2420</td> <td>267672.3756</td>\n",
       "</tr>\n",
       "<tr>\n",
       "  <th>sub_grade_F2</th>                        <td>-1.6995</td> <td>136708.9776</td>  <td>-0.0000</td> <td>1.0000</td> <td>-267946.3718</td> <td>267942.9729</td>\n",
       "</tr>\n",
       "<tr>\n",
       "  <th>sub_grade_F3</th>                        <td>-1.8275</td> <td>136064.4468</td>  <td>-0.0000</td> <td>1.0000</td> <td>-266683.2429</td> <td>266679.5879</td>\n",
       "</tr>\n",
       "<tr>\n",
       "  <th>sub_grade_F4</th>                        <td>-2.0223</td> <td>137440.5295</td>  <td>-0.0000</td> <td>1.0000</td> <td>-269380.5101</td> <td>269376.4654</td>\n",
       "</tr>\n",
       "<tr>\n",
       "  <th>sub_grade_F5</th>                        <td>-2.1354</td> <td>137317.2942</td>  <td>-0.0000</td> <td>1.0000</td> <td>-269139.0864</td> <td>269134.8156</td>\n",
       "</tr>\n",
       "<tr>\n",
       "  <th>sub_grade_G1</th>                        <td>-2.1264</td> <td>136866.0679</td>  <td>-0.0000</td> <td>1.0000</td> <td>-268254.6901</td> <td>268250.4373</td>\n",
       "</tr>\n",
       "<tr>\n",
       "  <th>sub_grade_G2</th>                        <td>-2.2665</td> <td>136327.4013</td>  <td>-0.0000</td> <td>1.0000</td> <td>-267199.0631</td> <td>267194.5301</td>\n",
       "</tr>\n",
       "<tr>\n",
       "  <th>sub_grade_G3</th>                        <td>-2.3835</td> <td>136637.5132</td>  <td>-0.0000</td> <td>1.0000</td> <td>-267806.9882</td> <td>267802.2213</td>\n",
       "</tr>\n",
       "<tr>\n",
       "  <th>sub_grade_G4</th>                        <td>-2.3914</td> <td>137870.9856</td>  <td>-0.0000</td> <td>1.0000</td> <td>-270224.5577</td> <td>270219.7750</td>\n",
       "</tr>\n",
       "<tr>\n",
       "  <th>sub_grade_G5</th>                        <td>-2.5296</td> <td>137079.9918</td>  <td>-0.0000</td> <td>1.0000</td> <td>-268674.3765</td> <td>268669.3173</td>\n",
       "</tr>\n",
       "<tr>\n",
       "  <th>verification_status_Not Verified</th>    <td>0.2081</td>  <td>171399.7677</td>  <td>0.0000</td>  <td>1.0000</td> <td>-335937.1635</td> <td>335937.5797</td>\n",
       "</tr>\n",
       "<tr>\n",
       "  <th>verification_status_Source Verified</th> <td>0.0622</td>  <td>172401.4896</td>  <td>0.0000</td>  <td>1.0000</td> <td>-337900.6483</td> <td>337900.7727</td>\n",
       "</tr>\n",
       "<tr>\n",
       "  <th>verification_status_Verified</th>        <td>0.0790</td>  <td>172923.1557</td>  <td>0.0000</td>  <td>1.0000</td> <td>-338923.0783</td> <td>338923.2363</td>\n",
       "</tr>\n",
       "<tr>\n",
       "  <th>application_type_DIRECT_PAY</th>         <td>-0.0765</td> <td>112340.5518</td>  <td>-0.0000</td> <td>1.0000</td> <td>-220183.5121</td> <td>220183.3590</td>\n",
       "</tr>\n",
       "<tr>\n",
       "  <th>application_type_INDIVIDUAL</th>         <td>-0.4047</td> <td>112871.9950</td>  <td>-0.0000</td> <td>1.0000</td> <td>-221225.4497</td> <td>221224.6403</td>\n",
       "</tr>\n",
       "<tr>\n",
       "  <th>application_type_JOINT</th>              <td>0.8376</td>  <td>112621.3482</td>  <td>0.0000</td>  <td>1.0000</td> <td>-220732.9488</td> <td>220734.6239</td>\n",
       "</tr>\n",
       "<tr>\n",
       "  <th>initial_list_status_f</th>               <td>0.1360</td>      <td>nan</td>        <td>nan</td>     <td>nan</td>       <td>nan</td>         <td>nan</td>    \n",
       "</tr>\n",
       "<tr>\n",
       "  <th>initial_list_status_w</th>               <td>0.2138</td>      <td>nan</td>        <td>nan</td>     <td>nan</td>       <td>nan</td>         <td>nan</td>    \n",
       "</tr>\n",
       "<tr>\n",
       "  <th>purpose_car</th>                         <td>-0.7879</td> <td>35161.0495</td>   <td>-0.0000</td> <td>1.0000</td>  <td>-68915.1786</td> <td>68913.6028</td> \n",
       "</tr>\n",
       "<tr>\n",
       "  <th>purpose_credit_card</th>                 <td>-0.8625</td> <td>35187.7575</td>   <td>-0.0000</td> <td>1.0000</td>  <td>-68967.5999</td> <td>68965.8748</td> \n",
       "</tr>\n",
       "<tr>\n",
       "  <th>purpose_debt_consolidation</th>          <td>-0.8782</td> <td>35161.0495</td>   <td>-0.0000</td> <td>1.0000</td>  <td>-68915.2688</td> <td>68913.5125</td> \n",
       "</tr>\n",
       "<tr>\n",
       "  <th>purpose_educational</th>                 <td>11.9036</td> <td>35228.9316</td>   <td>0.0003</td>  <td>0.9997</td>  <td>-69035.5336</td> <td>69059.3407</td> \n",
       "</tr>\n",
       "<tr>\n",
       "  <th>purpose_home_improvement</th>            <td>-0.9504</td> <td>35214.4452</td>   <td>-0.0000</td> <td>1.0000</td>  <td>-69019.9947</td> <td>69018.0939</td> \n",
       "</tr>\n",
       "<tr>\n",
       "  <th>purpose_house</th>                       <td>-0.7452</td> <td>35187.7575</td>   <td>-0.0000</td> <td>1.0000</td>  <td>-68967.4826</td> <td>68965.9921</td> \n",
       "</tr>\n",
       "<tr>\n",
       "  <th>purpose_major_purchase</th>              <td>-0.9427</td> <td>35214.4452</td>   <td>-0.0000</td> <td>1.0000</td>  <td>-69019.9870</td> <td>69018.1016</td> \n",
       "</tr>\n",
       "<tr>\n",
       "  <th>purpose_medical</th>                     <td>-1.0208</td> <td>35241.1127</td>   <td>-0.0000</td> <td>1.0000</td>  <td>-69072.3325</td> <td>69070.2908</td> \n",
       "</tr>\n",
       "<tr>\n",
       "  <th>purpose_moving</th>                      <td>-0.9309</td> <td>35187.7575</td>   <td>-0.0000</td> <td>1.0000</td>  <td>-68967.6683</td> <td>68965.8064</td> \n",
       "</tr>\n",
       "<tr>\n",
       "  <th>purpose_other</th>                       <td>-0.8430</td> <td>35187.7575</td>   <td>-0.0000</td> <td>1.0000</td>  <td>-68967.5804</td> <td>68965.8943</td> \n",
       "</tr>\n",
       "<tr>\n",
       "  <th>purpose_renewable_energy</th>            <td>-0.8714</td> <td>35161.0495</td>   <td>-0.0000</td> <td>1.0000</td>  <td>-68915.2620</td> <td>68913.5193</td> \n",
       "</tr>\n",
       "<tr>\n",
       "  <th>purpose_small_business</th>              <td>-1.2923</td> <td>35187.7575</td>   <td>-0.0000</td> <td>1.0000</td>  <td>-68968.0297</td> <td>68965.4450</td> \n",
       "</tr>\n",
       "<tr>\n",
       "  <th>purpose_vacation</th>                    <td>-0.8818</td> <td>35214.4452</td>   <td>-0.0000</td> <td>1.0000</td>  <td>-69019.9261</td> <td>69018.1626</td> \n",
       "</tr>\n",
       "<tr>\n",
       "  <th>purpose_wedding</th>                     <td>-0.5459</td> <td>35161.0495</td>   <td>-0.0000</td> <td>1.0000</td>  <td>-68914.9366</td> <td>68913.8448</td> \n",
       "</tr>\n",
       "<tr>\n",
       "  <th>home_ownership_MORTGAGE</th>             <td>0.2287</td>      <td>nan</td>        <td>nan</td>     <td>nan</td>       <td>nan</td>         <td>nan</td>    \n",
       "</tr>\n",
       "<tr>\n",
       "  <th>home_ownership_OTHER</th>                <td>0.0588</td>      <td>nan</td>        <td>nan</td>     <td>nan</td>       <td>nan</td>         <td>nan</td>    \n",
       "</tr>\n",
       "<tr>\n",
       "  <th>home_ownership_OWN</th>                  <td>0.0870</td>      <td>nan</td>        <td>nan</td>     <td>nan</td>       <td>nan</td>         <td>nan</td>    \n",
       "</tr>\n",
       "<tr>\n",
       "  <th>home_ownership_RENT</th>                 <td>-0.0255</td>     <td>nan</td>        <td>nan</td>     <td>nan</td>       <td>nan</td>         <td>nan</td>    \n",
       "</tr>\n",
       "</table>"
      ],
      "text/plain": [
       "<class 'statsmodels.iolib.summary2.Summary'>\n",
       "\"\"\"\n",
       "                                         Results: Logit\n",
       "================================================================================================\n",
       "Model:                        Logit                      Pseudo R-squared:           0.097      \n",
       "Dependent Variable:           loan_status                AIC:                        258853.2111\n",
       "Date:                         2021-12-06 09:23           BIC:                        259581.8718\n",
       "No. Observations:             285016                     Log-Likelihood:             -1.2936e+05\n",
       "Df Model:                     68                         LL-Null:                    -1.4323e+05\n",
       "Df Residuals:                 284947                     LLR p-value:                0.0000     \n",
       "Converged:                    0.0000                     Scale:                      1.0000     \n",
       "No. Iterations:               35.0000                                                           \n",
       "------------------------------------------------------------------------------------------------\n",
       "                                     Coef.    Std.Err.     z     P>|z|     [0.025       0.975]  \n",
       "------------------------------------------------------------------------------------------------\n",
       "const                                0.3563  89858.8101   0.0000 1.0000 -176119.6752 176120.3878\n",
       "loan_amnt                            0.0000      0.0000   4.3752 0.0000       0.0000      0.0000\n",
       "term                                -0.0227      0.0012 -18.6286 0.0000      -0.0251     -0.0203\n",
       "int_rate                             0.1799      0.0058  30.9714 0.0000       0.1685      0.1913\n",
       "installment                         -0.0009      0.0001  -6.3024 0.0000      -0.0012     -0.0006\n",
       "annual_inc                           0.0000      0.0000  18.0078 0.0000       0.0000      0.0000\n",
       "dti                                 -0.0226      0.0007 -32.4513 0.0000      -0.0239     -0.0212\n",
       "open_acc                            -0.0213      0.0014 -15.4021 0.0000      -0.0240     -0.0186\n",
       "pub_rec                             -0.0668      0.0124  -5.3912 0.0000      -0.0911     -0.0425\n",
       "revol_bal                            0.0000      0.0000   7.6004 0.0000       0.0000      0.0000\n",
       "revol_util                          -0.0033      0.0002 -13.3987 0.0000      -0.0037     -0.0028\n",
       "total_acc                            0.0088      0.0006  13.8006 0.0000       0.0076      0.0101\n",
       "mort_acc                             0.0269      0.0031   8.5646 0.0000       0.0207      0.0330\n",
       "pub_rec_bankruptcies                 0.0808      0.0186   4.3514 0.0000       0.0444      0.1172\n",
       "sub_grade_A1                         3.9432 136704.2144   0.0000 1.0000 -267931.3936 267939.2800\n",
       "sub_grade_A2                         3.3238 136489.7015   0.0000 1.0000 -267511.5754 267518.2231\n",
       "sub_grade_A3                         3.0800 137629.9068   0.0000 1.0000 -269746.5805 269752.7406\n",
       "sub_grade_A4                         2.8116 136408.5755   0.0000 1.0000 -267353.0836 267358.7069\n",
       "sub_grade_A5                         2.5063 137345.7429   0.0000 1.0000 -269190.2032 269195.2158\n",
       "sub_grade_B1                         2.2812 136847.0362   0.0000 1.0000 -268212.9812 268217.5435\n",
       "sub_grade_B2                         1.9854 136899.3669   0.0000 1.0000 -268315.8432 268319.8139\n",
       "sub_grade_B3                         1.7313 136274.8510   0.0000 1.0000 -267092.0686 267095.5312\n",
       "sub_grade_B4                         1.4920 136231.8402   0.0000 1.0000 -267008.0083 267010.9923\n",
       "sub_grade_B5                         1.2485 137089.4918   0.0000 1.0000 -268689.2180 268691.7150\n",
       "sub_grade_C1                         1.0516 136737.5528   0.0000 1.0000 -267999.6273 268001.7305\n",
       "sub_grade_C2                         0.8140 137402.6227   0.0000 1.0000 -269303.3779 269305.0058\n",
       "sub_grade_C3                         0.6129 136889.8537   0.0000 1.0000 -268298.5701 268299.7960\n",
       "sub_grade_C4                         0.4612 136184.0345   0.0000 1.0000 -266915.3417 266916.2641\n",
       "sub_grade_C5                         0.2844 136965.9406   0.0000 1.0000 -268448.0263 268448.5951\n",
       "sub_grade_D1                         0.0714 136880.3398   0.0000 1.0000 -268280.4649 268280.6077\n",
       "sub_grade_D2                        -0.1333 137070.4911  -0.0000 1.0000 -268653.3592 268653.0927\n",
       "sub_grade_D3                        -0.2417 137852.0927  -0.0000 1.0000 -270185.3786 270184.8953\n",
       "sub_grade_D4                        -0.4281 136899.3669  -0.0000 1.0000 -268318.2566 268317.4005\n",
       "sub_grade_D5                        -0.5620 136284.4071  -0.0000 1.0000 -267113.0915 267111.9675\n",
       "sub_grade_E1                        -0.6703 136880.3398  -0.0000 1.0000 -268281.2066 268279.8660\n",
       "sub_grade_E2                        -0.8970 136699.4511  -0.0000 1.0000 -267926.8979 267925.1040\n",
       "sub_grade_E3                        -1.0562 136704.2144  -0.0000 1.0000 -267936.3930 267934.2806\n",
       "sub_grade_E4                        -1.1751 136327.4013  -0.0000 1.0000 -267197.9716 267195.6215\n",
       "sub_grade_E5                        -1.3712 137431.0538  -0.0000 1.0000 -269361.2869 269358.5446\n",
       "sub_grade_F1                        -1.4332 136570.7793  -0.0000 1.0000 -267675.2420 267672.3756\n",
       "sub_grade_F2                        -1.6995 136708.9776  -0.0000 1.0000 -267946.3718 267942.9729\n",
       "sub_grade_F3                        -1.8275 136064.4468  -0.0000 1.0000 -266683.2429 266679.5879\n",
       "sub_grade_F4                        -2.0223 137440.5295  -0.0000 1.0000 -269380.5101 269376.4654\n",
       "sub_grade_F5                        -2.1354 137317.2942  -0.0000 1.0000 -269139.0864 269134.8156\n",
       "sub_grade_G1                        -2.1264 136866.0679  -0.0000 1.0000 -268254.6901 268250.4373\n",
       "sub_grade_G2                        -2.2665 136327.4013  -0.0000 1.0000 -267199.0631 267194.5301\n",
       "sub_grade_G3                        -2.3835 136637.5132  -0.0000 1.0000 -267806.9882 267802.2213\n",
       "sub_grade_G4                        -2.3914 137870.9856  -0.0000 1.0000 -270224.5577 270219.7750\n",
       "sub_grade_G5                        -2.5296 137079.9918  -0.0000 1.0000 -268674.3765 268669.3173\n",
       "verification_status_Not Verified     0.2081 171399.7677   0.0000 1.0000 -335937.1635 335937.5797\n",
       "verification_status_Source Verified  0.0622 172401.4896   0.0000 1.0000 -337900.6483 337900.7727\n",
       "verification_status_Verified         0.0790 172923.1557   0.0000 1.0000 -338923.0783 338923.2363\n",
       "application_type_DIRECT_PAY         -0.0765 112340.5518  -0.0000 1.0000 -220183.5121 220183.3590\n",
       "application_type_INDIVIDUAL         -0.4047 112871.9950  -0.0000 1.0000 -221225.4497 221224.6403\n",
       "application_type_JOINT               0.8376 112621.3482   0.0000 1.0000 -220732.9488 220734.6239\n",
       "initial_list_status_f                0.1360         nan      nan    nan          nan         nan\n",
       "initial_list_status_w                0.2138         nan      nan    nan          nan         nan\n",
       "purpose_car                         -0.7879  35161.0495  -0.0000 1.0000  -68915.1786  68913.6028\n",
       "purpose_credit_card                 -0.8625  35187.7575  -0.0000 1.0000  -68967.5999  68965.8748\n",
       "purpose_debt_consolidation          -0.8782  35161.0495  -0.0000 1.0000  -68915.2688  68913.5125\n",
       "purpose_educational                 11.9036  35228.9316   0.0003 0.9997  -69035.5336  69059.3407\n",
       "purpose_home_improvement            -0.9504  35214.4452  -0.0000 1.0000  -69019.9947  69018.0939\n",
       "purpose_house                       -0.7452  35187.7575  -0.0000 1.0000  -68967.4826  68965.9921\n",
       "purpose_major_purchase              -0.9427  35214.4452  -0.0000 1.0000  -69019.9870  69018.1016\n",
       "purpose_medical                     -1.0208  35241.1127  -0.0000 1.0000  -69072.3325  69070.2908\n",
       "purpose_moving                      -0.9309  35187.7575  -0.0000 1.0000  -68967.6683  68965.8064\n",
       "purpose_other                       -0.8430  35187.7575  -0.0000 1.0000  -68967.5804  68965.8943\n",
       "purpose_renewable_energy            -0.8714  35161.0495  -0.0000 1.0000  -68915.2620  68913.5193\n",
       "purpose_small_business              -1.2923  35187.7575  -0.0000 1.0000  -68968.0297  68965.4450\n",
       "purpose_vacation                    -0.8818  35214.4452  -0.0000 1.0000  -69019.9261  69018.1626\n",
       "purpose_wedding                     -0.5459  35161.0495  -0.0000 1.0000  -68914.9366  68913.8448\n",
       "home_ownership_MORTGAGE              0.2287         nan      nan    nan          nan         nan\n",
       "home_ownership_OTHER                 0.0588         nan      nan    nan          nan         nan\n",
       "home_ownership_OWN                   0.0870         nan      nan    nan          nan         nan\n",
       "home_ownership_RENT                 -0.0255         nan      nan    nan          nan         nan\n",
       "================================================================================================\n",
       "\n",
       "\"\"\""
      ]
     },
     "execution_count": 42,
     "metadata": {},
     "output_type": "execute_result"
    }
   ],
   "source": [
    "logReg_1.summary2()"
   ]
  },
  {
   "cell_type": "code",
   "execution_count": 43,
   "id": "34d5e71e",
   "metadata": {},
   "outputs": [
    {
     "data": {
      "text/plain": [
       "const                       9.999968e-01\n",
       "loan_amnt                   1.213334e-05\n",
       "term                        1.885613e-77\n",
       "int_rate                   1.310778e-210\n",
       "installment                 2.930919e-10\n",
       "                               ...      \n",
       "purpose_wedding             9.999876e-01\n",
       "home_ownership_MORTGAGE              NaN\n",
       "home_ownership_OTHER                 NaN\n",
       "home_ownership_OWN                   NaN\n",
       "home_ownership_RENT                  NaN\n",
       "Length: 75, dtype: float64"
      ]
     },
     "execution_count": 43,
     "metadata": {},
     "output_type": "execute_result"
    }
   ],
   "source": [
    "logReg_1.pvalues"
   ]
  },
  {
   "cell_type": "code",
   "execution_count": 44,
   "id": "fba83493",
   "metadata": {},
   "outputs": [],
   "source": [
    "significant_features = ['loan_amnt', 'term', 'int_rate', 'installment', 'annual_inc', 'dti',\n",
    "       'open_acc', 'pub_rec', 'revol_bal', 'revol_util', 'total_acc',\n",
    "       'mort_acc', 'pub_rec_bankruptcies']"
   ]
  },
  {
   "cell_type": "code",
   "execution_count": 45,
   "id": "99720de9",
   "metadata": {},
   "outputs": [],
   "source": [
    "X_new_1 = X_scaled[significant_features]"
   ]
  },
  {
   "cell_type": "code",
   "execution_count": 46,
   "id": "91bfb44a",
   "metadata": {},
   "outputs": [
    {
     "data": {
      "text/plain": [
       "(356270, 13)"
      ]
     },
     "execution_count": 46,
     "metadata": {},
     "output_type": "execute_result"
    }
   ],
   "source": [
    "X_new_1.shape"
   ]
  },
  {
   "cell_type": "code",
   "execution_count": 47,
   "id": "66363e8c",
   "metadata": {},
   "outputs": [
    {
     "data": {
      "text/html": [
       "<div>\n",
       "<style scoped>\n",
       "    .dataframe tbody tr th:only-of-type {\n",
       "        vertical-align: middle;\n",
       "    }\n",
       "\n",
       "    .dataframe tbody tr th {\n",
       "        vertical-align: top;\n",
       "    }\n",
       "\n",
       "    .dataframe thead th {\n",
       "        text-align: right;\n",
       "    }\n",
       "</style>\n",
       "<table border=\"1\" class=\"dataframe\">\n",
       "  <thead>\n",
       "    <tr style=\"text-align: right;\">\n",
       "      <th></th>\n",
       "      <th>loan_amnt</th>\n",
       "      <th>term</th>\n",
       "      <th>int_rate</th>\n",
       "      <th>installment</th>\n",
       "      <th>annual_inc</th>\n",
       "      <th>dti</th>\n",
       "      <th>open_acc</th>\n",
       "      <th>pub_rec</th>\n",
       "      <th>revol_bal</th>\n",
       "      <th>revol_util</th>\n",
       "      <th>total_acc</th>\n",
       "      <th>mort_acc</th>\n",
       "      <th>pub_rec_bankruptcies</th>\n",
       "    </tr>\n",
       "  </thead>\n",
       "  <tbody>\n",
       "    <tr>\n",
       "      <th>0</th>\n",
       "      <td>10000.0</td>\n",
       "      <td>36</td>\n",
       "      <td>11.44</td>\n",
       "      <td>329.48</td>\n",
       "      <td>117000.0</td>\n",
       "      <td>26.24</td>\n",
       "      <td>16.0</td>\n",
       "      <td>0.0</td>\n",
       "      <td>36369.0</td>\n",
       "      <td>41.8</td>\n",
       "      <td>25.0</td>\n",
       "      <td>0.0</td>\n",
       "      <td>0.0</td>\n",
       "    </tr>\n",
       "    <tr>\n",
       "      <th>1</th>\n",
       "      <td>8000.0</td>\n",
       "      <td>36</td>\n",
       "      <td>11.99</td>\n",
       "      <td>265.68</td>\n",
       "      <td>65000.0</td>\n",
       "      <td>22.05</td>\n",
       "      <td>17.0</td>\n",
       "      <td>0.0</td>\n",
       "      <td>20131.0</td>\n",
       "      <td>53.3</td>\n",
       "      <td>27.0</td>\n",
       "      <td>3.0</td>\n",
       "      <td>0.0</td>\n",
       "    </tr>\n",
       "    <tr>\n",
       "      <th>2</th>\n",
       "      <td>15600.0</td>\n",
       "      <td>36</td>\n",
       "      <td>10.49</td>\n",
       "      <td>506.97</td>\n",
       "      <td>43057.0</td>\n",
       "      <td>12.79</td>\n",
       "      <td>13.0</td>\n",
       "      <td>0.0</td>\n",
       "      <td>11987.0</td>\n",
       "      <td>92.2</td>\n",
       "      <td>26.0</td>\n",
       "      <td>0.0</td>\n",
       "      <td>0.0</td>\n",
       "    </tr>\n",
       "    <tr>\n",
       "      <th>3</th>\n",
       "      <td>7200.0</td>\n",
       "      <td>36</td>\n",
       "      <td>6.49</td>\n",
       "      <td>220.65</td>\n",
       "      <td>54000.0</td>\n",
       "      <td>2.60</td>\n",
       "      <td>6.0</td>\n",
       "      <td>0.0</td>\n",
       "      <td>5472.0</td>\n",
       "      <td>21.5</td>\n",
       "      <td>13.0</td>\n",
       "      <td>0.0</td>\n",
       "      <td>0.0</td>\n",
       "    </tr>\n",
       "    <tr>\n",
       "      <th>4</th>\n",
       "      <td>24375.0</td>\n",
       "      <td>60</td>\n",
       "      <td>17.27</td>\n",
       "      <td>609.33</td>\n",
       "      <td>55000.0</td>\n",
       "      <td>33.95</td>\n",
       "      <td>13.0</td>\n",
       "      <td>0.0</td>\n",
       "      <td>24584.0</td>\n",
       "      <td>69.8</td>\n",
       "      <td>43.0</td>\n",
       "      <td>1.0</td>\n",
       "      <td>0.0</td>\n",
       "    </tr>\n",
       "  </tbody>\n",
       "</table>\n",
       "</div>"
      ],
      "text/plain": [
       "   loan_amnt  term  int_rate  installment  annual_inc    dti  open_acc  \\\n",
       "0    10000.0    36     11.44       329.48    117000.0  26.24      16.0   \n",
       "1     8000.0    36     11.99       265.68     65000.0  22.05      17.0   \n",
       "2    15600.0    36     10.49       506.97     43057.0  12.79      13.0   \n",
       "3     7200.0    36      6.49       220.65     54000.0   2.60       6.0   \n",
       "4    24375.0    60     17.27       609.33     55000.0  33.95      13.0   \n",
       "\n",
       "   pub_rec  revol_bal  revol_util  total_acc  mort_acc  pub_rec_bankruptcies  \n",
       "0      0.0    36369.0        41.8       25.0       0.0                   0.0  \n",
       "1      0.0    20131.0        53.3       27.0       3.0                   0.0  \n",
       "2      0.0    11987.0        92.2       26.0       0.0                   0.0  \n",
       "3      0.0     5472.0        21.5       13.0       0.0                   0.0  \n",
       "4      0.0    24584.0        69.8       43.0       1.0                   0.0  "
      ]
     },
     "execution_count": 47,
     "metadata": {},
     "output_type": "execute_result"
    }
   ],
   "source": [
    "X_new_1.head()"
   ]
  },
  {
   "cell_type": "markdown",
   "id": "2180a294",
   "metadata": {},
   "source": [
    "### Modifying the model with new set of significant features: X_new_1"
   ]
  },
  {
   "cell_type": "code",
   "execution_count": 48,
   "id": "f3eaff6d",
   "metadata": {},
   "outputs": [],
   "source": [
    "X_train, X_test, y_train, y_test = train_test_split(X_new_1, y,test_size=0.2, random_state=10)"
   ]
  },
  {
   "cell_type": "code",
   "execution_count": 49,
   "id": "331ebc75",
   "metadata": {},
   "outputs": [
    {
     "data": {
      "text/plain": [
       "((285016, 13), (71254, 13), (285016,), (71254,))"
      ]
     },
     "execution_count": 49,
     "metadata": {},
     "output_type": "execute_result"
    }
   ],
   "source": [
    "X_train.shape, X_test.shape, y_train.shape, y_test.shape"
   ]
  },
  {
   "cell_type": "code",
   "execution_count": 50,
   "id": "9836359d",
   "metadata": {},
   "outputs": [
    {
     "name": "stdout",
     "output_type": "stream",
     "text": [
      "Optimization terminated successfully.\n",
      "         Current function value: 0.481194\n",
      "         Iterations 6\n"
     ]
    }
   ],
   "source": [
    "logReg_2 = sm.Logit(y_train, X_train)\n",
    "logReg_2 = logReg_2.fit()"
   ]
  },
  {
   "cell_type": "code",
   "execution_count": 51,
   "id": "b8899e9f",
   "metadata": {},
   "outputs": [
    {
     "data": {
      "text/html": [
       "<table class=\"simpletable\">\n",
       "<tr>\n",
       "        <td>Model:</td>              <td>Logit</td>      <td>Pseudo R-squared:</td>    <td>0.042</td>   \n",
       "</tr>\n",
       "<tr>\n",
       "  <td>Dependent Variable:</td>    <td>loan_status</td>         <td>AIC:</td>        <td>274321.8669</td>\n",
       "</tr>\n",
       "<tr>\n",
       "         <td>Date:</td>        <td>2021-12-06 09:23</td>       <td>BIC:</td>        <td>274459.1508</td>\n",
       "</tr>\n",
       "<tr>\n",
       "   <td>No. Observations:</td>       <td>285016</td>       <td>Log-Likelihood:</td>  <td>-1.3715e+05</td>\n",
       "</tr>\n",
       "<tr>\n",
       "       <td>Df Model:</td>             <td>12</td>            <td>LL-Null:</td>      <td>-1.4323e+05</td>\n",
       "</tr>\n",
       "<tr>\n",
       "     <td>Df Residuals:</td>         <td>285003</td>        <td>LLR p-value:</td>      <td>0.0000</td>   \n",
       "</tr>\n",
       "<tr>\n",
       "      <td>Converged:</td>           <td>1.0000</td>           <td>Scale:</td>         <td>1.0000</td>   \n",
       "</tr>\n",
       "<tr>\n",
       "    <td>No. Iterations:</td>        <td>6.0000</td>              <td></td>               <td></td>      \n",
       "</tr>\n",
       "</table>\n",
       "<table class=\"simpletable\">\n",
       "<tr>\n",
       "            <td></td>            <th>Coef.</th>  <th>Std.Err.</th>     <th>z</th>      <th>P>|z|</th> <th>[0.025</th>  <th>0.975]</th> \n",
       "</tr>\n",
       "<tr>\n",
       "  <th>loan_amnt</th>            <td>-0.0003</td>  <td>0.0000</td>  <td>-113.0240</td> <td>0.0000</td> <td>-0.0003</td> <td>-0.0003</td>\n",
       "</tr>\n",
       "<tr>\n",
       "  <th>term</th>                 <td>0.0770</td>   <td>0.0008</td>  <td>102.2203</td>  <td>0.0000</td> <td>0.0755</td>  <td>0.0785</td> \n",
       "</tr>\n",
       "<tr>\n",
       "  <th>int_rate</th>             <td>-0.1507</td>  <td>0.0015</td>  <td>-101.3862</td> <td>0.0000</td> <td>-0.1536</td> <td>-0.1478</td>\n",
       "</tr>\n",
       "<tr>\n",
       "  <th>installment</th>          <td>0.0100</td>   <td>0.0001</td>  <td>105.4450</td>  <td>0.0000</td> <td>0.0098</td>  <td>0.0101</td> \n",
       "</tr>\n",
       "<tr>\n",
       "  <th>annual_inc</th>           <td>0.0000</td>   <td>0.0000</td>   <td>40.2961</td>  <td>0.0000</td> <td>0.0000</td>  <td>0.0000</td> \n",
       "</tr>\n",
       "<tr>\n",
       "  <th>dti</th>                  <td>-0.0139</td>  <td>0.0007</td>  <td>-21.1612</td>  <td>0.0000</td> <td>-0.0152</td> <td>-0.0126</td>\n",
       "</tr>\n",
       "<tr>\n",
       "  <th>open_acc</th>             <td>-0.0036</td>  <td>0.0014</td>   <td>-2.6149</td>  <td>0.0089</td> <td>-0.0063</td> <td>-0.0009</td>\n",
       "</tr>\n",
       "<tr>\n",
       "  <th>pub_rec</th>              <td>-0.0973</td>  <td>0.0123</td>   <td>-7.9317</td>  <td>0.0000</td> <td>-0.1213</td> <td>-0.0732</td>\n",
       "</tr>\n",
       "<tr>\n",
       "  <th>revol_bal</th>            <td>0.0000</td>   <td>0.0000</td>   <td>1.1424</td>   <td>0.2533</td> <td>-0.0000</td> <td>0.0000</td> \n",
       "</tr>\n",
       "<tr>\n",
       "  <th>revol_util</th>           <td>0.0026</td>   <td>0.0002</td>   <td>11.7739</td>  <td>0.0000</td> <td>0.0022</td>  <td>0.0030</td> \n",
       "</tr>\n",
       "<tr>\n",
       "  <th>total_acc</th>            <td>0.0105</td>   <td>0.0006</td>   <td>16.6554</td>  <td>0.0000</td> <td>0.0093</td>  <td>0.0118</td> \n",
       "</tr>\n",
       "<tr>\n",
       "  <th>mort_acc</th>             <td>0.0618</td>   <td>0.0029</td>   <td>21.6829</td>  <td>0.0000</td> <td>0.0562</td>  <td>0.0674</td> \n",
       "</tr>\n",
       "<tr>\n",
       "  <th>pub_rec_bankruptcies</th> <td>0.1245</td>   <td>0.0184</td>   <td>6.7736</td>   <td>0.0000</td> <td>0.0885</td>  <td>0.1606</td> \n",
       "</tr>\n",
       "</table>"
      ],
      "text/plain": [
       "<class 'statsmodels.iolib.summary2.Summary'>\n",
       "\"\"\"\n",
       "                            Results: Logit\n",
       "======================================================================\n",
       "Model:                Logit             Pseudo R-squared:  0.042      \n",
       "Dependent Variable:   loan_status       AIC:               274321.8669\n",
       "Date:                 2021-12-06 09:23  BIC:               274459.1508\n",
       "No. Observations:     285016            Log-Likelihood:    -1.3715e+05\n",
       "Df Model:             12                LL-Null:           -1.4323e+05\n",
       "Df Residuals:         285003            LLR p-value:       0.0000     \n",
       "Converged:            1.0000            Scale:             1.0000     \n",
       "No. Iterations:       6.0000                                          \n",
       "----------------------------------------------------------------------\n",
       "                      Coef.  Std.Err.     z     P>|z|   [0.025  0.975]\n",
       "----------------------------------------------------------------------\n",
       "loan_amnt            -0.0003   0.0000 -113.0240 0.0000 -0.0003 -0.0003\n",
       "term                  0.0770   0.0008  102.2203 0.0000  0.0755  0.0785\n",
       "int_rate             -0.1507   0.0015 -101.3862 0.0000 -0.1536 -0.1478\n",
       "installment           0.0100   0.0001  105.4450 0.0000  0.0098  0.0101\n",
       "annual_inc            0.0000   0.0000   40.2961 0.0000  0.0000  0.0000\n",
       "dti                  -0.0139   0.0007  -21.1612 0.0000 -0.0152 -0.0126\n",
       "open_acc             -0.0036   0.0014   -2.6149 0.0089 -0.0063 -0.0009\n",
       "pub_rec              -0.0973   0.0123   -7.9317 0.0000 -0.1213 -0.0732\n",
       "revol_bal             0.0000   0.0000    1.1424 0.2533 -0.0000  0.0000\n",
       "revol_util            0.0026   0.0002   11.7739 0.0000  0.0022  0.0030\n",
       "total_acc             0.0105   0.0006   16.6554 0.0000  0.0093  0.0118\n",
       "mort_acc              0.0618   0.0029   21.6829 0.0000  0.0562  0.0674\n",
       "pub_rec_bankruptcies  0.1245   0.0184    6.7736 0.0000  0.0885  0.1606\n",
       "======================================================================\n",
       "\n",
       "\"\"\""
      ]
     },
     "execution_count": 51,
     "metadata": {},
     "output_type": "execute_result"
    }
   ],
   "source": [
    "logReg_2.summary2()"
   ]
  },
  {
   "cell_type": "code",
   "execution_count": 52,
   "id": "0369d14d",
   "metadata": {},
   "outputs": [],
   "source": [
    "X_new_2 = X_new_1.drop(['revol_bal'], axis=1)"
   ]
  },
  {
   "cell_type": "code",
   "execution_count": 53,
   "id": "13d3d9bb",
   "metadata": {},
   "outputs": [
    {
     "data": {
      "text/html": [
       "<div>\n",
       "<style scoped>\n",
       "    .dataframe tbody tr th:only-of-type {\n",
       "        vertical-align: middle;\n",
       "    }\n",
       "\n",
       "    .dataframe tbody tr th {\n",
       "        vertical-align: top;\n",
       "    }\n",
       "\n",
       "    .dataframe thead th {\n",
       "        text-align: right;\n",
       "    }\n",
       "</style>\n",
       "<table border=\"1\" class=\"dataframe\">\n",
       "  <thead>\n",
       "    <tr style=\"text-align: right;\">\n",
       "      <th></th>\n",
       "      <th>loan_amnt</th>\n",
       "      <th>term</th>\n",
       "      <th>int_rate</th>\n",
       "      <th>installment</th>\n",
       "      <th>annual_inc</th>\n",
       "      <th>dti</th>\n",
       "      <th>open_acc</th>\n",
       "      <th>pub_rec</th>\n",
       "      <th>revol_util</th>\n",
       "      <th>total_acc</th>\n",
       "      <th>mort_acc</th>\n",
       "      <th>pub_rec_bankruptcies</th>\n",
       "    </tr>\n",
       "  </thead>\n",
       "  <tbody>\n",
       "    <tr>\n",
       "      <th>0</th>\n",
       "      <td>10000.0</td>\n",
       "      <td>36</td>\n",
       "      <td>11.44</td>\n",
       "      <td>329.48</td>\n",
       "      <td>117000.0</td>\n",
       "      <td>26.24</td>\n",
       "      <td>16.0</td>\n",
       "      <td>0.0</td>\n",
       "      <td>41.8</td>\n",
       "      <td>25.0</td>\n",
       "      <td>0.0</td>\n",
       "      <td>0.0</td>\n",
       "    </tr>\n",
       "    <tr>\n",
       "      <th>1</th>\n",
       "      <td>8000.0</td>\n",
       "      <td>36</td>\n",
       "      <td>11.99</td>\n",
       "      <td>265.68</td>\n",
       "      <td>65000.0</td>\n",
       "      <td>22.05</td>\n",
       "      <td>17.0</td>\n",
       "      <td>0.0</td>\n",
       "      <td>53.3</td>\n",
       "      <td>27.0</td>\n",
       "      <td>3.0</td>\n",
       "      <td>0.0</td>\n",
       "    </tr>\n",
       "    <tr>\n",
       "      <th>2</th>\n",
       "      <td>15600.0</td>\n",
       "      <td>36</td>\n",
       "      <td>10.49</td>\n",
       "      <td>506.97</td>\n",
       "      <td>43057.0</td>\n",
       "      <td>12.79</td>\n",
       "      <td>13.0</td>\n",
       "      <td>0.0</td>\n",
       "      <td>92.2</td>\n",
       "      <td>26.0</td>\n",
       "      <td>0.0</td>\n",
       "      <td>0.0</td>\n",
       "    </tr>\n",
       "    <tr>\n",
       "      <th>3</th>\n",
       "      <td>7200.0</td>\n",
       "      <td>36</td>\n",
       "      <td>6.49</td>\n",
       "      <td>220.65</td>\n",
       "      <td>54000.0</td>\n",
       "      <td>2.60</td>\n",
       "      <td>6.0</td>\n",
       "      <td>0.0</td>\n",
       "      <td>21.5</td>\n",
       "      <td>13.0</td>\n",
       "      <td>0.0</td>\n",
       "      <td>0.0</td>\n",
       "    </tr>\n",
       "    <tr>\n",
       "      <th>4</th>\n",
       "      <td>24375.0</td>\n",
       "      <td>60</td>\n",
       "      <td>17.27</td>\n",
       "      <td>609.33</td>\n",
       "      <td>55000.0</td>\n",
       "      <td>33.95</td>\n",
       "      <td>13.0</td>\n",
       "      <td>0.0</td>\n",
       "      <td>69.8</td>\n",
       "      <td>43.0</td>\n",
       "      <td>1.0</td>\n",
       "      <td>0.0</td>\n",
       "    </tr>\n",
       "  </tbody>\n",
       "</table>\n",
       "</div>"
      ],
      "text/plain": [
       "   loan_amnt  term  int_rate  installment  annual_inc    dti  open_acc  \\\n",
       "0    10000.0    36     11.44       329.48    117000.0  26.24      16.0   \n",
       "1     8000.0    36     11.99       265.68     65000.0  22.05      17.0   \n",
       "2    15600.0    36     10.49       506.97     43057.0  12.79      13.0   \n",
       "3     7200.0    36      6.49       220.65     54000.0   2.60       6.0   \n",
       "4    24375.0    60     17.27       609.33     55000.0  33.95      13.0   \n",
       "\n",
       "   pub_rec  revol_util  total_acc  mort_acc  pub_rec_bankruptcies  \n",
       "0      0.0        41.8       25.0       0.0                   0.0  \n",
       "1      0.0        53.3       27.0       3.0                   0.0  \n",
       "2      0.0        92.2       26.0       0.0                   0.0  \n",
       "3      0.0        21.5       13.0       0.0                   0.0  \n",
       "4      0.0        69.8       43.0       1.0                   0.0  "
      ]
     },
     "execution_count": 53,
     "metadata": {},
     "output_type": "execute_result"
    }
   ],
   "source": [
    "X_new_2.head()"
   ]
  },
  {
   "cell_type": "markdown",
   "id": "9e8bf060",
   "metadata": {},
   "source": [
    "### Modifying the model with new set of significant features: X_new_2"
   ]
  },
  {
   "cell_type": "code",
   "execution_count": 54,
   "id": "cec67862",
   "metadata": {},
   "outputs": [],
   "source": [
    "X_train, X_test, y_train, y_test = train_test_split(X_new_2, y, test_size=0.2, random_state=10)"
   ]
  },
  {
   "cell_type": "code",
   "execution_count": 55,
   "id": "abb46223",
   "metadata": {},
   "outputs": [
    {
     "data": {
      "text/plain": [
       "((285016, 12), (71254, 12), (285016,), (71254,))"
      ]
     },
     "execution_count": 55,
     "metadata": {},
     "output_type": "execute_result"
    }
   ],
   "source": [
    "X_train.shape, X_test.shape, y_train.shape, y_test.shape"
   ]
  },
  {
   "cell_type": "code",
   "execution_count": 56,
   "id": "a76eaa18",
   "metadata": {},
   "outputs": [
    {
     "name": "stdout",
     "output_type": "stream",
     "text": [
      "Optimization terminated successfully.\n",
      "         Current function value: 0.481196\n",
      "         Iterations 6\n"
     ]
    }
   ],
   "source": [
    "log_reg_3 = sm.Logit(y_train, X_train)\n",
    "\n",
    "log_reg_3 = log_reg_3.fit()"
   ]
  },
  {
   "cell_type": "code",
   "execution_count": 57,
   "id": "88afbaa4",
   "metadata": {},
   "outputs": [
    {
     "data": {
      "text/html": [
       "<table class=\"simpletable\">\n",
       "<tr>\n",
       "        <td>Model:</td>              <td>Logit</td>      <td>Pseudo R-squared:</td>    <td>0.042</td>   \n",
       "</tr>\n",
       "<tr>\n",
       "  <td>Dependent Variable:</td>    <td>loan_status</td>         <td>AIC:</td>        <td>274321.1894</td>\n",
       "</tr>\n",
       "<tr>\n",
       "         <td>Date:</td>        <td>2021-12-06 09:23</td>       <td>BIC:</td>        <td>274447.9130</td>\n",
       "</tr>\n",
       "<tr>\n",
       "   <td>No. Observations:</td>       <td>285016</td>       <td>Log-Likelihood:</td>  <td>-1.3715e+05</td>\n",
       "</tr>\n",
       "<tr>\n",
       "       <td>Df Model:</td>             <td>11</td>            <td>LL-Null:</td>      <td>-1.4323e+05</td>\n",
       "</tr>\n",
       "<tr>\n",
       "     <td>Df Residuals:</td>         <td>285004</td>        <td>LLR p-value:</td>      <td>0.0000</td>   \n",
       "</tr>\n",
       "<tr>\n",
       "      <td>Converged:</td>           <td>1.0000</td>           <td>Scale:</td>         <td>1.0000</td>   \n",
       "</tr>\n",
       "<tr>\n",
       "    <td>No. Iterations:</td>        <td>6.0000</td>              <td></td>               <td></td>      \n",
       "</tr>\n",
       "</table>\n",
       "<table class=\"simpletable\">\n",
       "<tr>\n",
       "            <td></td>            <th>Coef.</th>  <th>Std.Err.</th>     <th>z</th>      <th>P>|z|</th> <th>[0.025</th>  <th>0.975]</th> \n",
       "</tr>\n",
       "<tr>\n",
       "  <th>loan_amnt</th>            <td>-0.0003</td>  <td>0.0000</td>  <td>-114.9856</td> <td>0.0000</td> <td>-0.0003</td> <td>-0.0003</td>\n",
       "</tr>\n",
       "<tr>\n",
       "  <th>term</th>                 <td>0.0769</td>   <td>0.0007</td>  <td>103.3518</td>  <td>0.0000</td> <td>0.0754</td>  <td>0.0783</td> \n",
       "</tr>\n",
       "<tr>\n",
       "  <th>int_rate</th>             <td>-0.1507</td>  <td>0.0015</td>  <td>-101.4702</td> <td>0.0000</td> <td>-0.1536</td> <td>-0.1478</td>\n",
       "</tr>\n",
       "<tr>\n",
       "  <th>installment</th>          <td>0.0099</td>   <td>0.0001</td>  <td>106.4468</td>  <td>0.0000</td> <td>0.0098</td>  <td>0.0101</td> \n",
       "</tr>\n",
       "<tr>\n",
       "  <th>annual_inc</th>           <td>0.0000</td>   <td>0.0000</td>   <td>41.3615</td>  <td>0.0000</td> <td>0.0000</td>  <td>0.0000</td> \n",
       "</tr>\n",
       "<tr>\n",
       "  <th>dti</th>                  <td>-0.0138</td>  <td>0.0007</td>  <td>-21.2155</td>  <td>0.0000</td> <td>-0.0151</td> <td>-0.0126</td>\n",
       "</tr>\n",
       "<tr>\n",
       "  <th>open_acc</th>             <td>-0.0034</td>  <td>0.0014</td>   <td>-2.4782</td>  <td>0.0132</td> <td>-0.0060</td> <td>-0.0007</td>\n",
       "</tr>\n",
       "<tr>\n",
       "  <th>pub_rec</th>              <td>-0.0977</td>  <td>0.0123</td>   <td>-7.9696</td>  <td>0.0000</td> <td>-0.1217</td> <td>-0.0737</td>\n",
       "</tr>\n",
       "<tr>\n",
       "  <th>revol_util</th>           <td>0.0027</td>   <td>0.0002</td>   <td>12.4103</td>  <td>0.0000</td> <td>0.0023</td>  <td>0.0031</td> \n",
       "</tr>\n",
       "<tr>\n",
       "  <th>total_acc</th>            <td>0.0105</td>   <td>0.0006</td>   <td>16.6171</td>  <td>0.0000</td> <td>0.0092</td>  <td>0.0117</td> \n",
       "</tr>\n",
       "<tr>\n",
       "  <th>mort_acc</th>             <td>0.0621</td>   <td>0.0028</td>   <td>21.8745</td>  <td>0.0000</td> <td>0.0565</td>  <td>0.0677</td> \n",
       "</tr>\n",
       "<tr>\n",
       "  <th>pub_rec_bankruptcies</th> <td>0.1238</td>   <td>0.0184</td>   <td>6.7386</td>   <td>0.0000</td> <td>0.0878</td>  <td>0.1598</td> \n",
       "</tr>\n",
       "</table>"
      ],
      "text/plain": [
       "<class 'statsmodels.iolib.summary2.Summary'>\n",
       "\"\"\"\n",
       "                            Results: Logit\n",
       "======================================================================\n",
       "Model:                Logit             Pseudo R-squared:  0.042      \n",
       "Dependent Variable:   loan_status       AIC:               274321.1894\n",
       "Date:                 2021-12-06 09:23  BIC:               274447.9130\n",
       "No. Observations:     285016            Log-Likelihood:    -1.3715e+05\n",
       "Df Model:             11                LL-Null:           -1.4323e+05\n",
       "Df Residuals:         285004            LLR p-value:       0.0000     \n",
       "Converged:            1.0000            Scale:             1.0000     \n",
       "No. Iterations:       6.0000                                          \n",
       "----------------------------------------------------------------------\n",
       "                      Coef.  Std.Err.     z     P>|z|   [0.025  0.975]\n",
       "----------------------------------------------------------------------\n",
       "loan_amnt            -0.0003   0.0000 -114.9856 0.0000 -0.0003 -0.0003\n",
       "term                  0.0769   0.0007  103.3518 0.0000  0.0754  0.0783\n",
       "int_rate             -0.1507   0.0015 -101.4702 0.0000 -0.1536 -0.1478\n",
       "installment           0.0099   0.0001  106.4468 0.0000  0.0098  0.0101\n",
       "annual_inc            0.0000   0.0000   41.3615 0.0000  0.0000  0.0000\n",
       "dti                  -0.0138   0.0007  -21.2155 0.0000 -0.0151 -0.0126\n",
       "open_acc             -0.0034   0.0014   -2.4782 0.0132 -0.0060 -0.0007\n",
       "pub_rec              -0.0977   0.0123   -7.9696 0.0000 -0.1217 -0.0737\n",
       "revol_util            0.0027   0.0002   12.4103 0.0000  0.0023  0.0031\n",
       "total_acc             0.0105   0.0006   16.6171 0.0000  0.0092  0.0117\n",
       "mort_acc              0.0621   0.0028   21.8745 0.0000  0.0565  0.0677\n",
       "pub_rec_bankruptcies  0.1238   0.0184    6.7386 0.0000  0.0878  0.1598\n",
       "======================================================================\n",
       "\n",
       "\"\"\""
      ]
     },
     "execution_count": 57,
     "metadata": {},
     "output_type": "execute_result"
    }
   ],
   "source": [
    "log_reg_3.summary2()"
   ]
  },
  {
   "cell_type": "markdown",
   "id": "7316ace2",
   "metadata": {},
   "source": [
    "### Findings from final set of significant features\n",
    "\n",
    "Z = -0.0003 x 'loan_amnt' + 0.0769 x 'term' + -0.1507 x 'int_rate' + 0.0099 x 'installment' + 0.0000 x 'annual_inc' + -0.0138 x 'dti' + -0.0034 x 'open_acc' + -0.0977 x 'pub_rec' + 0.0027 x 'revol_util' + 0.0105 x 'total_acc' + 0.0621 x 'mort_acc' + 0.1238 x 'pub_rec_bankruptcies'\n",
    "\n",
    "$ f(Z) = \\frac{e^{Z}} {1+e^{Z}}$, which is a prob lies in between 0 and 1\n",
    "\n",
    "If f(z) lies in between 0 and 0.5. ===> Class 0\n",
    "\n",
    "Otherwise ====> Class 1\n",
    "\n",
    "### Prediction using the model"
   ]
  },
  {
   "cell_type": "code",
   "execution_count": 58,
   "id": "0b91bb43",
   "metadata": {},
   "outputs": [],
   "source": [
    "y_pred=log_reg_3.predict(X_test)"
   ]
  },
  {
   "cell_type": "code",
   "execution_count": 59,
   "id": "20a6ae6a",
   "metadata": {},
   "outputs": [],
   "source": [
    "y_pred.head(20)\n",
    "\n",
    "pred_df= pd.DataFrame({'Actual_Class':y_test, 'Predicted_Prob':y_pred})"
   ]
  },
  {
   "cell_type": "code",
   "execution_count": 60,
   "id": "832f37ab",
   "metadata": {},
   "outputs": [],
   "source": [
    "pred_df['Predicted_Class'] = pred_df['Predicted_Prob'].map(lambda x: 1 if x>0.5 else 0)"
   ]
  },
  {
   "cell_type": "code",
   "execution_count": 61,
   "id": "aec59c87",
   "metadata": {},
   "outputs": [
    {
     "data": {
      "text/html": [
       "<div>\n",
       "<style scoped>\n",
       "    .dataframe tbody tr th:only-of-type {\n",
       "        vertical-align: middle;\n",
       "    }\n",
       "\n",
       "    .dataframe tbody tr th {\n",
       "        vertical-align: top;\n",
       "    }\n",
       "\n",
       "    .dataframe thead th {\n",
       "        text-align: right;\n",
       "    }\n",
       "</style>\n",
       "<table border=\"1\" class=\"dataframe\">\n",
       "  <thead>\n",
       "    <tr style=\"text-align: right;\">\n",
       "      <th></th>\n",
       "      <th>Actual_Class</th>\n",
       "      <th>Predicted_Prob</th>\n",
       "      <th>Predicted_Class</th>\n",
       "    </tr>\n",
       "  </thead>\n",
       "  <tbody>\n",
       "    <tr>\n",
       "      <th>372463</th>\n",
       "      <td>1</td>\n",
       "      <td>0.819981</td>\n",
       "      <td>1</td>\n",
       "    </tr>\n",
       "    <tr>\n",
       "      <th>13687</th>\n",
       "      <td>0</td>\n",
       "      <td>0.535789</td>\n",
       "      <td>1</td>\n",
       "    </tr>\n",
       "    <tr>\n",
       "      <th>117889</th>\n",
       "      <td>1</td>\n",
       "      <td>0.859647</td>\n",
       "      <td>1</td>\n",
       "    </tr>\n",
       "    <tr>\n",
       "      <th>364824</th>\n",
       "      <td>1</td>\n",
       "      <td>0.750716</td>\n",
       "      <td>1</td>\n",
       "    </tr>\n",
       "    <tr>\n",
       "      <th>228747</th>\n",
       "      <td>0</td>\n",
       "      <td>0.872475</td>\n",
       "      <td>1</td>\n",
       "    </tr>\n",
       "    <tr>\n",
       "      <th>388978</th>\n",
       "      <td>1</td>\n",
       "      <td>0.625762</td>\n",
       "      <td>1</td>\n",
       "    </tr>\n",
       "    <tr>\n",
       "      <th>153513</th>\n",
       "      <td>0</td>\n",
       "      <td>0.749781</td>\n",
       "      <td>1</td>\n",
       "    </tr>\n",
       "    <tr>\n",
       "      <th>45477</th>\n",
       "      <td>0</td>\n",
       "      <td>0.889299</td>\n",
       "      <td>1</td>\n",
       "    </tr>\n",
       "    <tr>\n",
       "      <th>247875</th>\n",
       "      <td>1</td>\n",
       "      <td>0.934947</td>\n",
       "      <td>1</td>\n",
       "    </tr>\n",
       "    <tr>\n",
       "      <th>112175</th>\n",
       "      <td>1</td>\n",
       "      <td>0.911730</td>\n",
       "      <td>1</td>\n",
       "    </tr>\n",
       "    <tr>\n",
       "      <th>316546</th>\n",
       "      <td>1</td>\n",
       "      <td>0.752887</td>\n",
       "      <td>1</td>\n",
       "    </tr>\n",
       "    <tr>\n",
       "      <th>157285</th>\n",
       "      <td>1</td>\n",
       "      <td>0.581479</td>\n",
       "      <td>1</td>\n",
       "    </tr>\n",
       "    <tr>\n",
       "      <th>66579</th>\n",
       "      <td>0</td>\n",
       "      <td>0.691899</td>\n",
       "      <td>1</td>\n",
       "    </tr>\n",
       "    <tr>\n",
       "      <th>135153</th>\n",
       "      <td>1</td>\n",
       "      <td>0.798461</td>\n",
       "      <td>1</td>\n",
       "    </tr>\n",
       "    <tr>\n",
       "      <th>137366</th>\n",
       "      <td>1</td>\n",
       "      <td>0.906983</td>\n",
       "      <td>1</td>\n",
       "    </tr>\n",
       "  </tbody>\n",
       "</table>\n",
       "</div>"
      ],
      "text/plain": [
       "        Actual_Class  Predicted_Prob  Predicted_Class\n",
       "372463             1        0.819981                1\n",
       "13687              0        0.535789                1\n",
       "117889             1        0.859647                1\n",
       "364824             1        0.750716                1\n",
       "228747             0        0.872475                1\n",
       "388978             1        0.625762                1\n",
       "153513             0        0.749781                1\n",
       "45477              0        0.889299                1\n",
       "247875             1        0.934947                1\n",
       "112175             1        0.911730                1\n",
       "316546             1        0.752887                1\n",
       "157285             1        0.581479                1\n",
       "66579              0        0.691899                1\n",
       "135153             1        0.798461                1\n",
       "137366             1        0.906983                1"
      ]
     },
     "execution_count": 61,
     "metadata": {},
     "output_type": "execute_result"
    }
   ],
   "source": [
    "pred_df.head(15)"
   ]
  },
  {
   "cell_type": "code",
   "execution_count": 62,
   "id": "cae82dc9",
   "metadata": {},
   "outputs": [
    {
     "data": {
      "text/html": [
       "<div>\n",
       "<style scoped>\n",
       "    .dataframe tbody tr th:only-of-type {\n",
       "        vertical-align: middle;\n",
       "    }\n",
       "\n",
       "    .dataframe tbody tr th {\n",
       "        vertical-align: top;\n",
       "    }\n",
       "\n",
       "    .dataframe thead th {\n",
       "        text-align: right;\n",
       "    }\n",
       "</style>\n",
       "<table border=\"1\" class=\"dataframe\">\n",
       "  <thead>\n",
       "    <tr style=\"text-align: right;\">\n",
       "      <th></th>\n",
       "      <th>Actual_Class</th>\n",
       "      <th>Predicted_Prob</th>\n",
       "      <th>Predicted_Class</th>\n",
       "    </tr>\n",
       "  </thead>\n",
       "  <tbody>\n",
       "    <tr>\n",
       "      <th>0.000000</th>\n",
       "      <td>14311.0</td>\n",
       "      <td>NaN</td>\n",
       "      <td>1150.0</td>\n",
       "    </tr>\n",
       "    <tr>\n",
       "      <th>0.016596</th>\n",
       "      <td>NaN</td>\n",
       "      <td>1.0</td>\n",
       "      <td>NaN</td>\n",
       "    </tr>\n",
       "    <tr>\n",
       "      <th>0.043945</th>\n",
       "      <td>NaN</td>\n",
       "      <td>1.0</td>\n",
       "      <td>NaN</td>\n",
       "    </tr>\n",
       "    <tr>\n",
       "      <th>0.068626</th>\n",
       "      <td>NaN</td>\n",
       "      <td>1.0</td>\n",
       "      <td>NaN</td>\n",
       "    </tr>\n",
       "    <tr>\n",
       "      <th>0.162951</th>\n",
       "      <td>NaN</td>\n",
       "      <td>1.0</td>\n",
       "      <td>NaN</td>\n",
       "    </tr>\n",
       "    <tr>\n",
       "      <th>...</th>\n",
       "      <td>...</td>\n",
       "      <td>...</td>\n",
       "      <td>...</td>\n",
       "    </tr>\n",
       "    <tr>\n",
       "      <th>0.999945</th>\n",
       "      <td>NaN</td>\n",
       "      <td>1.0</td>\n",
       "      <td>NaN</td>\n",
       "    </tr>\n",
       "    <tr>\n",
       "      <th>0.999957</th>\n",
       "      <td>NaN</td>\n",
       "      <td>1.0</td>\n",
       "      <td>NaN</td>\n",
       "    </tr>\n",
       "    <tr>\n",
       "      <th>0.999957</th>\n",
       "      <td>NaN</td>\n",
       "      <td>1.0</td>\n",
       "      <td>NaN</td>\n",
       "    </tr>\n",
       "    <tr>\n",
       "      <th>0.999987</th>\n",
       "      <td>NaN</td>\n",
       "      <td>1.0</td>\n",
       "      <td>NaN</td>\n",
       "    </tr>\n",
       "    <tr>\n",
       "      <th>1.000000</th>\n",
       "      <td>56943.0</td>\n",
       "      <td>3.0</td>\n",
       "      <td>70104.0</td>\n",
       "    </tr>\n",
       "  </tbody>\n",
       "</table>\n",
       "<p>71253 rows × 3 columns</p>\n",
       "</div>"
      ],
      "text/plain": [
       "          Actual_Class  Predicted_Prob  Predicted_Class\n",
       "0.000000       14311.0             NaN           1150.0\n",
       "0.016596           NaN             1.0              NaN\n",
       "0.043945           NaN             1.0              NaN\n",
       "0.068626           NaN             1.0              NaN\n",
       "0.162951           NaN             1.0              NaN\n",
       "...                ...             ...              ...\n",
       "0.999945           NaN             1.0              NaN\n",
       "0.999957           NaN             1.0              NaN\n",
       "0.999957           NaN             1.0              NaN\n",
       "0.999987           NaN             1.0              NaN\n",
       "1.000000       56943.0             3.0          70104.0\n",
       "\n",
       "[71253 rows x 3 columns]"
      ]
     },
     "execution_count": 62,
     "metadata": {},
     "output_type": "execute_result"
    }
   ],
   "source": [
    "pred_df.apply(pd.value_counts)"
   ]
  },
  {
   "cell_type": "markdown",
   "id": "0807734e",
   "metadata": {},
   "source": [
    "### Performance Metrics"
   ]
  },
  {
   "cell_type": "code",
   "execution_count": 63,
   "id": "8bd9a206",
   "metadata": {},
   "outputs": [
    {
     "name": "stdout",
     "output_type": "stream",
     "text": [
      "Confusion matrix is given by:\n",
      " [[  384 13927]\n",
      " [  766 56177]]\n"
     ]
    }
   ],
   "source": [
    "cm = confusion_matrix(pred_df['Actual_Class'], pred_df['Predicted_Class'])\n",
    "\n",
    "print('Confusion matrix is given by:\\n', cm)"
   ]
  },
  {
   "cell_type": "code",
   "execution_count": 64,
   "id": "96e0d896",
   "metadata": {},
   "outputs": [
    {
     "data": {
      "image/png": "[encoded data removed]",
      "text/plain": [
       "<Figure size 432x288 with 2 Axes>"
      ]
     },
     "metadata": {
      "needs_background": "light"
     },
     "output_type": "display_data"
    }
   ],
   "source": [
    "sns.heatmap(cm, annot=True, fmt='0.0f');"
   ]
  },
  {
   "cell_type": "code",
   "execution_count": 65,
   "id": "8c7c31cd",
   "metadata": {},
   "outputs": [
    {
     "name": "stdout",
     "output_type": "stream",
     "text": [
      "The Classification report of the model:\n",
      "               precision    recall  f1-score   support\n",
      "\n",
      "           0       0.33      0.03      0.05     14311\n",
      "           1       0.80      0.99      0.88     56943\n",
      "\n",
      "    accuracy                           0.79     71254\n",
      "   macro avg       0.57      0.51      0.47     71254\n",
      "weighted avg       0.71      0.79      0.72     71254\n",
      "\n"
     ]
    }
   ],
   "source": [
    "report = classification_report(pred_df['Actual_Class'], pred_df['Predicted_Class'])\n",
    "\n",
    "print('The Classification report of the model:\\n', report)"
   ]
  },
  {
   "cell_type": "code",
   "execution_count": 66,
   "id": "59c39be4",
   "metadata": {},
   "outputs": [
    {
     "data": {
      "image/png": "[encoded data removed]",
      "text/plain": [
       "<Figure size 432x288 with 1 Axes>"
      ]
     },
     "metadata": {
      "needs_background": "light"
     },
     "output_type": "display_data"
    }
   ],
   "source": [
    "sns.distplot(pred_df[pred_df['Actual_Class']==0]['Predicted_Prob'], color='b');"
   ]
  },
  {
   "cell_type": "code",
   "execution_count": 67,
   "id": "59aa8468",
   "metadata": {},
   "outputs": [
    {
     "data": {
      "image/png": "[encoded data removed]",
      "text/plain": [
       "<Figure size 432x288 with 1 Axes>"
      ]
     },
     "metadata": {
      "needs_background": "light"
     },
     "output_type": "display_data"
    }
   ],
   "source": [
    "sns.distplot(pred_df[pred_df['Actual_Class']==1]['Predicted_Prob'], color='g');"
   ]
  },
  {
   "cell_type": "code",
   "execution_count": 68,
   "id": "5b201cec",
   "metadata": {},
   "outputs": [
    {
     "data": {
      "image/png": "[encoded data removed]",
      "text/plain": [
       "<Figure size 432x288 with 1 Axes>"
      ]
     },
     "metadata": {
      "needs_background": "light"
     },
     "output_type": "display_data"
    }
   ],
   "source": [
    "sns.distplot(pred_df[pred_df['Actual_Class']==0]['Predicted_Prob'], color='b');\n",
    "\n",
    "sns.distplot(pred_df[pred_df['Actual_Class']==1]['Predicted_Prob'], color='g');"
   ]
  },
  {
   "cell_type": "code",
   "execution_count": 69,
   "id": "8ca7d4f3",
   "metadata": {},
   "outputs": [
    {
     "name": "stdout",
     "output_type": "stream",
     "text": [
      "ROC AUC score: 0.6538649993617158\n"
     ]
    },
    {
     "data": {
      "image/png": "[encoded data removed]",
      "text/plain": [
       "<Figure size 432x288 with 1 Axes>"
      ]
     },
     "metadata": {
      "needs_background": "light"
     },
     "output_type": "display_data"
    }
   ],
   "source": [
    "fpr, tpr, threshold = roc_curve(pred_df['Actual_Class'], pred_df['Predicted_Prob'])\n",
    "\n",
    "plt.plot(fpr, tpr);\n",
    "plt.plot([0,1], [0,1], color='r');\n",
    "plt.xlabel('FPR');\n",
    "plt.ylabel('TPR');\n",
    "plt.legend([\"FPR\", \"TPR\"], loc=\"lower right\")\n",
    "\n",
    "plt.title('ROC Curve');\n",
    "\n",
    "score = roc_auc_score(pred_df['Actual_Class'], pred_df['Predicted_Prob'])\n",
    "\n",
    "print('ROC AUC score:', score)"
   ]
  },
  {
   "cell_type": "code",
   "execution_count": 70,
   "id": "dd6c72ca",
   "metadata": {},
   "outputs": [
    {
     "data": {
      "text/html": [
       "<div>\n",
       "<style scoped>\n",
       "    .dataframe tbody tr th:only-of-type {\n",
       "        vertical-align: middle;\n",
       "    }\n",
       "\n",
       "    .dataframe tbody tr th {\n",
       "        vertical-align: top;\n",
       "    }\n",
       "\n",
       "    .dataframe thead th {\n",
       "        text-align: right;\n",
       "    }\n",
       "</style>\n",
       "<table border=\"1\" class=\"dataframe\">\n",
       "  <thead>\n",
       "    <tr style=\"text-align: right;\">\n",
       "      <th></th>\n",
       "      <th>fpr</th>\n",
       "      <th>tpr</th>\n",
       "      <th>threshold</th>\n",
       "    </tr>\n",
       "  </thead>\n",
       "  <tbody>\n",
       "    <tr>\n",
       "      <th>0</th>\n",
       "      <td>0.000000</td>\n",
       "      <td>0.000000</td>\n",
       "      <td>2.000000</td>\n",
       "    </tr>\n",
       "    <tr>\n",
       "      <th>1</th>\n",
       "      <td>0.000070</td>\n",
       "      <td>0.000035</td>\n",
       "      <td>1.000000</td>\n",
       "    </tr>\n",
       "    <tr>\n",
       "      <th>2</th>\n",
       "      <td>0.000070</td>\n",
       "      <td>0.000070</td>\n",
       "      <td>0.999957</td>\n",
       "    </tr>\n",
       "    <tr>\n",
       "      <th>3</th>\n",
       "      <td>0.000140</td>\n",
       "      <td>0.000070</td>\n",
       "      <td>0.999957</td>\n",
       "    </tr>\n",
       "    <tr>\n",
       "      <th>4</th>\n",
       "      <td>0.000140</td>\n",
       "      <td>0.000158</td>\n",
       "      <td>0.999902</td>\n",
       "    </tr>\n",
       "    <tr>\n",
       "      <th>5</th>\n",
       "      <td>0.000210</td>\n",
       "      <td>0.000158</td>\n",
       "      <td>0.999811</td>\n",
       "    </tr>\n",
       "    <tr>\n",
       "      <th>6</th>\n",
       "      <td>0.000210</td>\n",
       "      <td>0.000299</td>\n",
       "      <td>0.999554</td>\n",
       "    </tr>\n",
       "    <tr>\n",
       "      <th>7</th>\n",
       "      <td>0.000280</td>\n",
       "      <td>0.000299</td>\n",
       "      <td>0.999428</td>\n",
       "    </tr>\n",
       "    <tr>\n",
       "      <th>8</th>\n",
       "      <td>0.000280</td>\n",
       "      <td>0.000369</td>\n",
       "      <td>0.998730</td>\n",
       "    </tr>\n",
       "    <tr>\n",
       "      <th>9</th>\n",
       "      <td>0.000349</td>\n",
       "      <td>0.000369</td>\n",
       "      <td>0.998555</td>\n",
       "    </tr>\n",
       "    <tr>\n",
       "      <th>10</th>\n",
       "      <td>0.000349</td>\n",
       "      <td>0.000474</td>\n",
       "      <td>0.997509</td>\n",
       "    </tr>\n",
       "    <tr>\n",
       "      <th>11</th>\n",
       "      <td>0.000489</td>\n",
       "      <td>0.000474</td>\n",
       "      <td>0.997052</td>\n",
       "    </tr>\n",
       "    <tr>\n",
       "      <th>12</th>\n",
       "      <td>0.000489</td>\n",
       "      <td>0.000492</td>\n",
       "      <td>0.996993</td>\n",
       "    </tr>\n",
       "    <tr>\n",
       "      <th>13</th>\n",
       "      <td>0.000559</td>\n",
       "      <td>0.000492</td>\n",
       "      <td>0.996896</td>\n",
       "    </tr>\n",
       "    <tr>\n",
       "      <th>14</th>\n",
       "      <td>0.000559</td>\n",
       "      <td>0.000597</td>\n",
       "      <td>0.996503</td>\n",
       "    </tr>\n",
       "  </tbody>\n",
       "</table>\n",
       "</div>"
      ],
      "text/plain": [
       "         fpr       tpr  threshold\n",
       "0   0.000000  0.000000   2.000000\n",
       "1   0.000070  0.000035   1.000000\n",
       "2   0.000070  0.000070   0.999957\n",
       "3   0.000140  0.000070   0.999957\n",
       "4   0.000140  0.000158   0.999902\n",
       "5   0.000210  0.000158   0.999811\n",
       "6   0.000210  0.000299   0.999554\n",
       "7   0.000280  0.000299   0.999428\n",
       "8   0.000280  0.000369   0.998730\n",
       "9   0.000349  0.000369   0.998555\n",
       "10  0.000349  0.000474   0.997509\n",
       "11  0.000489  0.000474   0.997052\n",
       "12  0.000489  0.000492   0.996993\n",
       "13  0.000559  0.000492   0.996896\n",
       "14  0.000559  0.000597   0.996503"
      ]
     },
     "execution_count": 70,
     "metadata": {},
     "output_type": "execute_result"
    }
   ],
   "source": [
    "fpr_tpr = pd.DataFrame({'fpr':fpr, 'tpr':tpr, 'threshold':threshold})\n",
    "fpr_tpr.head(15)"
   ]
  },
  {
   "cell_type": "code",
   "execution_count": 71,
   "id": "1456346c",
   "metadata": {},
   "outputs": [
    {
     "data": {
      "text/html": [
       "<div>\n",
       "<style scoped>\n",
       "    .dataframe tbody tr th:only-of-type {\n",
       "        vertical-align: middle;\n",
       "    }\n",
       "\n",
       "    .dataframe tbody tr th {\n",
       "        vertical-align: top;\n",
       "    }\n",
       "\n",
       "    .dataframe thead th {\n",
       "        text-align: right;\n",
       "    }\n",
       "</style>\n",
       "<table border=\"1\" class=\"dataframe\">\n",
       "  <thead>\n",
       "    <tr style=\"text-align: right;\">\n",
       "      <th></th>\n",
       "      <th>fpr</th>\n",
       "      <th>tpr</th>\n",
       "      <th>threshold</th>\n",
       "      <th>diff</th>\n",
       "    </tr>\n",
       "  </thead>\n",
       "  <tbody>\n",
       "    <tr>\n",
       "      <th>0</th>\n",
       "      <td>0.00000</td>\n",
       "      <td>0.000000</td>\n",
       "      <td>2.000000</td>\n",
       "      <td>0.000000e+00</td>\n",
       "    </tr>\n",
       "    <tr>\n",
       "      <th>1</th>\n",
       "      <td>0.00007</td>\n",
       "      <td>0.000035</td>\n",
       "      <td>1.000000</td>\n",
       "      <td>-3.475348e-05</td>\n",
       "    </tr>\n",
       "    <tr>\n",
       "      <th>2</th>\n",
       "      <td>0.00007</td>\n",
       "      <td>0.000070</td>\n",
       "      <td>0.999957</td>\n",
       "      <td>3.693654e-07</td>\n",
       "    </tr>\n",
       "    <tr>\n",
       "      <th>3</th>\n",
       "      <td>0.00014</td>\n",
       "      <td>0.000070</td>\n",
       "      <td>0.999957</td>\n",
       "      <td>-6.950695e-05</td>\n",
       "    </tr>\n",
       "    <tr>\n",
       "      <th>4</th>\n",
       "      <td>0.00014</td>\n",
       "      <td>0.000158</td>\n",
       "      <td>0.999902</td>\n",
       "      <td>1.830015e-05</td>\n",
       "    </tr>\n",
       "    <tr>\n",
       "      <th>...</th>\n",
       "      <td>...</td>\n",
       "      <td>...</td>\n",
       "      <td>...</td>\n",
       "      <td>...</td>\n",
       "    </tr>\n",
       "    <tr>\n",
       "      <th>21843</th>\n",
       "      <td>0.99979</td>\n",
       "      <td>0.999965</td>\n",
       "      <td>0.217740</td>\n",
       "      <td>1.745061e-04</td>\n",
       "    </tr>\n",
       "    <tr>\n",
       "      <th>21844</th>\n",
       "      <td>0.99979</td>\n",
       "      <td>0.999982</td>\n",
       "      <td>0.191486</td>\n",
       "      <td>1.920675e-04</td>\n",
       "    </tr>\n",
       "    <tr>\n",
       "      <th>21845</th>\n",
       "      <td>0.99993</td>\n",
       "      <td>0.999982</td>\n",
       "      <td>0.068626</td>\n",
       "      <td>5.231490e-05</td>\n",
       "    </tr>\n",
       "    <tr>\n",
       "      <th>21846</th>\n",
       "      <td>0.99993</td>\n",
       "      <td>1.000000</td>\n",
       "      <td>0.043945</td>\n",
       "      <td>6.987632e-05</td>\n",
       "    </tr>\n",
       "    <tr>\n",
       "      <th>21847</th>\n",
       "      <td>1.00000</td>\n",
       "      <td>1.000000</td>\n",
       "      <td>0.016596</td>\n",
       "      <td>0.000000e+00</td>\n",
       "    </tr>\n",
       "  </tbody>\n",
       "</table>\n",
       "<p>21848 rows × 4 columns</p>\n",
       "</div>"
      ],
      "text/plain": [
       "           fpr       tpr  threshold          diff\n",
       "0      0.00000  0.000000   2.000000  0.000000e+00\n",
       "1      0.00007  0.000035   1.000000 -3.475348e-05\n",
       "2      0.00007  0.000070   0.999957  3.693654e-07\n",
       "3      0.00014  0.000070   0.999957 -6.950695e-05\n",
       "4      0.00014  0.000158   0.999902  1.830015e-05\n",
       "...        ...       ...        ...           ...\n",
       "21843  0.99979  0.999965   0.217740  1.745061e-04\n",
       "21844  0.99979  0.999982   0.191486  1.920675e-04\n",
       "21845  0.99993  0.999982   0.068626  5.231490e-05\n",
       "21846  0.99993  1.000000   0.043945  6.987632e-05\n",
       "21847  1.00000  1.000000   0.016596  0.000000e+00\n",
       "\n",
       "[21848 rows x 4 columns]"
      ]
     },
     "execution_count": 71,
     "metadata": {},
     "output_type": "execute_result"
    }
   ],
   "source": [
    "fpr_tpr['diff'] = fpr_tpr['tpr'] - fpr_tpr['fpr']\n",
    "fpr_tpr"
   ]
  },
  {
   "cell_type": "code",
   "execution_count": 72,
   "id": "a2083c04",
   "metadata": {},
   "outputs": [
    {
     "data": {
      "text/html": [
       "<div>\n",
       "<style scoped>\n",
       "    .dataframe tbody tr th:only-of-type {\n",
       "        vertical-align: middle;\n",
       "    }\n",
       "\n",
       "    .dataframe tbody tr th {\n",
       "        vertical-align: top;\n",
       "    }\n",
       "\n",
       "    .dataframe thead th {\n",
       "        text-align: right;\n",
       "    }\n",
       "</style>\n",
       "<table border=\"1\" class=\"dataframe\">\n",
       "  <thead>\n",
       "    <tr style=\"text-align: right;\">\n",
       "      <th></th>\n",
       "      <th>fpr</th>\n",
       "      <th>tpr</th>\n",
       "      <th>threshold</th>\n",
       "      <th>diff</th>\n",
       "    </tr>\n",
       "  </thead>\n",
       "  <tbody>\n",
       "    <tr>\n",
       "      <th>9534</th>\n",
       "      <td>0.391377</td>\n",
       "      <td>0.626714</td>\n",
       "      <td>0.786922</td>\n",
       "      <td>0.235337</td>\n",
       "    </tr>\n",
       "    <tr>\n",
       "      <th>9538</th>\n",
       "      <td>0.391517</td>\n",
       "      <td>0.626837</td>\n",
       "      <td>0.786895</td>\n",
       "      <td>0.235320</td>\n",
       "    </tr>\n",
       "    <tr>\n",
       "      <th>9536</th>\n",
       "      <td>0.391447</td>\n",
       "      <td>0.626767</td>\n",
       "      <td>0.786909</td>\n",
       "      <td>0.235320</td>\n",
       "    </tr>\n",
       "    <tr>\n",
       "      <th>9526</th>\n",
       "      <td>0.391028</td>\n",
       "      <td>0.626346</td>\n",
       "      <td>0.787035</td>\n",
       "      <td>0.235318</td>\n",
       "    </tr>\n",
       "    <tr>\n",
       "      <th>9544</th>\n",
       "      <td>0.391797</td>\n",
       "      <td>0.627101</td>\n",
       "      <td>0.786812</td>\n",
       "      <td>0.235304</td>\n",
       "    </tr>\n",
       "    <tr>\n",
       "      <th>...</th>\n",
       "      <td>...</td>\n",
       "      <td>...</td>\n",
       "      <td>...</td>\n",
       "      <td>...</td>\n",
       "    </tr>\n",
       "    <tr>\n",
       "      <th>15</th>\n",
       "      <td>0.000629</td>\n",
       "      <td>0.000597</td>\n",
       "      <td>0.996352</td>\n",
       "      <td>-0.000032</td>\n",
       "    </tr>\n",
       "    <tr>\n",
       "      <th>1</th>\n",
       "      <td>0.000070</td>\n",
       "      <td>0.000035</td>\n",
       "      <td>1.000000</td>\n",
       "      <td>-0.000035</td>\n",
       "    </tr>\n",
       "    <tr>\n",
       "      <th>5</th>\n",
       "      <td>0.000210</td>\n",
       "      <td>0.000158</td>\n",
       "      <td>0.999811</td>\n",
       "      <td>-0.000052</td>\n",
       "    </tr>\n",
       "    <tr>\n",
       "      <th>13</th>\n",
       "      <td>0.000559</td>\n",
       "      <td>0.000492</td>\n",
       "      <td>0.996896</td>\n",
       "      <td>-0.000067</td>\n",
       "    </tr>\n",
       "    <tr>\n",
       "      <th>3</th>\n",
       "      <td>0.000140</td>\n",
       "      <td>0.000070</td>\n",
       "      <td>0.999957</td>\n",
       "      <td>-0.000070</td>\n",
       "    </tr>\n",
       "  </tbody>\n",
       "</table>\n",
       "<p>21848 rows × 4 columns</p>\n",
       "</div>"
      ],
      "text/plain": [
       "           fpr       tpr  threshold      diff\n",
       "9534  0.391377  0.626714   0.786922  0.235337\n",
       "9538  0.391517  0.626837   0.786895  0.235320\n",
       "9536  0.391447  0.626767   0.786909  0.235320\n",
       "9526  0.391028  0.626346   0.787035  0.235318\n",
       "9544  0.391797  0.627101   0.786812  0.235304\n",
       "...        ...       ...        ...       ...\n",
       "15    0.000629  0.000597   0.996352 -0.000032\n",
       "1     0.000070  0.000035   1.000000 -0.000035\n",
       "5     0.000210  0.000158   0.999811 -0.000052\n",
       "13    0.000559  0.000492   0.996896 -0.000067\n",
       "3     0.000140  0.000070   0.999957 -0.000070\n",
       "\n",
       "[21848 rows x 4 columns]"
      ]
     },
     "execution_count": 72,
     "metadata": {},
     "output_type": "execute_result"
    }
   ],
   "source": [
    "fpr_tpr.sort_values('diff', ascending= False)"
   ]
  },
  {
   "cell_type": "markdown",
   "id": "2363089e",
   "metadata": {},
   "source": [
    "The threshold which gives the max (TPR - FPR)  is 0.786922."
   ]
  },
  {
   "cell_type": "code",
   "execution_count": 73,
   "id": "e1e544da",
   "metadata": {},
   "outputs": [],
   "source": [
    "pred_df['Predicted_New_Class'] = pred_df['Predicted_Prob'].map(lambda x: 1 if x>0.786922 else 0)"
   ]
  },
  {
   "cell_type": "code",
   "execution_count": 74,
   "id": "684700b8",
   "metadata": {},
   "outputs": [
    {
     "data": {
      "text/html": [
       "<div>\n",
       "<style scoped>\n",
       "    .dataframe tbody tr th:only-of-type {\n",
       "        vertical-align: middle;\n",
       "    }\n",
       "\n",
       "    .dataframe tbody tr th {\n",
       "        vertical-align: top;\n",
       "    }\n",
       "\n",
       "    .dataframe thead th {\n",
       "        text-align: right;\n",
       "    }\n",
       "</style>\n",
       "<table border=\"1\" class=\"dataframe\">\n",
       "  <thead>\n",
       "    <tr style=\"text-align: right;\">\n",
       "      <th></th>\n",
       "      <th>Actual_Class</th>\n",
       "      <th>Predicted_Prob</th>\n",
       "      <th>Predicted_Class</th>\n",
       "      <th>Predicted_New_Class</th>\n",
       "    </tr>\n",
       "  </thead>\n",
       "  <tbody>\n",
       "    <tr>\n",
       "      <th>372463</th>\n",
       "      <td>1</td>\n",
       "      <td>0.819981</td>\n",
       "      <td>1</td>\n",
       "      <td>1</td>\n",
       "    </tr>\n",
       "    <tr>\n",
       "      <th>13687</th>\n",
       "      <td>0</td>\n",
       "      <td>0.535789</td>\n",
       "      <td>1</td>\n",
       "      <td>0</td>\n",
       "    </tr>\n",
       "    <tr>\n",
       "      <th>117889</th>\n",
       "      <td>1</td>\n",
       "      <td>0.859647</td>\n",
       "      <td>1</td>\n",
       "      <td>1</td>\n",
       "    </tr>\n",
       "    <tr>\n",
       "      <th>364824</th>\n",
       "      <td>1</td>\n",
       "      <td>0.750716</td>\n",
       "      <td>1</td>\n",
       "      <td>0</td>\n",
       "    </tr>\n",
       "    <tr>\n",
       "      <th>228747</th>\n",
       "      <td>0</td>\n",
       "      <td>0.872475</td>\n",
       "      <td>1</td>\n",
       "      <td>1</td>\n",
       "    </tr>\n",
       "    <tr>\n",
       "      <th>388978</th>\n",
       "      <td>1</td>\n",
       "      <td>0.625762</td>\n",
       "      <td>1</td>\n",
       "      <td>0</td>\n",
       "    </tr>\n",
       "    <tr>\n",
       "      <th>153513</th>\n",
       "      <td>0</td>\n",
       "      <td>0.749781</td>\n",
       "      <td>1</td>\n",
       "      <td>0</td>\n",
       "    </tr>\n",
       "    <tr>\n",
       "      <th>45477</th>\n",
       "      <td>0</td>\n",
       "      <td>0.889299</td>\n",
       "      <td>1</td>\n",
       "      <td>1</td>\n",
       "    </tr>\n",
       "    <tr>\n",
       "      <th>247875</th>\n",
       "      <td>1</td>\n",
       "      <td>0.934947</td>\n",
       "      <td>1</td>\n",
       "      <td>1</td>\n",
       "    </tr>\n",
       "    <tr>\n",
       "      <th>112175</th>\n",
       "      <td>1</td>\n",
       "      <td>0.911730</td>\n",
       "      <td>1</td>\n",
       "      <td>1</td>\n",
       "    </tr>\n",
       "    <tr>\n",
       "      <th>316546</th>\n",
       "      <td>1</td>\n",
       "      <td>0.752887</td>\n",
       "      <td>1</td>\n",
       "      <td>0</td>\n",
       "    </tr>\n",
       "    <tr>\n",
       "      <th>157285</th>\n",
       "      <td>1</td>\n",
       "      <td>0.581479</td>\n",
       "      <td>1</td>\n",
       "      <td>0</td>\n",
       "    </tr>\n",
       "    <tr>\n",
       "      <th>66579</th>\n",
       "      <td>0</td>\n",
       "      <td>0.691899</td>\n",
       "      <td>1</td>\n",
       "      <td>0</td>\n",
       "    </tr>\n",
       "    <tr>\n",
       "      <th>135153</th>\n",
       "      <td>1</td>\n",
       "      <td>0.798461</td>\n",
       "      <td>1</td>\n",
       "      <td>1</td>\n",
       "    </tr>\n",
       "    <tr>\n",
       "      <th>137366</th>\n",
       "      <td>1</td>\n",
       "      <td>0.906983</td>\n",
       "      <td>1</td>\n",
       "      <td>1</td>\n",
       "    </tr>\n",
       "    <tr>\n",
       "      <th>61422</th>\n",
       "      <td>1</td>\n",
       "      <td>0.660162</td>\n",
       "      <td>1</td>\n",
       "      <td>0</td>\n",
       "    </tr>\n",
       "    <tr>\n",
       "      <th>105311</th>\n",
       "      <td>1</td>\n",
       "      <td>0.828427</td>\n",
       "      <td>1</td>\n",
       "      <td>1</td>\n",
       "    </tr>\n",
       "    <tr>\n",
       "      <th>305994</th>\n",
       "      <td>1</td>\n",
       "      <td>0.907065</td>\n",
       "      <td>1</td>\n",
       "      <td>1</td>\n",
       "    </tr>\n",
       "    <tr>\n",
       "      <th>140763</th>\n",
       "      <td>1</td>\n",
       "      <td>0.914162</td>\n",
       "      <td>1</td>\n",
       "      <td>1</td>\n",
       "    </tr>\n",
       "    <tr>\n",
       "      <th>176165</th>\n",
       "      <td>1</td>\n",
       "      <td>0.631376</td>\n",
       "      <td>1</td>\n",
       "      <td>0</td>\n",
       "    </tr>\n",
       "  </tbody>\n",
       "</table>\n",
       "</div>"
      ],
      "text/plain": [
       "        Actual_Class  Predicted_Prob  Predicted_Class  Predicted_New_Class\n",
       "372463             1        0.819981                1                    1\n",
       "13687              0        0.535789                1                    0\n",
       "117889             1        0.859647                1                    1\n",
       "364824             1        0.750716                1                    0\n",
       "228747             0        0.872475                1                    1\n",
       "388978             1        0.625762                1                    0\n",
       "153513             0        0.749781                1                    0\n",
       "45477              0        0.889299                1                    1\n",
       "247875             1        0.934947                1                    1\n",
       "112175             1        0.911730                1                    1\n",
       "316546             1        0.752887                1                    0\n",
       "157285             1        0.581479                1                    0\n",
       "66579              0        0.691899                1                    0\n",
       "135153             1        0.798461                1                    1\n",
       "137366             1        0.906983                1                    1\n",
       "61422              1        0.660162                1                    0\n",
       "105311             1        0.828427                1                    1\n",
       "305994             1        0.907065                1                    1\n",
       "140763             1        0.914162                1                    1\n",
       "176165             1        0.631376                1                    0"
      ]
     },
     "execution_count": 74,
     "metadata": {},
     "output_type": "execute_result"
    }
   ],
   "source": [
    "pred_df.head(20)"
   ]
  },
  {
   "cell_type": "code",
   "execution_count": 75,
   "id": "aba9c411",
   "metadata": {},
   "outputs": [],
   "source": [
    "cm_new = confusion_matrix(pred_df['Actual_Class'], pred_df['Predicted_New_Class'])"
   ]
  },
  {
   "cell_type": "code",
   "execution_count": 76,
   "id": "249f2c83",
   "metadata": {},
   "outputs": [
    {
     "name": "stdout",
     "output_type": "stream",
     "text": [
      "Confusion Matrix:\n",
      " [[ 8710  5601]\n",
      " [21257 35686]]\n"
     ]
    }
   ],
   "source": [
    "print('Confusion Matrix:\\n', cm_new)"
   ]
  },
  {
   "cell_type": "code",
   "execution_count": 77,
   "id": "0042d23c",
   "metadata": {},
   "outputs": [
    {
     "data": {
      "image/png": "[encoded data removed]",
      "text/plain": [
       "<Figure size 432x288 with 2 Axes>"
      ]
     },
     "metadata": {
      "needs_background": "light"
     },
     "output_type": "display_data"
    }
   ],
   "source": [
    "sns.heatmap(cm_new,annot=True, fmt='0.0f');"
   ]
  },
  {
   "cell_type": "code",
   "execution_count": 78,
   "id": "c7d1c204",
   "metadata": {},
   "outputs": [],
   "source": [
    "new_report = classification_report(pred_df['Actual_Class'], pred_df['Predicted_New_Class'])"
   ]
  },
  {
   "cell_type": "code",
   "execution_count": 79,
   "id": "8347132a",
   "metadata": {},
   "outputs": [
    {
     "name": "stdout",
     "output_type": "stream",
     "text": [
      "Final Classification Report:\n",
      "               precision    recall  f1-score   support\n",
      "\n",
      "           0       0.29      0.61      0.39     14311\n",
      "           1       0.86      0.63      0.73     56943\n",
      "\n",
      "    accuracy                           0.62     71254\n",
      "   macro avg       0.58      0.62      0.56     71254\n",
      "weighted avg       0.75      0.62      0.66     71254\n",
      "\n"
     ]
    }
   ],
   "source": [
    "print('Final Classification Report:\\n', new_report)"
   ]
  },
  {
   "cell_type": "code",
   "execution_count": null,
   "id": "2fae8dec",
   "metadata": {},
   "outputs": [],
   "source": []
  }
 ],
 "metadata": {
  "kernelspec": {
   "display_name": "Python 3 (ipykernel)",
   "language": "python",
   "name": "python3"
  },
  "language_info": {
   "codemirror_mode": {
    "name": "ipython",
    "version": 3
   },
   "file_extension": ".py",
   "mimetype": "text/x-python",
   "name": "python",
   "nbconvert_exporter": "python",
   "pygments_lexer": "ipython3",
   "version": "3.11.5"
  }
 },
 "nbformat": 4,
 "nbformat_minor": 5
}
