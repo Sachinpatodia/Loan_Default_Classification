{
 "cells": [
  {
   "cell_type": "markdown",
   "id": "6fce8ca8",
   "metadata": {},
   "source": [
    "## Decision Tree"
   ]
  },
  {
   "cell_type": "markdown",
   "id": "9fa79819",
   "metadata": {},
   "source": [
    "### Importing Required Libraries"
   ]
  },
  {
   "cell_type": "code",
   "execution_count": 1,
   "id": "e034a1d6",
   "metadata": {},
   "outputs": [],
   "source": [
    "import numpy as np\n",
    "import pandas as pd\n",
    "import matplotlib.pyplot as plt\n",
    "import seaborn as sns\n",
    "import statsmodels.api as sm\n",
    "from sklearn.model_selection import train_test_split\n",
    "from sklearn.svm import SVC\n",
    "from sklearn import tree\n",
    "from sklearn.tree import DecisionTreeClassifier\n",
    "from sklearn.metrics import classification_report,confusion_matrix,roc_curve,roc_auc_score\n",
    "from sklearn.preprocessing import LabelEncoder\n",
    "import warnings\n",
    "warnings.filterwarnings('ignore')"
   ]
  },
  {
   "cell_type": "markdown",
   "id": "6b8c9116",
   "metadata": {},
   "source": [
    "### Reading Dataset"
   ]
  },
  {
   "cell_type": "code",
   "execution_count": 2,
   "id": "74b60328",
   "metadata": {},
   "outputs": [],
   "source": [
    "loan = pd.read_csv('./lending_club_loan_two.csv')"
   ]
  },
  {
   "cell_type": "code",
   "execution_count": 3,
   "id": "959cb36b",
   "metadata": {},
   "outputs": [
    {
     "name": "stdout",
     "output_type": "stream",
     "text": [
      "<class 'pandas.core.frame.DataFrame'>\n",
      "RangeIndex: 396030 entries, 0 to 396029\n",
      "Data columns (total 27 columns):\n",
      " #   Column                Non-Null Count   Dtype  \n",
      "---  ------                --------------   -----  \n",
      " 0   loan_amnt             396030 non-null  float64\n",
      " 1   term                  396030 non-null  object \n",
      " 2   int_rate              396030 non-null  float64\n",
      " 3   installment           396030 non-null  float64\n",
      " 4   grade                 396030 non-null  object \n",
      " 5   sub_grade             396030 non-null  object \n",
      " 6   emp_title             373103 non-null  object \n",
      " 7   emp_length            377729 non-null  object \n",
      " 8   home_ownership        396030 non-null  object \n",
      " 9   annual_inc            396030 non-null  float64\n",
      " 10  verification_status   396030 non-null  object \n",
      " 11  issue_d               396030 non-null  object \n",
      " 12  loan_status           396030 non-null  object \n",
      " 13  purpose               396030 non-null  object \n",
      " 14  title                 394275 non-null  object \n",
      " 15  dti                   396030 non-null  float64\n",
      " 16  earliest_cr_line      396030 non-null  object \n",
      " 17  open_acc              396030 non-null  float64\n",
      " 18  pub_rec               396030 non-null  float64\n",
      " 19  revol_bal             396030 non-null  float64\n",
      " 20  revol_util            395754 non-null  float64\n",
      " 21  total_acc             396030 non-null  float64\n",
      " 22  initial_list_status   396030 non-null  object \n",
      " 23  application_type      396030 non-null  object \n",
      " 24  mort_acc              358235 non-null  float64\n",
      " 25  pub_rec_bankruptcies  395495 non-null  float64\n",
      " 26  address               396030 non-null  object \n",
      "dtypes: float64(12), object(15)\n",
      "memory usage: 81.6+ MB\n"
     ]
    }
   ],
   "source": [
    "loan.info()"
   ]
  },
  {
   "cell_type": "code",
   "execution_count": 4,
   "id": "56c11e28",
   "metadata": {},
   "outputs": [
    {
     "data": {
      "text/html": [
       "<div>\n",
       "<style scoped>\n",
       "    .dataframe tbody tr th:only-of-type {\n",
       "        vertical-align: middle;\n",
       "    }\n",
       "\n",
       "    .dataframe tbody tr th {\n",
       "        vertical-align: top;\n",
       "    }\n",
       "\n",
       "    .dataframe thead th {\n",
       "        text-align: right;\n",
       "    }\n",
       "</style>\n",
       "<table border=\"1\" class=\"dataframe\">\n",
       "  <thead>\n",
       "    <tr style=\"text-align: right;\">\n",
       "      <th></th>\n",
       "      <th>loan_amnt</th>\n",
       "      <th>term</th>\n",
       "      <th>int_rate</th>\n",
       "      <th>installment</th>\n",
       "      <th>grade</th>\n",
       "      <th>sub_grade</th>\n",
       "      <th>emp_title</th>\n",
       "      <th>emp_length</th>\n",
       "      <th>home_ownership</th>\n",
       "      <th>annual_inc</th>\n",
       "    </tr>\n",
       "  </thead>\n",
       "  <tbody>\n",
       "    <tr>\n",
       "      <th>0</th>\n",
       "      <td>10000.0</td>\n",
       "      <td>36 months</td>\n",
       "      <td>11.44</td>\n",
       "      <td>329.48</td>\n",
       "      <td>B</td>\n",
       "      <td>B4</td>\n",
       "      <td>Marketing</td>\n",
       "      <td>10+ years</td>\n",
       "      <td>RENT</td>\n",
       "      <td>117000.0</td>\n",
       "    </tr>\n",
       "    <tr>\n",
       "      <th>1</th>\n",
       "      <td>8000.0</td>\n",
       "      <td>36 months</td>\n",
       "      <td>11.99</td>\n",
       "      <td>265.68</td>\n",
       "      <td>B</td>\n",
       "      <td>B5</td>\n",
       "      <td>Credit analyst</td>\n",
       "      <td>4 years</td>\n",
       "      <td>MORTGAGE</td>\n",
       "      <td>65000.0</td>\n",
       "    </tr>\n",
       "    <tr>\n",
       "      <th>2</th>\n",
       "      <td>15600.0</td>\n",
       "      <td>36 months</td>\n",
       "      <td>10.49</td>\n",
       "      <td>506.97</td>\n",
       "      <td>B</td>\n",
       "      <td>B3</td>\n",
       "      <td>Statistician</td>\n",
       "      <td>&lt; 1 year</td>\n",
       "      <td>RENT</td>\n",
       "      <td>43057.0</td>\n",
       "    </tr>\n",
       "    <tr>\n",
       "      <th>3</th>\n",
       "      <td>7200.0</td>\n",
       "      <td>36 months</td>\n",
       "      <td>6.49</td>\n",
       "      <td>220.65</td>\n",
       "      <td>A</td>\n",
       "      <td>A2</td>\n",
       "      <td>Client Advocate</td>\n",
       "      <td>6 years</td>\n",
       "      <td>RENT</td>\n",
       "      <td>54000.0</td>\n",
       "    </tr>\n",
       "    <tr>\n",
       "      <th>4</th>\n",
       "      <td>24375.0</td>\n",
       "      <td>60 months</td>\n",
       "      <td>17.27</td>\n",
       "      <td>609.33</td>\n",
       "      <td>C</td>\n",
       "      <td>C5</td>\n",
       "      <td>Destiny Management Inc.</td>\n",
       "      <td>9 years</td>\n",
       "      <td>MORTGAGE</td>\n",
       "      <td>55000.0</td>\n",
       "    </tr>\n",
       "    <tr>\n",
       "      <th>5</th>\n",
       "      <td>20000.0</td>\n",
       "      <td>36 months</td>\n",
       "      <td>13.33</td>\n",
       "      <td>677.07</td>\n",
       "      <td>C</td>\n",
       "      <td>C3</td>\n",
       "      <td>HR Specialist</td>\n",
       "      <td>10+ years</td>\n",
       "      <td>MORTGAGE</td>\n",
       "      <td>86788.0</td>\n",
       "    </tr>\n",
       "    <tr>\n",
       "      <th>6</th>\n",
       "      <td>18000.0</td>\n",
       "      <td>36 months</td>\n",
       "      <td>5.32</td>\n",
       "      <td>542.07</td>\n",
       "      <td>A</td>\n",
       "      <td>A1</td>\n",
       "      <td>Software Development Engineer</td>\n",
       "      <td>2 years</td>\n",
       "      <td>MORTGAGE</td>\n",
       "      <td>125000.0</td>\n",
       "    </tr>\n",
       "    <tr>\n",
       "      <th>7</th>\n",
       "      <td>13000.0</td>\n",
       "      <td>36 months</td>\n",
       "      <td>11.14</td>\n",
       "      <td>426.47</td>\n",
       "      <td>B</td>\n",
       "      <td>B2</td>\n",
       "      <td>Office Depot</td>\n",
       "      <td>10+ years</td>\n",
       "      <td>RENT</td>\n",
       "      <td>46000.0</td>\n",
       "    </tr>\n",
       "    <tr>\n",
       "      <th>8</th>\n",
       "      <td>18900.0</td>\n",
       "      <td>60 months</td>\n",
       "      <td>10.99</td>\n",
       "      <td>410.84</td>\n",
       "      <td>B</td>\n",
       "      <td>B3</td>\n",
       "      <td>Application Architect</td>\n",
       "      <td>10+ years</td>\n",
       "      <td>RENT</td>\n",
       "      <td>103000.0</td>\n",
       "    </tr>\n",
       "    <tr>\n",
       "      <th>9</th>\n",
       "      <td>26300.0</td>\n",
       "      <td>36 months</td>\n",
       "      <td>16.29</td>\n",
       "      <td>928.40</td>\n",
       "      <td>C</td>\n",
       "      <td>C5</td>\n",
       "      <td>Regado Biosciences</td>\n",
       "      <td>3 years</td>\n",
       "      <td>MORTGAGE</td>\n",
       "      <td>115000.0</td>\n",
       "    </tr>\n",
       "  </tbody>\n",
       "</table>\n",
       "</div>"
      ],
      "text/plain": [
       "   loan_amnt        term  int_rate  installment grade sub_grade  \\\n",
       "0    10000.0   36 months     11.44       329.48     B        B4   \n",
       "1     8000.0   36 months     11.99       265.68     B        B5   \n",
       "2    15600.0   36 months     10.49       506.97     B        B3   \n",
       "3     7200.0   36 months      6.49       220.65     A        A2   \n",
       "4    24375.0   60 months     17.27       609.33     C        C5   \n",
       "5    20000.0   36 months     13.33       677.07     C        C3   \n",
       "6    18000.0   36 months      5.32       542.07     A        A1   \n",
       "7    13000.0   36 months     11.14       426.47     B        B2   \n",
       "8    18900.0   60 months     10.99       410.84     B        B3   \n",
       "9    26300.0   36 months     16.29       928.40     C        C5   \n",
       "\n",
       "                       emp_title emp_length home_ownership  annual_inc  \n",
       "0                      Marketing  10+ years           RENT    117000.0  \n",
       "1                Credit analyst     4 years       MORTGAGE     65000.0  \n",
       "2                   Statistician   < 1 year           RENT     43057.0  \n",
       "3                Client Advocate    6 years           RENT     54000.0  \n",
       "4        Destiny Management Inc.    9 years       MORTGAGE     55000.0  \n",
       "5                  HR Specialist  10+ years       MORTGAGE     86788.0  \n",
       "6  Software Development Engineer    2 years       MORTGAGE    125000.0  \n",
       "7                   Office Depot  10+ years           RENT     46000.0  \n",
       "8          Application Architect  10+ years           RENT    103000.0  \n",
       "9             Regado Biosciences    3 years       MORTGAGE    115000.0  "
      ]
     },
     "execution_count": 4,
     "metadata": {},
     "output_type": "execute_result"
    }
   ],
   "source": [
    "loan.iloc[0:10, 0:10]"
   ]
  },
  {
   "cell_type": "code",
   "execution_count": 5,
   "id": "97a459eb",
   "metadata": {},
   "outputs": [
    {
     "data": {
      "text/html": [
       "<div>\n",
       "<style scoped>\n",
       "    .dataframe tbody tr th:only-of-type {\n",
       "        vertical-align: middle;\n",
       "    }\n",
       "\n",
       "    .dataframe tbody tr th {\n",
       "        vertical-align: top;\n",
       "    }\n",
       "\n",
       "    .dataframe thead th {\n",
       "        text-align: right;\n",
       "    }\n",
       "</style>\n",
       "<table border=\"1\" class=\"dataframe\">\n",
       "  <thead>\n",
       "    <tr style=\"text-align: right;\">\n",
       "      <th></th>\n",
       "      <th>verification_status</th>\n",
       "      <th>issue_d</th>\n",
       "      <th>loan_status</th>\n",
       "      <th>purpose</th>\n",
       "      <th>title</th>\n",
       "      <th>dti</th>\n",
       "      <th>earliest_cr_line</th>\n",
       "      <th>open_acc</th>\n",
       "      <th>pub_rec</th>\n",
       "      <th>revol_bal</th>\n",
       "      <th>revol_util</th>\n",
       "      <th>total_acc</th>\n",
       "      <th>initial_list_status</th>\n",
       "      <th>application_type</th>\n",
       "      <th>mort_acc</th>\n",
       "      <th>pub_rec_bankruptcies</th>\n",
       "      <th>address</th>\n",
       "    </tr>\n",
       "  </thead>\n",
       "  <tbody>\n",
       "    <tr>\n",
       "      <th>0</th>\n",
       "      <td>Not Verified</td>\n",
       "      <td>Jan-2015</td>\n",
       "      <td>Fully Paid</td>\n",
       "      <td>vacation</td>\n",
       "      <td>Vacation</td>\n",
       "      <td>26.24</td>\n",
       "      <td>Jun-1990</td>\n",
       "      <td>16.0</td>\n",
       "      <td>0.0</td>\n",
       "      <td>36369.0</td>\n",
       "      <td>41.8</td>\n",
       "      <td>25.0</td>\n",
       "      <td>w</td>\n",
       "      <td>INDIVIDUAL</td>\n",
       "      <td>0.0</td>\n",
       "      <td>0.0</td>\n",
       "      <td>0174 Michelle Gateway\\r\\nMendozaberg, OK 22690</td>\n",
       "    </tr>\n",
       "    <tr>\n",
       "      <th>1</th>\n",
       "      <td>Not Verified</td>\n",
       "      <td>Jan-2015</td>\n",
       "      <td>Fully Paid</td>\n",
       "      <td>debt_consolidation</td>\n",
       "      <td>Debt consolidation</td>\n",
       "      <td>22.05</td>\n",
       "      <td>Jul-2004</td>\n",
       "      <td>17.0</td>\n",
       "      <td>0.0</td>\n",
       "      <td>20131.0</td>\n",
       "      <td>53.3</td>\n",
       "      <td>27.0</td>\n",
       "      <td>f</td>\n",
       "      <td>INDIVIDUAL</td>\n",
       "      <td>3.0</td>\n",
       "      <td>0.0</td>\n",
       "      <td>1076 Carney Fort Apt. 347\\r\\nLoganmouth, SD 05113</td>\n",
       "    </tr>\n",
       "    <tr>\n",
       "      <th>2</th>\n",
       "      <td>Source Verified</td>\n",
       "      <td>Jan-2015</td>\n",
       "      <td>Fully Paid</td>\n",
       "      <td>credit_card</td>\n",
       "      <td>Credit card refinancing</td>\n",
       "      <td>12.79</td>\n",
       "      <td>Aug-2007</td>\n",
       "      <td>13.0</td>\n",
       "      <td>0.0</td>\n",
       "      <td>11987.0</td>\n",
       "      <td>92.2</td>\n",
       "      <td>26.0</td>\n",
       "      <td>f</td>\n",
       "      <td>INDIVIDUAL</td>\n",
       "      <td>0.0</td>\n",
       "      <td>0.0</td>\n",
       "      <td>87025 Mark Dale Apt. 269\\r\\nNew Sabrina, WV 05113</td>\n",
       "    </tr>\n",
       "    <tr>\n",
       "      <th>3</th>\n",
       "      <td>Not Verified</td>\n",
       "      <td>Nov-2014</td>\n",
       "      <td>Fully Paid</td>\n",
       "      <td>credit_card</td>\n",
       "      <td>Credit card refinancing</td>\n",
       "      <td>2.60</td>\n",
       "      <td>Sep-2006</td>\n",
       "      <td>6.0</td>\n",
       "      <td>0.0</td>\n",
       "      <td>5472.0</td>\n",
       "      <td>21.5</td>\n",
       "      <td>13.0</td>\n",
       "      <td>f</td>\n",
       "      <td>INDIVIDUAL</td>\n",
       "      <td>0.0</td>\n",
       "      <td>0.0</td>\n",
       "      <td>823 Reid Ford\\r\\nDelacruzside, MA 00813</td>\n",
       "    </tr>\n",
       "    <tr>\n",
       "      <th>4</th>\n",
       "      <td>Verified</td>\n",
       "      <td>Apr-2013</td>\n",
       "      <td>Charged Off</td>\n",
       "      <td>credit_card</td>\n",
       "      <td>Credit Card Refinance</td>\n",
       "      <td>33.95</td>\n",
       "      <td>Mar-1999</td>\n",
       "      <td>13.0</td>\n",
       "      <td>0.0</td>\n",
       "      <td>24584.0</td>\n",
       "      <td>69.8</td>\n",
       "      <td>43.0</td>\n",
       "      <td>f</td>\n",
       "      <td>INDIVIDUAL</td>\n",
       "      <td>1.0</td>\n",
       "      <td>0.0</td>\n",
       "      <td>679 Luna Roads\\r\\nGreggshire, VA 11650</td>\n",
       "    </tr>\n",
       "    <tr>\n",
       "      <th>5</th>\n",
       "      <td>Verified</td>\n",
       "      <td>Sep-2015</td>\n",
       "      <td>Fully Paid</td>\n",
       "      <td>debt_consolidation</td>\n",
       "      <td>Debt consolidation</td>\n",
       "      <td>16.31</td>\n",
       "      <td>Jan-2005</td>\n",
       "      <td>8.0</td>\n",
       "      <td>0.0</td>\n",
       "      <td>25757.0</td>\n",
       "      <td>100.6</td>\n",
       "      <td>23.0</td>\n",
       "      <td>f</td>\n",
       "      <td>INDIVIDUAL</td>\n",
       "      <td>4.0</td>\n",
       "      <td>0.0</td>\n",
       "      <td>1726 Cooper Passage Suite 129\\r\\nNorth Deniseb...</td>\n",
       "    </tr>\n",
       "    <tr>\n",
       "      <th>6</th>\n",
       "      <td>Source Verified</td>\n",
       "      <td>Sep-2015</td>\n",
       "      <td>Fully Paid</td>\n",
       "      <td>home_improvement</td>\n",
       "      <td>Home improvement</td>\n",
       "      <td>1.36</td>\n",
       "      <td>Aug-2005</td>\n",
       "      <td>8.0</td>\n",
       "      <td>0.0</td>\n",
       "      <td>4178.0</td>\n",
       "      <td>4.9</td>\n",
       "      <td>25.0</td>\n",
       "      <td>f</td>\n",
       "      <td>INDIVIDUAL</td>\n",
       "      <td>3.0</td>\n",
       "      <td>0.0</td>\n",
       "      <td>1008 Erika Vista Suite 748\\r\\nEast Stephanie, ...</td>\n",
       "    </tr>\n",
       "    <tr>\n",
       "      <th>7</th>\n",
       "      <td>Not Verified</td>\n",
       "      <td>Sep-2012</td>\n",
       "      <td>Fully Paid</td>\n",
       "      <td>credit_card</td>\n",
       "      <td>No More Credit Cards</td>\n",
       "      <td>26.87</td>\n",
       "      <td>Sep-1994</td>\n",
       "      <td>11.0</td>\n",
       "      <td>0.0</td>\n",
       "      <td>13425.0</td>\n",
       "      <td>64.5</td>\n",
       "      <td>15.0</td>\n",
       "      <td>f</td>\n",
       "      <td>INDIVIDUAL</td>\n",
       "      <td>0.0</td>\n",
       "      <td>0.0</td>\n",
       "      <td>USCGC Nunez\\r\\nFPO AE 30723</td>\n",
       "    </tr>\n",
       "    <tr>\n",
       "      <th>8</th>\n",
       "      <td>Verified</td>\n",
       "      <td>Oct-2014</td>\n",
       "      <td>Fully Paid</td>\n",
       "      <td>debt_consolidation</td>\n",
       "      <td>Debt consolidation</td>\n",
       "      <td>12.52</td>\n",
       "      <td>Jun-1994</td>\n",
       "      <td>13.0</td>\n",
       "      <td>0.0</td>\n",
       "      <td>18637.0</td>\n",
       "      <td>32.9</td>\n",
       "      <td>40.0</td>\n",
       "      <td>w</td>\n",
       "      <td>INDIVIDUAL</td>\n",
       "      <td>3.0</td>\n",
       "      <td>0.0</td>\n",
       "      <td>USCGC Tran\\r\\nFPO AP 22690</td>\n",
       "    </tr>\n",
       "    <tr>\n",
       "      <th>9</th>\n",
       "      <td>Verified</td>\n",
       "      <td>Apr-2012</td>\n",
       "      <td>Fully Paid</td>\n",
       "      <td>debt_consolidation</td>\n",
       "      <td>Debt Consolidation</td>\n",
       "      <td>23.69</td>\n",
       "      <td>Dec-1997</td>\n",
       "      <td>13.0</td>\n",
       "      <td>0.0</td>\n",
       "      <td>22171.0</td>\n",
       "      <td>82.4</td>\n",
       "      <td>37.0</td>\n",
       "      <td>f</td>\n",
       "      <td>INDIVIDUAL</td>\n",
       "      <td>1.0</td>\n",
       "      <td>0.0</td>\n",
       "      <td>3390 Luis Rue\\r\\nMauricestad, VA 00813</td>\n",
       "    </tr>\n",
       "  </tbody>\n",
       "</table>\n",
       "</div>"
      ],
      "text/plain": [
       "  verification_status   issue_d  loan_status             purpose  \\\n",
       "0        Not Verified  Jan-2015   Fully Paid            vacation   \n",
       "1        Not Verified  Jan-2015   Fully Paid  debt_consolidation   \n",
       "2     Source Verified  Jan-2015   Fully Paid         credit_card   \n",
       "3        Not Verified  Nov-2014   Fully Paid         credit_card   \n",
       "4            Verified  Apr-2013  Charged Off         credit_card   \n",
       "5            Verified  Sep-2015   Fully Paid  debt_consolidation   \n",
       "6     Source Verified  Sep-2015   Fully Paid    home_improvement   \n",
       "7        Not Verified  Sep-2012   Fully Paid         credit_card   \n",
       "8            Verified  Oct-2014   Fully Paid  debt_consolidation   \n",
       "9            Verified  Apr-2012   Fully Paid  debt_consolidation   \n",
       "\n",
       "                     title    dti earliest_cr_line  open_acc  pub_rec  \\\n",
       "0                 Vacation  26.24         Jun-1990      16.0      0.0   \n",
       "1       Debt consolidation  22.05         Jul-2004      17.0      0.0   \n",
       "2  Credit card refinancing  12.79         Aug-2007      13.0      0.0   \n",
       "3  Credit card refinancing   2.60         Sep-2006       6.0      0.0   \n",
       "4    Credit Card Refinance  33.95         Mar-1999      13.0      0.0   \n",
       "5       Debt consolidation  16.31         Jan-2005       8.0      0.0   \n",
       "6         Home improvement   1.36         Aug-2005       8.0      0.0   \n",
       "7     No More Credit Cards  26.87         Sep-1994      11.0      0.0   \n",
       "8       Debt consolidation  12.52         Jun-1994      13.0      0.0   \n",
       "9       Debt Consolidation  23.69         Dec-1997      13.0      0.0   \n",
       "\n",
       "   revol_bal  revol_util  total_acc initial_list_status application_type  \\\n",
       "0    36369.0        41.8       25.0                   w       INDIVIDUAL   \n",
       "1    20131.0        53.3       27.0                   f       INDIVIDUAL   \n",
       "2    11987.0        92.2       26.0                   f       INDIVIDUAL   \n",
       "3     5472.0        21.5       13.0                   f       INDIVIDUAL   \n",
       "4    24584.0        69.8       43.0                   f       INDIVIDUAL   \n",
       "5    25757.0       100.6       23.0                   f       INDIVIDUAL   \n",
       "6     4178.0         4.9       25.0                   f       INDIVIDUAL   \n",
       "7    13425.0        64.5       15.0                   f       INDIVIDUAL   \n",
       "8    18637.0        32.9       40.0                   w       INDIVIDUAL   \n",
       "9    22171.0        82.4       37.0                   f       INDIVIDUAL   \n",
       "\n",
       "   mort_acc  pub_rec_bankruptcies  \\\n",
       "0       0.0                   0.0   \n",
       "1       3.0                   0.0   \n",
       "2       0.0                   0.0   \n",
       "3       0.0                   0.0   \n",
       "4       1.0                   0.0   \n",
       "5       4.0                   0.0   \n",
       "6       3.0                   0.0   \n",
       "7       0.0                   0.0   \n",
       "8       3.0                   0.0   \n",
       "9       1.0                   0.0   \n",
       "\n",
       "                                             address  \n",
       "0     0174 Michelle Gateway\\r\\nMendozaberg, OK 22690  \n",
       "1  1076 Carney Fort Apt. 347\\r\\nLoganmouth, SD 05113  \n",
       "2  87025 Mark Dale Apt. 269\\r\\nNew Sabrina, WV 05113  \n",
       "3            823 Reid Ford\\r\\nDelacruzside, MA 00813  \n",
       "4             679 Luna Roads\\r\\nGreggshire, VA 11650  \n",
       "5  1726 Cooper Passage Suite 129\\r\\nNorth Deniseb...  \n",
       "6  1008 Erika Vista Suite 748\\r\\nEast Stephanie, ...  \n",
       "7                        USCGC Nunez\\r\\nFPO AE 30723  \n",
       "8                         USCGC Tran\\r\\nFPO AP 22690  \n",
       "9             3390 Luis Rue\\r\\nMauricestad, VA 00813  "
      ]
     },
     "execution_count": 5,
     "metadata": {},
     "output_type": "execute_result"
    }
   ],
   "source": [
    "loan.iloc[0:10, 10:]"
   ]
  },
  {
   "cell_type": "markdown",
   "id": "3f685487",
   "metadata": {},
   "source": [
    "### Data Preprocessing"
   ]
  },
  {
   "cell_type": "markdown",
   "id": "b24f87e8",
   "metadata": {},
   "source": [
    "#### Remapping Target Variable Values"
   ]
  },
  {
   "cell_type": "code",
   "execution_count": 6,
   "id": "dd54623e",
   "metadata": {},
   "outputs": [],
   "source": [
    "loan['loan_status'].replace(to_replace='Fully Paid', value=1, inplace=True)\n",
    "loan['loan_status'].replace(to_replace='Charged Off', value=0, inplace=True)"
   ]
  },
  {
   "cell_type": "markdown",
   "id": "6a8f3539",
   "metadata": {},
   "source": [
    "#### Count of Nulls"
   ]
  },
  {
   "cell_type": "code",
   "execution_count": 7,
   "id": "8be21523",
   "metadata": {},
   "outputs": [
    {
     "data": {
      "text/plain": [
       "loan_amnt                   0\n",
       "term                        0\n",
       "int_rate                    0\n",
       "installment                 0\n",
       "grade                       0\n",
       "sub_grade                   0\n",
       "emp_title               22927\n",
       "emp_length              18301\n",
       "home_ownership              0\n",
       "annual_inc                  0\n",
       "verification_status         0\n",
       "issue_d                     0\n",
       "loan_status                 0\n",
       "purpose                     0\n",
       "title                    1755\n",
       "dti                         0\n",
       "earliest_cr_line            0\n",
       "open_acc                    0\n",
       "pub_rec                     0\n",
       "revol_bal                   0\n",
       "revol_util                276\n",
       "total_acc                   0\n",
       "initial_list_status         0\n",
       "application_type            0\n",
       "mort_acc                37795\n",
       "pub_rec_bankruptcies      535\n",
       "address                     0\n",
       "dtype: int64"
      ]
     },
     "execution_count": 7,
     "metadata": {},
     "output_type": "execute_result"
    }
   ],
   "source": [
    "loan.isnull().sum()"
   ]
  },
  {
   "cell_type": "markdown",
   "id": "59d235f6",
   "metadata": {},
   "source": [
    "#### Percentage of Nulls"
   ]
  },
  {
   "cell_type": "code",
   "execution_count": 8,
   "id": "25f12f05",
   "metadata": {},
   "outputs": [
    {
     "data": {
      "text/plain": [
       "loan_amnt               0.000000\n",
       "term                    0.000000\n",
       "int_rate                0.000000\n",
       "installment             0.000000\n",
       "grade                   0.000000\n",
       "sub_grade               0.000000\n",
       "emp_title               5.789208\n",
       "emp_length              4.621115\n",
       "home_ownership          0.000000\n",
       "annual_inc              0.000000\n",
       "verification_status     0.000000\n",
       "issue_d                 0.000000\n",
       "loan_status             0.000000\n",
       "purpose                 0.000000\n",
       "title                   0.443148\n",
       "dti                     0.000000\n",
       "earliest_cr_line        0.000000\n",
       "open_acc                0.000000\n",
       "pub_rec                 0.000000\n",
       "revol_bal               0.000000\n",
       "revol_util              0.069692\n",
       "total_acc               0.000000\n",
       "initial_list_status     0.000000\n",
       "application_type        0.000000\n",
       "mort_acc                9.543469\n",
       "pub_rec_bankruptcies    0.135091\n",
       "address                 0.000000\n",
       "dtype: float64"
      ]
     },
     "execution_count": 8,
     "metadata": {},
     "output_type": "execute_result"
    }
   ],
   "source": [
    "100*loan.isnull().sum()/len(loan)"
   ]
  },
  {
   "cell_type": "markdown",
   "id": "d00f95ca",
   "metadata": {},
   "source": [
    "#### Dropping columns not required for analysis"
   ]
  },
  {
   "cell_type": "code",
   "execution_count": 9,
   "id": "3f15f647",
   "metadata": {},
   "outputs": [
    {
     "data": {
      "text/plain": [
       "Teacher                    4389\n",
       "Manager                    4250\n",
       "Registered Nurse           1856\n",
       "RN                         1846\n",
       "Supervisor                 1830\n",
       "                           ... \n",
       "Postman                       1\n",
       "McCarthy & Holthus, LLC       1\n",
       "jp flooring                   1\n",
       "Histology Technologist        1\n",
       "Gracon Services, Inc          1\n",
       "Name: emp_title, Length: 173105, dtype: int64"
      ]
     },
     "execution_count": 9,
     "metadata": {},
     "output_type": "execute_result"
    }
   ],
   "source": [
    "loan['emp_title'].value_counts()"
   ]
  },
  {
   "cell_type": "markdown",
   "id": "4219de0d",
   "metadata": {},
   "source": [
    "Too many unique job titles to convert to a dummy variable feature. Removing emp_title column."
   ]
  },
  {
   "cell_type": "code",
   "execution_count": 10,
   "id": "1079e93a",
   "metadata": {},
   "outputs": [],
   "source": [
    "loan = loan.drop('emp_title', axis=1)"
   ]
  },
  {
   "cell_type": "code",
   "execution_count": 11,
   "id": "078fb6b9",
   "metadata": {},
   "outputs": [
    {
     "data": {
      "text/plain": [
       "emp_length\n",
       "1 year       0.248649\n",
       "10+ years    0.225770\n",
       "2 years      0.239560\n",
       "3 years      0.242593\n",
       "4 years      0.238213\n",
       "5 years      0.237911\n",
       "6 years      0.233341\n",
       "7 years      0.241887\n",
       "8 years      0.249625\n",
       "9 years      0.250735\n",
       "< 1 year     0.260830\n",
       "Name: loan_status, dtype: float64"
      ]
     },
     "execution_count": 11,
     "metadata": {},
     "output_type": "execute_result"
    }
   ],
   "source": [
    "emp_co = loan[loan['loan_status']==0].groupby(\"emp_length\").count()['loan_status']\n",
    "emp_fp = loan[loan['loan_status']==1].groupby(\"emp_length\").count()['loan_status']\n",
    "emp_len = emp_co/emp_fp\n",
    "emp_len"
   ]
  },
  {
   "cell_type": "markdown",
   "id": "4211ebc9",
   "metadata": {},
   "source": [
    "Charge off rates are similar across all employment lengths. Dropping the emp_length column."
   ]
  },
  {
   "cell_type": "code",
   "execution_count": 12,
   "id": "82e4f0aa",
   "metadata": {},
   "outputs": [],
   "source": [
    "loan = loan.drop('emp_length', axis=1)"
   ]
  },
  {
   "cell_type": "code",
   "execution_count": 13,
   "id": "bae4f13a",
   "metadata": {},
   "outputs": [
    {
     "data": {
      "text/plain": [
       "loan_amnt                   0\n",
       "term                        0\n",
       "int_rate                    0\n",
       "installment                 0\n",
       "grade                       0\n",
       "sub_grade                   0\n",
       "home_ownership              0\n",
       "annual_inc                  0\n",
       "verification_status         0\n",
       "issue_d                     0\n",
       "loan_status                 0\n",
       "purpose                     0\n",
       "title                    1755\n",
       "dti                         0\n",
       "earliest_cr_line            0\n",
       "open_acc                    0\n",
       "pub_rec                     0\n",
       "revol_bal                   0\n",
       "revol_util                276\n",
       "total_acc                   0\n",
       "initial_list_status         0\n",
       "application_type            0\n",
       "mort_acc                37795\n",
       "pub_rec_bankruptcies      535\n",
       "address                     0\n",
       "dtype: int64"
      ]
     },
     "execution_count": 13,
     "metadata": {},
     "output_type": "execute_result"
    }
   ],
   "source": [
    "loan.isnull().sum()"
   ]
  },
  {
   "cell_type": "code",
   "execution_count": 14,
   "id": "eb6be137",
   "metadata": {},
   "outputs": [],
   "source": [
    "loan.dropna(inplace=True)"
   ]
  },
  {
   "cell_type": "code",
   "execution_count": 15,
   "id": "e945df06",
   "metadata": {},
   "outputs": [
    {
     "data": {
      "text/plain": [
       "loan_amnt               0\n",
       "term                    0\n",
       "int_rate                0\n",
       "installment             0\n",
       "grade                   0\n",
       "sub_grade               0\n",
       "home_ownership          0\n",
       "annual_inc              0\n",
       "verification_status     0\n",
       "issue_d                 0\n",
       "loan_status             0\n",
       "purpose                 0\n",
       "title                   0\n",
       "dti                     0\n",
       "earliest_cr_line        0\n",
       "open_acc                0\n",
       "pub_rec                 0\n",
       "revol_bal               0\n",
       "revol_util              0\n",
       "total_acc               0\n",
       "initial_list_status     0\n",
       "application_type        0\n",
       "mort_acc                0\n",
       "pub_rec_bankruptcies    0\n",
       "address                 0\n",
       "dtype: int64"
      ]
     },
     "execution_count": 15,
     "metadata": {},
     "output_type": "execute_result"
    }
   ],
   "source": [
    "loan.isnull().sum()"
   ]
  },
  {
   "cell_type": "markdown",
   "id": "c6c8d17c",
   "metadata": {},
   "source": [
    "Dropping all null rows."
   ]
  },
  {
   "cell_type": "code",
   "execution_count": 16,
   "id": "db6caf12",
   "metadata": {},
   "outputs": [
    {
     "data": {
      "text/plain": [
       "0              vacation\n",
       "1    debt_consolidation\n",
       "2           credit_card\n",
       "3           credit_card\n",
       "4           credit_card\n",
       "5    debt_consolidation\n",
       "6      home_improvement\n",
       "7           credit_card\n",
       "8    debt_consolidation\n",
       "9    debt_consolidation\n",
       "Name: purpose, dtype: object"
      ]
     },
     "execution_count": 16,
     "metadata": {},
     "output_type": "execute_result"
    }
   ],
   "source": [
    "loan['purpose'].head(10)"
   ]
  },
  {
   "cell_type": "code",
   "execution_count": 17,
   "id": "808608af",
   "metadata": {},
   "outputs": [
    {
     "data": {
      "text/plain": [
       "0                   Vacation\n",
       "1         Debt consolidation\n",
       "2    Credit card refinancing\n",
       "3    Credit card refinancing\n",
       "4      Credit Card Refinance\n",
       "5         Debt consolidation\n",
       "6           Home improvement\n",
       "7       No More Credit Cards\n",
       "8         Debt consolidation\n",
       "9         Debt Consolidation\n",
       "Name: title, dtype: object"
      ]
     },
     "execution_count": 17,
     "metadata": {},
     "output_type": "execute_result"
    }
   ],
   "source": [
    "loan['title'].head(10)"
   ]
  },
  {
   "cell_type": "markdown",
   "id": "ff951297",
   "metadata": {},
   "source": [
    "Title column is similar to the purpose column. Dropping the title column."
   ]
  },
  {
   "cell_type": "code",
   "execution_count": 18,
   "id": "f2c9a100",
   "metadata": {},
   "outputs": [],
   "source": [
    "loan = loan.drop('title', axis=1)"
   ]
  },
  {
   "cell_type": "code",
   "execution_count": 19,
   "id": "372801fc",
   "metadata": {},
   "outputs": [
    {
     "data": {
      "text/plain": [
       "0.0     139054\n",
       "1.0      60073\n",
       "2.0      49653\n",
       "3.0      37820\n",
       "4.0      27715\n",
       "5.0      18108\n",
       "6.0      11011\n",
       "7.0       6020\n",
       "8.0       3108\n",
       "9.0       1648\n",
       "10.0       862\n",
       "11.0       478\n",
       "12.0       263\n",
       "13.0       146\n",
       "14.0       107\n",
       "15.0        61\n",
       "16.0        37\n",
       "17.0        21\n",
       "18.0        18\n",
       "19.0        15\n",
       "20.0        13\n",
       "24.0        10\n",
       "22.0         7\n",
       "21.0         4\n",
       "25.0         4\n",
       "27.0         3\n",
       "32.0         2\n",
       "31.0         2\n",
       "23.0         2\n",
       "26.0         2\n",
       "28.0         1\n",
       "30.0         1\n",
       "34.0         1\n",
       "Name: mort_acc, dtype: int64"
      ]
     },
     "execution_count": 19,
     "metadata": {},
     "output_type": "execute_result"
    }
   ],
   "source": [
    "loan['mort_acc'].value_counts()"
   ]
  },
  {
   "cell_type": "code",
   "execution_count": 20,
   "id": "be4f583f",
   "metadata": {},
   "outputs": [
    {
     "data": {
      "text/plain": [
       " 36 months    272388\n",
       " 60 months     83882\n",
       "Name: term, dtype: int64"
      ]
     },
     "execution_count": 20,
     "metadata": {},
     "output_type": "execute_result"
    }
   ],
   "source": [
    "loan['term'].value_counts()"
   ]
  },
  {
   "cell_type": "markdown",
   "id": "d8cd61be",
   "metadata": {},
   "source": [
    "Getting number of months from term."
   ]
  },
  {
   "cell_type": "code",
   "execution_count": 21,
   "id": "4c3fcaf9",
   "metadata": {
    "scrolled": true
   },
   "outputs": [
    {
     "data": {
      "text/plain": [
       "0         36\n",
       "1         36\n",
       "2         36\n",
       "3         36\n",
       "4         60\n",
       "          ..\n",
       "396024    36\n",
       "396025    60\n",
       "396026    36\n",
       "396027    36\n",
       "396028    60\n",
       "Name: term, Length: 356270, dtype: int64"
      ]
     },
     "execution_count": 21,
     "metadata": {},
     "output_type": "execute_result"
    }
   ],
   "source": [
    "loan['term'] = loan['term'].apply(lambda term: int(term[:3]))\n",
    "loan['term']"
   ]
  },
  {
   "cell_type": "markdown",
   "id": "16590df0",
   "metadata": {},
   "source": [
    "Dropping grade as it is a redundant column."
   ]
  },
  {
   "cell_type": "code",
   "execution_count": 22,
   "id": "bfe844d8",
   "metadata": {},
   "outputs": [],
   "source": [
    "loan = loan.drop('grade', axis=1)"
   ]
  },
  {
   "cell_type": "code",
   "execution_count": 23,
   "id": "09d5b6ee",
   "metadata": {},
   "outputs": [
    {
     "data": {
      "text/plain": [
       "MORTGAGE    180683\n",
       "RENT        140983\n",
       "OWN          34538\n",
       "OTHER           34\n",
       "NONE            29\n",
       "ANY              3\n",
       "Name: home_ownership, dtype: int64"
      ]
     },
     "execution_count": 23,
     "metadata": {},
     "output_type": "execute_result"
    }
   ],
   "source": [
    "loan['home_ownership'].value_counts()"
   ]
  },
  {
   "cell_type": "markdown",
   "id": "ac5d2d2f",
   "metadata": {},
   "source": [
    "Combining NONE and ANY with OTHER for home_ownership."
   ]
  },
  {
   "cell_type": "code",
   "execution_count": 24,
   "id": "e13593b4",
   "metadata": {},
   "outputs": [],
   "source": [
    "loan['home_ownership'] = loan['home_ownership'].replace(['NONE', 'ANY'], 'OTHER')"
   ]
  },
  {
   "cell_type": "markdown",
   "id": "a37ca6d7",
   "metadata": {},
   "source": [
    "Getting last 5 characters of address as zip_code."
   ]
  },
  {
   "cell_type": "code",
   "execution_count": 25,
   "id": "3a5c66c3",
   "metadata": {},
   "outputs": [],
   "source": [
    "loan['zip_code'] = loan['address'].apply(lambda address:address[-5:])"
   ]
  },
  {
   "cell_type": "markdown",
   "id": "a01a1cbd",
   "metadata": {},
   "source": [
    "Dropping issue date of loan."
   ]
  },
  {
   "cell_type": "code",
   "execution_count": 26,
   "id": "55ec37e9",
   "metadata": {},
   "outputs": [],
   "source": [
    "loan = loan.drop('issue_d', axis=1)"
   ]
  },
  {
   "cell_type": "markdown",
   "id": "f927c696",
   "metadata": {},
   "source": [
    "Getting last 5 characters of earliest_cr_line as earliest_cr_year."
   ]
  },
  {
   "cell_type": "code",
   "execution_count": 27,
   "id": "63bdf107",
   "metadata": {},
   "outputs": [],
   "source": [
    "loan['earliest_cr_year'] = loan['earliest_cr_line'].apply(lambda date:int(date[-4:]))"
   ]
  },
  {
   "cell_type": "markdown",
   "id": "622d7cc1",
   "metadata": {},
   "source": [
    "### Final Dataset"
   ]
  },
  {
   "cell_type": "code",
   "execution_count": 28,
   "id": "4132e9db",
   "metadata": {},
   "outputs": [
    {
     "data": {
      "text/html": [
       "<div>\n",
       "<style scoped>\n",
       "    .dataframe tbody tr th:only-of-type {\n",
       "        vertical-align: middle;\n",
       "    }\n",
       "\n",
       "    .dataframe tbody tr th {\n",
       "        vertical-align: top;\n",
       "    }\n",
       "\n",
       "    .dataframe thead th {\n",
       "        text-align: right;\n",
       "    }\n",
       "</style>\n",
       "<table border=\"1\" class=\"dataframe\">\n",
       "  <thead>\n",
       "    <tr style=\"text-align: right;\">\n",
       "      <th></th>\n",
       "      <th>loan_amnt</th>\n",
       "      <th>term</th>\n",
       "      <th>int_rate</th>\n",
       "      <th>installment</th>\n",
       "      <th>sub_grade</th>\n",
       "      <th>home_ownership</th>\n",
       "      <th>annual_inc</th>\n",
       "      <th>verification_status</th>\n",
       "      <th>loan_status</th>\n",
       "      <th>purpose</th>\n",
       "      <th>...</th>\n",
       "      <th>revol_bal</th>\n",
       "      <th>revol_util</th>\n",
       "      <th>total_acc</th>\n",
       "      <th>initial_list_status</th>\n",
       "      <th>application_type</th>\n",
       "      <th>mort_acc</th>\n",
       "      <th>pub_rec_bankruptcies</th>\n",
       "      <th>address</th>\n",
       "      <th>zip_code</th>\n",
       "      <th>earliest_cr_year</th>\n",
       "    </tr>\n",
       "  </thead>\n",
       "  <tbody>\n",
       "    <tr>\n",
       "      <th>0</th>\n",
       "      <td>10000.0</td>\n",
       "      <td>36</td>\n",
       "      <td>11.44</td>\n",
       "      <td>329.48</td>\n",
       "      <td>B4</td>\n",
       "      <td>RENT</td>\n",
       "      <td>117000.0</td>\n",
       "      <td>Not Verified</td>\n",
       "      <td>1</td>\n",
       "      <td>vacation</td>\n",
       "      <td>...</td>\n",
       "      <td>36369.0</td>\n",
       "      <td>41.8</td>\n",
       "      <td>25.0</td>\n",
       "      <td>w</td>\n",
       "      <td>INDIVIDUAL</td>\n",
       "      <td>0.0</td>\n",
       "      <td>0.0</td>\n",
       "      <td>0174 Michelle Gateway\\r\\nMendozaberg, OK 22690</td>\n",
       "      <td>22690</td>\n",
       "      <td>1990</td>\n",
       "    </tr>\n",
       "    <tr>\n",
       "      <th>1</th>\n",
       "      <td>8000.0</td>\n",
       "      <td>36</td>\n",
       "      <td>11.99</td>\n",
       "      <td>265.68</td>\n",
       "      <td>B5</td>\n",
       "      <td>MORTGAGE</td>\n",
       "      <td>65000.0</td>\n",
       "      <td>Not Verified</td>\n",
       "      <td>1</td>\n",
       "      <td>debt_consolidation</td>\n",
       "      <td>...</td>\n",
       "      <td>20131.0</td>\n",
       "      <td>53.3</td>\n",
       "      <td>27.0</td>\n",
       "      <td>f</td>\n",
       "      <td>INDIVIDUAL</td>\n",
       "      <td>3.0</td>\n",
       "      <td>0.0</td>\n",
       "      <td>1076 Carney Fort Apt. 347\\r\\nLoganmouth, SD 05113</td>\n",
       "      <td>05113</td>\n",
       "      <td>2004</td>\n",
       "    </tr>\n",
       "    <tr>\n",
       "      <th>2</th>\n",
       "      <td>15600.0</td>\n",
       "      <td>36</td>\n",
       "      <td>10.49</td>\n",
       "      <td>506.97</td>\n",
       "      <td>B3</td>\n",
       "      <td>RENT</td>\n",
       "      <td>43057.0</td>\n",
       "      <td>Source Verified</td>\n",
       "      <td>1</td>\n",
       "      <td>credit_card</td>\n",
       "      <td>...</td>\n",
       "      <td>11987.0</td>\n",
       "      <td>92.2</td>\n",
       "      <td>26.0</td>\n",
       "      <td>f</td>\n",
       "      <td>INDIVIDUAL</td>\n",
       "      <td>0.0</td>\n",
       "      <td>0.0</td>\n",
       "      <td>87025 Mark Dale Apt. 269\\r\\nNew Sabrina, WV 05113</td>\n",
       "      <td>05113</td>\n",
       "      <td>2007</td>\n",
       "    </tr>\n",
       "    <tr>\n",
       "      <th>3</th>\n",
       "      <td>7200.0</td>\n",
       "      <td>36</td>\n",
       "      <td>6.49</td>\n",
       "      <td>220.65</td>\n",
       "      <td>A2</td>\n",
       "      <td>RENT</td>\n",
       "      <td>54000.0</td>\n",
       "      <td>Not Verified</td>\n",
       "      <td>1</td>\n",
       "      <td>credit_card</td>\n",
       "      <td>...</td>\n",
       "      <td>5472.0</td>\n",
       "      <td>21.5</td>\n",
       "      <td>13.0</td>\n",
       "      <td>f</td>\n",
       "      <td>INDIVIDUAL</td>\n",
       "      <td>0.0</td>\n",
       "      <td>0.0</td>\n",
       "      <td>823 Reid Ford\\r\\nDelacruzside, MA 00813</td>\n",
       "      <td>00813</td>\n",
       "      <td>2006</td>\n",
       "    </tr>\n",
       "    <tr>\n",
       "      <th>4</th>\n",
       "      <td>24375.0</td>\n",
       "      <td>60</td>\n",
       "      <td>17.27</td>\n",
       "      <td>609.33</td>\n",
       "      <td>C5</td>\n",
       "      <td>MORTGAGE</td>\n",
       "      <td>55000.0</td>\n",
       "      <td>Verified</td>\n",
       "      <td>0</td>\n",
       "      <td>credit_card</td>\n",
       "      <td>...</td>\n",
       "      <td>24584.0</td>\n",
       "      <td>69.8</td>\n",
       "      <td>43.0</td>\n",
       "      <td>f</td>\n",
       "      <td>INDIVIDUAL</td>\n",
       "      <td>1.0</td>\n",
       "      <td>0.0</td>\n",
       "      <td>679 Luna Roads\\r\\nGreggshire, VA 11650</td>\n",
       "      <td>11650</td>\n",
       "      <td>1999</td>\n",
       "    </tr>\n",
       "    <tr>\n",
       "      <th>...</th>\n",
       "      <td>...</td>\n",
       "      <td>...</td>\n",
       "      <td>...</td>\n",
       "      <td>...</td>\n",
       "      <td>...</td>\n",
       "      <td>...</td>\n",
       "      <td>...</td>\n",
       "      <td>...</td>\n",
       "      <td>...</td>\n",
       "      <td>...</td>\n",
       "      <td>...</td>\n",
       "      <td>...</td>\n",
       "      <td>...</td>\n",
       "      <td>...</td>\n",
       "      <td>...</td>\n",
       "      <td>...</td>\n",
       "      <td>...</td>\n",
       "      <td>...</td>\n",
       "      <td>...</td>\n",
       "      <td>...</td>\n",
       "      <td>...</td>\n",
       "    </tr>\n",
       "    <tr>\n",
       "      <th>396024</th>\n",
       "      <td>6000.0</td>\n",
       "      <td>36</td>\n",
       "      <td>13.11</td>\n",
       "      <td>202.49</td>\n",
       "      <td>B4</td>\n",
       "      <td>RENT</td>\n",
       "      <td>64000.0</td>\n",
       "      <td>Not Verified</td>\n",
       "      <td>1</td>\n",
       "      <td>debt_consolidation</td>\n",
       "      <td>...</td>\n",
       "      <td>11456.0</td>\n",
       "      <td>97.1</td>\n",
       "      <td>9.0</td>\n",
       "      <td>w</td>\n",
       "      <td>INDIVIDUAL</td>\n",
       "      <td>0.0</td>\n",
       "      <td>0.0</td>\n",
       "      <td>514 Cynthia Park Apt. 402\\r\\nWest Williamside,...</td>\n",
       "      <td>05113</td>\n",
       "      <td>1991</td>\n",
       "    </tr>\n",
       "    <tr>\n",
       "      <th>396025</th>\n",
       "      <td>10000.0</td>\n",
       "      <td>60</td>\n",
       "      <td>10.99</td>\n",
       "      <td>217.38</td>\n",
       "      <td>B4</td>\n",
       "      <td>RENT</td>\n",
       "      <td>40000.0</td>\n",
       "      <td>Source Verified</td>\n",
       "      <td>1</td>\n",
       "      <td>debt_consolidation</td>\n",
       "      <td>...</td>\n",
       "      <td>1990.0</td>\n",
       "      <td>34.3</td>\n",
       "      <td>23.0</td>\n",
       "      <td>w</td>\n",
       "      <td>INDIVIDUAL</td>\n",
       "      <td>0.0</td>\n",
       "      <td>0.0</td>\n",
       "      <td>12951 Williams Crossing\\r\\nJohnnyville, DC 30723</td>\n",
       "      <td>30723</td>\n",
       "      <td>2004</td>\n",
       "    </tr>\n",
       "    <tr>\n",
       "      <th>396026</th>\n",
       "      <td>21000.0</td>\n",
       "      <td>36</td>\n",
       "      <td>12.29</td>\n",
       "      <td>700.42</td>\n",
       "      <td>C1</td>\n",
       "      <td>MORTGAGE</td>\n",
       "      <td>110000.0</td>\n",
       "      <td>Source Verified</td>\n",
       "      <td>1</td>\n",
       "      <td>debt_consolidation</td>\n",
       "      <td>...</td>\n",
       "      <td>43263.0</td>\n",
       "      <td>95.7</td>\n",
       "      <td>8.0</td>\n",
       "      <td>f</td>\n",
       "      <td>INDIVIDUAL</td>\n",
       "      <td>1.0</td>\n",
       "      <td>0.0</td>\n",
       "      <td>0114 Fowler Field Suite 028\\r\\nRachelborough, ...</td>\n",
       "      <td>05113</td>\n",
       "      <td>2006</td>\n",
       "    </tr>\n",
       "    <tr>\n",
       "      <th>396027</th>\n",
       "      <td>5000.0</td>\n",
       "      <td>36</td>\n",
       "      <td>9.99</td>\n",
       "      <td>161.32</td>\n",
       "      <td>B1</td>\n",
       "      <td>RENT</td>\n",
       "      <td>56500.0</td>\n",
       "      <td>Verified</td>\n",
       "      <td>1</td>\n",
       "      <td>debt_consolidation</td>\n",
       "      <td>...</td>\n",
       "      <td>32704.0</td>\n",
       "      <td>66.9</td>\n",
       "      <td>23.0</td>\n",
       "      <td>f</td>\n",
       "      <td>INDIVIDUAL</td>\n",
       "      <td>0.0</td>\n",
       "      <td>0.0</td>\n",
       "      <td>953 Matthew Points Suite 414\\r\\nReedfort, NY 7...</td>\n",
       "      <td>70466</td>\n",
       "      <td>1997</td>\n",
       "    </tr>\n",
       "    <tr>\n",
       "      <th>396028</th>\n",
       "      <td>21000.0</td>\n",
       "      <td>60</td>\n",
       "      <td>15.31</td>\n",
       "      <td>503.02</td>\n",
       "      <td>C2</td>\n",
       "      <td>MORTGAGE</td>\n",
       "      <td>64000.0</td>\n",
       "      <td>Verified</td>\n",
       "      <td>1</td>\n",
       "      <td>debt_consolidation</td>\n",
       "      <td>...</td>\n",
       "      <td>15704.0</td>\n",
       "      <td>53.8</td>\n",
       "      <td>20.0</td>\n",
       "      <td>f</td>\n",
       "      <td>INDIVIDUAL</td>\n",
       "      <td>5.0</td>\n",
       "      <td>0.0</td>\n",
       "      <td>7843 Blake Freeway Apt. 229\\r\\nNew Michael, FL...</td>\n",
       "      <td>29597</td>\n",
       "      <td>1990</td>\n",
       "    </tr>\n",
       "  </tbody>\n",
       "</table>\n",
       "<p>356270 rows × 24 columns</p>\n",
       "</div>"
      ],
      "text/plain": [
       "        loan_amnt  term  int_rate  installment sub_grade home_ownership  \\\n",
       "0         10000.0    36     11.44       329.48        B4           RENT   \n",
       "1          8000.0    36     11.99       265.68        B5       MORTGAGE   \n",
       "2         15600.0    36     10.49       506.97        B3           RENT   \n",
       "3          7200.0    36      6.49       220.65        A2           RENT   \n",
       "4         24375.0    60     17.27       609.33        C5       MORTGAGE   \n",
       "...           ...   ...       ...          ...       ...            ...   \n",
       "396024     6000.0    36     13.11       202.49        B4           RENT   \n",
       "396025    10000.0    60     10.99       217.38        B4           RENT   \n",
       "396026    21000.0    36     12.29       700.42        C1       MORTGAGE   \n",
       "396027     5000.0    36      9.99       161.32        B1           RENT   \n",
       "396028    21000.0    60     15.31       503.02        C2       MORTGAGE   \n",
       "\n",
       "        annual_inc verification_status  loan_status             purpose  ...  \\\n",
       "0         117000.0        Not Verified            1            vacation  ...   \n",
       "1          65000.0        Not Verified            1  debt_consolidation  ...   \n",
       "2          43057.0     Source Verified            1         credit_card  ...   \n",
       "3          54000.0        Not Verified            1         credit_card  ...   \n",
       "4          55000.0            Verified            0         credit_card  ...   \n",
       "...            ...                 ...          ...                 ...  ...   \n",
       "396024     64000.0        Not Verified            1  debt_consolidation  ...   \n",
       "396025     40000.0     Source Verified            1  debt_consolidation  ...   \n",
       "396026    110000.0     Source Verified            1  debt_consolidation  ...   \n",
       "396027     56500.0            Verified            1  debt_consolidation  ...   \n",
       "396028     64000.0            Verified            1  debt_consolidation  ...   \n",
       "\n",
       "        revol_bal revol_util  total_acc  initial_list_status  \\\n",
       "0         36369.0       41.8       25.0                    w   \n",
       "1         20131.0       53.3       27.0                    f   \n",
       "2         11987.0       92.2       26.0                    f   \n",
       "3          5472.0       21.5       13.0                    f   \n",
       "4         24584.0       69.8       43.0                    f   \n",
       "...           ...        ...        ...                  ...   \n",
       "396024    11456.0       97.1        9.0                    w   \n",
       "396025     1990.0       34.3       23.0                    w   \n",
       "396026    43263.0       95.7        8.0                    f   \n",
       "396027    32704.0       66.9       23.0                    f   \n",
       "396028    15704.0       53.8       20.0                    f   \n",
       "\n",
       "        application_type  mort_acc  pub_rec_bankruptcies  \\\n",
       "0             INDIVIDUAL       0.0                   0.0   \n",
       "1             INDIVIDUAL       3.0                   0.0   \n",
       "2             INDIVIDUAL       0.0                   0.0   \n",
       "3             INDIVIDUAL       0.0                   0.0   \n",
       "4             INDIVIDUAL       1.0                   0.0   \n",
       "...                  ...       ...                   ...   \n",
       "396024        INDIVIDUAL       0.0                   0.0   \n",
       "396025        INDIVIDUAL       0.0                   0.0   \n",
       "396026        INDIVIDUAL       1.0                   0.0   \n",
       "396027        INDIVIDUAL       0.0                   0.0   \n",
       "396028        INDIVIDUAL       5.0                   0.0   \n",
       "\n",
       "                                                  address zip_code  \\\n",
       "0          0174 Michelle Gateway\\r\\nMendozaberg, OK 22690    22690   \n",
       "1       1076 Carney Fort Apt. 347\\r\\nLoganmouth, SD 05113    05113   \n",
       "2       87025 Mark Dale Apt. 269\\r\\nNew Sabrina, WV 05113    05113   \n",
       "3                 823 Reid Ford\\r\\nDelacruzside, MA 00813    00813   \n",
       "4                  679 Luna Roads\\r\\nGreggshire, VA 11650    11650   \n",
       "...                                                   ...      ...   \n",
       "396024  514 Cynthia Park Apt. 402\\r\\nWest Williamside,...    05113   \n",
       "396025   12951 Williams Crossing\\r\\nJohnnyville, DC 30723    30723   \n",
       "396026  0114 Fowler Field Suite 028\\r\\nRachelborough, ...    05113   \n",
       "396027  953 Matthew Points Suite 414\\r\\nReedfort, NY 7...    70466   \n",
       "396028  7843 Blake Freeway Apt. 229\\r\\nNew Michael, FL...    29597   \n",
       "\n",
       "        earliest_cr_year  \n",
       "0                   1990  \n",
       "1                   2004  \n",
       "2                   2007  \n",
       "3                   2006  \n",
       "4                   1999  \n",
       "...                  ...  \n",
       "396024              1991  \n",
       "396025              2004  \n",
       "396026              2006  \n",
       "396027              1997  \n",
       "396028              1990  \n",
       "\n",
       "[356270 rows x 24 columns]"
      ]
     },
     "execution_count": 28,
     "metadata": {},
     "output_type": "execute_result"
    }
   ],
   "source": [
    "loan"
   ]
  },
  {
   "cell_type": "code",
   "execution_count": 29,
   "id": "8f69a63c",
   "metadata": {},
   "outputs": [
    {
     "data": {
      "text/plain": [
       "(356270, 24)"
      ]
     },
     "execution_count": 29,
     "metadata": {},
     "output_type": "execute_result"
    }
   ],
   "source": [
    "loan.shape"
   ]
  },
  {
   "cell_type": "code",
   "execution_count": 30,
   "id": "a1609a87",
   "metadata": {},
   "outputs": [
    {
     "name": "stdout",
     "output_type": "stream",
     "text": [
      "<class 'pandas.core.frame.DataFrame'>\n",
      "Int64Index: 356270 entries, 0 to 396028\n",
      "Data columns (total 24 columns):\n",
      " #   Column                Non-Null Count   Dtype  \n",
      "---  ------                --------------   -----  \n",
      " 0   loan_amnt             356270 non-null  float64\n",
      " 1   term                  356270 non-null  int64  \n",
      " 2   int_rate              356270 non-null  float64\n",
      " 3   installment           356270 non-null  float64\n",
      " 4   sub_grade             356270 non-null  object \n",
      " 5   home_ownership        356270 non-null  object \n",
      " 6   annual_inc            356270 non-null  float64\n",
      " 7   verification_status   356270 non-null  object \n",
      " 8   loan_status           356270 non-null  int64  \n",
      " 9   purpose               356270 non-null  object \n",
      " 10  dti                   356270 non-null  float64\n",
      " 11  earliest_cr_line      356270 non-null  object \n",
      " 12  open_acc              356270 non-null  float64\n",
      " 13  pub_rec               356270 non-null  float64\n",
      " 14  revol_bal             356270 non-null  float64\n",
      " 15  revol_util            356270 non-null  float64\n",
      " 16  total_acc             356270 non-null  float64\n",
      " 17  initial_list_status   356270 non-null  object \n",
      " 18  application_type      356270 non-null  object \n",
      " 19  mort_acc              356270 non-null  float64\n",
      " 20  pub_rec_bankruptcies  356270 non-null  float64\n",
      " 21  address               356270 non-null  object \n",
      " 22  zip_code              356270 non-null  object \n",
      " 23  earliest_cr_year      356270 non-null  int64  \n",
      "dtypes: float64(12), int64(3), object(9)\n",
      "memory usage: 68.0+ MB\n"
     ]
    }
   ],
   "source": [
    "loan.info()"
   ]
  },
  {
   "cell_type": "markdown",
   "id": "3810e9c7",
   "metadata": {},
   "source": [
    "### Separating Features and Target Variables"
   ]
  },
  {
   "cell_type": "code",
   "execution_count": 31,
   "id": "e9513945",
   "metadata": {},
   "outputs": [],
   "source": [
    "y = loan['loan_status']"
   ]
  },
  {
   "cell_type": "code",
   "execution_count": 32,
   "id": "bbac828a",
   "metadata": {},
   "outputs": [
    {
     "data": {
      "text/plain": [
       "1    284519\n",
       "0     71751\n",
       "Name: loan_status, dtype: int64"
      ]
     },
     "execution_count": 32,
     "metadata": {},
     "output_type": "execute_result"
    }
   ],
   "source": [
    "y.value_counts()"
   ]
  },
  {
   "cell_type": "code",
   "execution_count": 33,
   "id": "d51ff66c",
   "metadata": {},
   "outputs": [],
   "source": [
    "X = loan.drop(['loan_status'], axis=1)"
   ]
  },
  {
   "cell_type": "code",
   "execution_count": 34,
   "id": "9d46c43f",
   "metadata": {},
   "outputs": [
    {
     "data": {
      "text/html": [
       "<div>\n",
       "<style scoped>\n",
       "    .dataframe tbody tr th:only-of-type {\n",
       "        vertical-align: middle;\n",
       "    }\n",
       "\n",
       "    .dataframe tbody tr th {\n",
       "        vertical-align: top;\n",
       "    }\n",
       "\n",
       "    .dataframe thead th {\n",
       "        text-align: right;\n",
       "    }\n",
       "</style>\n",
       "<table border=\"1\" class=\"dataframe\">\n",
       "  <thead>\n",
       "    <tr style=\"text-align: right;\">\n",
       "      <th></th>\n",
       "      <th>loan_amnt</th>\n",
       "      <th>term</th>\n",
       "      <th>int_rate</th>\n",
       "      <th>installment</th>\n",
       "      <th>sub_grade</th>\n",
       "      <th>home_ownership</th>\n",
       "      <th>annual_inc</th>\n",
       "      <th>verification_status</th>\n",
       "      <th>purpose</th>\n",
       "      <th>dti</th>\n",
       "      <th>...</th>\n",
       "      <th>revol_bal</th>\n",
       "      <th>revol_util</th>\n",
       "      <th>total_acc</th>\n",
       "      <th>initial_list_status</th>\n",
       "      <th>application_type</th>\n",
       "      <th>mort_acc</th>\n",
       "      <th>pub_rec_bankruptcies</th>\n",
       "      <th>address</th>\n",
       "      <th>zip_code</th>\n",
       "      <th>earliest_cr_year</th>\n",
       "    </tr>\n",
       "  </thead>\n",
       "  <tbody>\n",
       "    <tr>\n",
       "      <th>0</th>\n",
       "      <td>10000.0</td>\n",
       "      <td>36</td>\n",
       "      <td>11.44</td>\n",
       "      <td>329.48</td>\n",
       "      <td>B4</td>\n",
       "      <td>RENT</td>\n",
       "      <td>117000.0</td>\n",
       "      <td>Not Verified</td>\n",
       "      <td>vacation</td>\n",
       "      <td>26.24</td>\n",
       "      <td>...</td>\n",
       "      <td>36369.0</td>\n",
       "      <td>41.8</td>\n",
       "      <td>25.0</td>\n",
       "      <td>w</td>\n",
       "      <td>INDIVIDUAL</td>\n",
       "      <td>0.0</td>\n",
       "      <td>0.0</td>\n",
       "      <td>0174 Michelle Gateway\\r\\nMendozaberg, OK 22690</td>\n",
       "      <td>22690</td>\n",
       "      <td>1990</td>\n",
       "    </tr>\n",
       "    <tr>\n",
       "      <th>1</th>\n",
       "      <td>8000.0</td>\n",
       "      <td>36</td>\n",
       "      <td>11.99</td>\n",
       "      <td>265.68</td>\n",
       "      <td>B5</td>\n",
       "      <td>MORTGAGE</td>\n",
       "      <td>65000.0</td>\n",
       "      <td>Not Verified</td>\n",
       "      <td>debt_consolidation</td>\n",
       "      <td>22.05</td>\n",
       "      <td>...</td>\n",
       "      <td>20131.0</td>\n",
       "      <td>53.3</td>\n",
       "      <td>27.0</td>\n",
       "      <td>f</td>\n",
       "      <td>INDIVIDUAL</td>\n",
       "      <td>3.0</td>\n",
       "      <td>0.0</td>\n",
       "      <td>1076 Carney Fort Apt. 347\\r\\nLoganmouth, SD 05113</td>\n",
       "      <td>05113</td>\n",
       "      <td>2004</td>\n",
       "    </tr>\n",
       "    <tr>\n",
       "      <th>2</th>\n",
       "      <td>15600.0</td>\n",
       "      <td>36</td>\n",
       "      <td>10.49</td>\n",
       "      <td>506.97</td>\n",
       "      <td>B3</td>\n",
       "      <td>RENT</td>\n",
       "      <td>43057.0</td>\n",
       "      <td>Source Verified</td>\n",
       "      <td>credit_card</td>\n",
       "      <td>12.79</td>\n",
       "      <td>...</td>\n",
       "      <td>11987.0</td>\n",
       "      <td>92.2</td>\n",
       "      <td>26.0</td>\n",
       "      <td>f</td>\n",
       "      <td>INDIVIDUAL</td>\n",
       "      <td>0.0</td>\n",
       "      <td>0.0</td>\n",
       "      <td>87025 Mark Dale Apt. 269\\r\\nNew Sabrina, WV 05113</td>\n",
       "      <td>05113</td>\n",
       "      <td>2007</td>\n",
       "    </tr>\n",
       "    <tr>\n",
       "      <th>3</th>\n",
       "      <td>7200.0</td>\n",
       "      <td>36</td>\n",
       "      <td>6.49</td>\n",
       "      <td>220.65</td>\n",
       "      <td>A2</td>\n",
       "      <td>RENT</td>\n",
       "      <td>54000.0</td>\n",
       "      <td>Not Verified</td>\n",
       "      <td>credit_card</td>\n",
       "      <td>2.60</td>\n",
       "      <td>...</td>\n",
       "      <td>5472.0</td>\n",
       "      <td>21.5</td>\n",
       "      <td>13.0</td>\n",
       "      <td>f</td>\n",
       "      <td>INDIVIDUAL</td>\n",
       "      <td>0.0</td>\n",
       "      <td>0.0</td>\n",
       "      <td>823 Reid Ford\\r\\nDelacruzside, MA 00813</td>\n",
       "      <td>00813</td>\n",
       "      <td>2006</td>\n",
       "    </tr>\n",
       "    <tr>\n",
       "      <th>4</th>\n",
       "      <td>24375.0</td>\n",
       "      <td>60</td>\n",
       "      <td>17.27</td>\n",
       "      <td>609.33</td>\n",
       "      <td>C5</td>\n",
       "      <td>MORTGAGE</td>\n",
       "      <td>55000.0</td>\n",
       "      <td>Verified</td>\n",
       "      <td>credit_card</td>\n",
       "      <td>33.95</td>\n",
       "      <td>...</td>\n",
       "      <td>24584.0</td>\n",
       "      <td>69.8</td>\n",
       "      <td>43.0</td>\n",
       "      <td>f</td>\n",
       "      <td>INDIVIDUAL</td>\n",
       "      <td>1.0</td>\n",
       "      <td>0.0</td>\n",
       "      <td>679 Luna Roads\\r\\nGreggshire, VA 11650</td>\n",
       "      <td>11650</td>\n",
       "      <td>1999</td>\n",
       "    </tr>\n",
       "  </tbody>\n",
       "</table>\n",
       "<p>5 rows × 23 columns</p>\n",
       "</div>"
      ],
      "text/plain": [
       "   loan_amnt  term  int_rate  installment sub_grade home_ownership  \\\n",
       "0    10000.0    36     11.44       329.48        B4           RENT   \n",
       "1     8000.0    36     11.99       265.68        B5       MORTGAGE   \n",
       "2    15600.0    36     10.49       506.97        B3           RENT   \n",
       "3     7200.0    36      6.49       220.65        A2           RENT   \n",
       "4    24375.0    60     17.27       609.33        C5       MORTGAGE   \n",
       "\n",
       "   annual_inc verification_status             purpose    dti  ... revol_bal  \\\n",
       "0    117000.0        Not Verified            vacation  26.24  ...   36369.0   \n",
       "1     65000.0        Not Verified  debt_consolidation  22.05  ...   20131.0   \n",
       "2     43057.0     Source Verified         credit_card  12.79  ...   11987.0   \n",
       "3     54000.0        Not Verified         credit_card   2.60  ...    5472.0   \n",
       "4     55000.0            Verified         credit_card  33.95  ...   24584.0   \n",
       "\n",
       "   revol_util  total_acc  initial_list_status  application_type  mort_acc  \\\n",
       "0        41.8       25.0                    w        INDIVIDUAL       0.0   \n",
       "1        53.3       27.0                    f        INDIVIDUAL       3.0   \n",
       "2        92.2       26.0                    f        INDIVIDUAL       0.0   \n",
       "3        21.5       13.0                    f        INDIVIDUAL       0.0   \n",
       "4        69.8       43.0                    f        INDIVIDUAL       1.0   \n",
       "\n",
       "  pub_rec_bankruptcies                                            address  \\\n",
       "0                  0.0     0174 Michelle Gateway\\r\\nMendozaberg, OK 22690   \n",
       "1                  0.0  1076 Carney Fort Apt. 347\\r\\nLoganmouth, SD 05113   \n",
       "2                  0.0  87025 Mark Dale Apt. 269\\r\\nNew Sabrina, WV 05113   \n",
       "3                  0.0            823 Reid Ford\\r\\nDelacruzside, MA 00813   \n",
       "4                  0.0             679 Luna Roads\\r\\nGreggshire, VA 11650   \n",
       "\n",
       "   zip_code  earliest_cr_year  \n",
       "0     22690              1990  \n",
       "1     05113              2004  \n",
       "2     05113              2007  \n",
       "3     00813              2006  \n",
       "4     11650              1999  \n",
       "\n",
       "[5 rows x 23 columns]"
      ]
     },
     "execution_count": 34,
     "metadata": {},
     "output_type": "execute_result"
    }
   ],
   "source": [
    "X.head()"
   ]
  },
  {
   "cell_type": "code",
   "execution_count": 35,
   "id": "ee0e8c18",
   "metadata": {},
   "outputs": [],
   "source": [
    "X = X.drop(['address', 'earliest_cr_line'], axis=1)"
   ]
  },
  {
   "cell_type": "markdown",
   "id": "41d26c33",
   "metadata": {},
   "source": [
    "### Getting Dummy Variables"
   ]
  },
  {
   "cell_type": "code",
   "execution_count": 36,
   "id": "a9218a57",
   "metadata": {},
   "outputs": [],
   "source": [
    "label_enc = LabelEncoder()\n",
    "X['sub_grade'] = label_enc.fit_transform(X['sub_grade'])\n",
    "X['home_ownership'] = label_enc.fit_transform(X['home_ownership'])\n",
    "X['verification_status'] = label_enc.fit_transform(X['verification_status'])\n",
    "X['purpose'] = label_enc.fit_transform(X['purpose'])\n",
    "X['initial_list_status'] = label_enc.fit_transform(X['initial_list_status'])\n",
    "X['application_type'] = label_enc.fit_transform(X['application_type'])"
   ]
  },
  {
   "cell_type": "code",
   "execution_count": 37,
   "id": "532368c4",
   "metadata": {},
   "outputs": [
    {
     "data": {
      "text/plain": [
       "(356270, 21)"
      ]
     },
     "execution_count": 37,
     "metadata": {},
     "output_type": "execute_result"
    }
   ],
   "source": [
    "X.shape"
   ]
  },
  {
   "cell_type": "code",
   "execution_count": 38,
   "id": "4bdbd223",
   "metadata": {},
   "outputs": [
    {
     "data": {
      "text/html": [
       "<div>\n",
       "<style scoped>\n",
       "    .dataframe tbody tr th:only-of-type {\n",
       "        vertical-align: middle;\n",
       "    }\n",
       "\n",
       "    .dataframe tbody tr th {\n",
       "        vertical-align: top;\n",
       "    }\n",
       "\n",
       "    .dataframe thead th {\n",
       "        text-align: right;\n",
       "    }\n",
       "</style>\n",
       "<table border=\"1\" class=\"dataframe\">\n",
       "  <thead>\n",
       "    <tr style=\"text-align: right;\">\n",
       "      <th></th>\n",
       "      <th>loan_amnt</th>\n",
       "      <th>term</th>\n",
       "      <th>int_rate</th>\n",
       "      <th>installment</th>\n",
       "      <th>sub_grade</th>\n",
       "      <th>home_ownership</th>\n",
       "      <th>annual_inc</th>\n",
       "      <th>verification_status</th>\n",
       "      <th>purpose</th>\n",
       "      <th>dti</th>\n",
       "      <th>...</th>\n",
       "      <th>pub_rec</th>\n",
       "      <th>revol_bal</th>\n",
       "      <th>revol_util</th>\n",
       "      <th>total_acc</th>\n",
       "      <th>initial_list_status</th>\n",
       "      <th>application_type</th>\n",
       "      <th>mort_acc</th>\n",
       "      <th>pub_rec_bankruptcies</th>\n",
       "      <th>zip_code</th>\n",
       "      <th>earliest_cr_year</th>\n",
       "    </tr>\n",
       "  </thead>\n",
       "  <tbody>\n",
       "    <tr>\n",
       "      <th>0</th>\n",
       "      <td>10000.0</td>\n",
       "      <td>36</td>\n",
       "      <td>11.44</td>\n",
       "      <td>329.48</td>\n",
       "      <td>8</td>\n",
       "      <td>3</td>\n",
       "      <td>117000.0</td>\n",
       "      <td>0</td>\n",
       "      <td>12</td>\n",
       "      <td>26.24</td>\n",
       "      <td>...</td>\n",
       "      <td>0.0</td>\n",
       "      <td>36369.0</td>\n",
       "      <td>41.8</td>\n",
       "      <td>25.0</td>\n",
       "      <td>1</td>\n",
       "      <td>1</td>\n",
       "      <td>0.0</td>\n",
       "      <td>0.0</td>\n",
       "      <td>22690</td>\n",
       "      <td>1990</td>\n",
       "    </tr>\n",
       "    <tr>\n",
       "      <th>1</th>\n",
       "      <td>8000.0</td>\n",
       "      <td>36</td>\n",
       "      <td>11.99</td>\n",
       "      <td>265.68</td>\n",
       "      <td>9</td>\n",
       "      <td>0</td>\n",
       "      <td>65000.0</td>\n",
       "      <td>0</td>\n",
       "      <td>2</td>\n",
       "      <td>22.05</td>\n",
       "      <td>...</td>\n",
       "      <td>0.0</td>\n",
       "      <td>20131.0</td>\n",
       "      <td>53.3</td>\n",
       "      <td>27.0</td>\n",
       "      <td>0</td>\n",
       "      <td>1</td>\n",
       "      <td>3.0</td>\n",
       "      <td>0.0</td>\n",
       "      <td>05113</td>\n",
       "      <td>2004</td>\n",
       "    </tr>\n",
       "    <tr>\n",
       "      <th>2</th>\n",
       "      <td>15600.0</td>\n",
       "      <td>36</td>\n",
       "      <td>10.49</td>\n",
       "      <td>506.97</td>\n",
       "      <td>7</td>\n",
       "      <td>3</td>\n",
       "      <td>43057.0</td>\n",
       "      <td>1</td>\n",
       "      <td>1</td>\n",
       "      <td>12.79</td>\n",
       "      <td>...</td>\n",
       "      <td>0.0</td>\n",
       "      <td>11987.0</td>\n",
       "      <td>92.2</td>\n",
       "      <td>26.0</td>\n",
       "      <td>0</td>\n",
       "      <td>1</td>\n",
       "      <td>0.0</td>\n",
       "      <td>0.0</td>\n",
       "      <td>05113</td>\n",
       "      <td>2007</td>\n",
       "    </tr>\n",
       "    <tr>\n",
       "      <th>3</th>\n",
       "      <td>7200.0</td>\n",
       "      <td>36</td>\n",
       "      <td>6.49</td>\n",
       "      <td>220.65</td>\n",
       "      <td>1</td>\n",
       "      <td>3</td>\n",
       "      <td>54000.0</td>\n",
       "      <td>0</td>\n",
       "      <td>1</td>\n",
       "      <td>2.60</td>\n",
       "      <td>...</td>\n",
       "      <td>0.0</td>\n",
       "      <td>5472.0</td>\n",
       "      <td>21.5</td>\n",
       "      <td>13.0</td>\n",
       "      <td>0</td>\n",
       "      <td>1</td>\n",
       "      <td>0.0</td>\n",
       "      <td>0.0</td>\n",
       "      <td>00813</td>\n",
       "      <td>2006</td>\n",
       "    </tr>\n",
       "    <tr>\n",
       "      <th>4</th>\n",
       "      <td>24375.0</td>\n",
       "      <td>60</td>\n",
       "      <td>17.27</td>\n",
       "      <td>609.33</td>\n",
       "      <td>14</td>\n",
       "      <td>0</td>\n",
       "      <td>55000.0</td>\n",
       "      <td>2</td>\n",
       "      <td>1</td>\n",
       "      <td>33.95</td>\n",
       "      <td>...</td>\n",
       "      <td>0.0</td>\n",
       "      <td>24584.0</td>\n",
       "      <td>69.8</td>\n",
       "      <td>43.0</td>\n",
       "      <td>0</td>\n",
       "      <td>1</td>\n",
       "      <td>1.0</td>\n",
       "      <td>0.0</td>\n",
       "      <td>11650</td>\n",
       "      <td>1999</td>\n",
       "    </tr>\n",
       "    <tr>\n",
       "      <th>...</th>\n",
       "      <td>...</td>\n",
       "      <td>...</td>\n",
       "      <td>...</td>\n",
       "      <td>...</td>\n",
       "      <td>...</td>\n",
       "      <td>...</td>\n",
       "      <td>...</td>\n",
       "      <td>...</td>\n",
       "      <td>...</td>\n",
       "      <td>...</td>\n",
       "      <td>...</td>\n",
       "      <td>...</td>\n",
       "      <td>...</td>\n",
       "      <td>...</td>\n",
       "      <td>...</td>\n",
       "      <td>...</td>\n",
       "      <td>...</td>\n",
       "      <td>...</td>\n",
       "      <td>...</td>\n",
       "      <td>...</td>\n",
       "      <td>...</td>\n",
       "    </tr>\n",
       "    <tr>\n",
       "      <th>396024</th>\n",
       "      <td>6000.0</td>\n",
       "      <td>36</td>\n",
       "      <td>13.11</td>\n",
       "      <td>202.49</td>\n",
       "      <td>8</td>\n",
       "      <td>3</td>\n",
       "      <td>64000.0</td>\n",
       "      <td>0</td>\n",
       "      <td>2</td>\n",
       "      <td>10.81</td>\n",
       "      <td>...</td>\n",
       "      <td>0.0</td>\n",
       "      <td>11456.0</td>\n",
       "      <td>97.1</td>\n",
       "      <td>9.0</td>\n",
       "      <td>1</td>\n",
       "      <td>1</td>\n",
       "      <td>0.0</td>\n",
       "      <td>0.0</td>\n",
       "      <td>05113</td>\n",
       "      <td>1991</td>\n",
       "    </tr>\n",
       "    <tr>\n",
       "      <th>396025</th>\n",
       "      <td>10000.0</td>\n",
       "      <td>60</td>\n",
       "      <td>10.99</td>\n",
       "      <td>217.38</td>\n",
       "      <td>8</td>\n",
       "      <td>3</td>\n",
       "      <td>40000.0</td>\n",
       "      <td>1</td>\n",
       "      <td>2</td>\n",
       "      <td>15.63</td>\n",
       "      <td>...</td>\n",
       "      <td>0.0</td>\n",
       "      <td>1990.0</td>\n",
       "      <td>34.3</td>\n",
       "      <td>23.0</td>\n",
       "      <td>1</td>\n",
       "      <td>1</td>\n",
       "      <td>0.0</td>\n",
       "      <td>0.0</td>\n",
       "      <td>30723</td>\n",
       "      <td>2004</td>\n",
       "    </tr>\n",
       "    <tr>\n",
       "      <th>396026</th>\n",
       "      <td>21000.0</td>\n",
       "      <td>36</td>\n",
       "      <td>12.29</td>\n",
       "      <td>700.42</td>\n",
       "      <td>10</td>\n",
       "      <td>0</td>\n",
       "      <td>110000.0</td>\n",
       "      <td>1</td>\n",
       "      <td>2</td>\n",
       "      <td>21.45</td>\n",
       "      <td>...</td>\n",
       "      <td>0.0</td>\n",
       "      <td>43263.0</td>\n",
       "      <td>95.7</td>\n",
       "      <td>8.0</td>\n",
       "      <td>0</td>\n",
       "      <td>1</td>\n",
       "      <td>1.0</td>\n",
       "      <td>0.0</td>\n",
       "      <td>05113</td>\n",
       "      <td>2006</td>\n",
       "    </tr>\n",
       "    <tr>\n",
       "      <th>396027</th>\n",
       "      <td>5000.0</td>\n",
       "      <td>36</td>\n",
       "      <td>9.99</td>\n",
       "      <td>161.32</td>\n",
       "      <td>5</td>\n",
       "      <td>3</td>\n",
       "      <td>56500.0</td>\n",
       "      <td>2</td>\n",
       "      <td>2</td>\n",
       "      <td>17.56</td>\n",
       "      <td>...</td>\n",
       "      <td>0.0</td>\n",
       "      <td>32704.0</td>\n",
       "      <td>66.9</td>\n",
       "      <td>23.0</td>\n",
       "      <td>0</td>\n",
       "      <td>1</td>\n",
       "      <td>0.0</td>\n",
       "      <td>0.0</td>\n",
       "      <td>70466</td>\n",
       "      <td>1997</td>\n",
       "    </tr>\n",
       "    <tr>\n",
       "      <th>396028</th>\n",
       "      <td>21000.0</td>\n",
       "      <td>60</td>\n",
       "      <td>15.31</td>\n",
       "      <td>503.02</td>\n",
       "      <td>11</td>\n",
       "      <td>0</td>\n",
       "      <td>64000.0</td>\n",
       "      <td>2</td>\n",
       "      <td>2</td>\n",
       "      <td>15.88</td>\n",
       "      <td>...</td>\n",
       "      <td>0.0</td>\n",
       "      <td>15704.0</td>\n",
       "      <td>53.8</td>\n",
       "      <td>20.0</td>\n",
       "      <td>0</td>\n",
       "      <td>1</td>\n",
       "      <td>5.0</td>\n",
       "      <td>0.0</td>\n",
       "      <td>29597</td>\n",
       "      <td>1990</td>\n",
       "    </tr>\n",
       "  </tbody>\n",
       "</table>\n",
       "<p>356270 rows × 21 columns</p>\n",
       "</div>"
      ],
      "text/plain": [
       "        loan_amnt  term  int_rate  installment  sub_grade  home_ownership  \\\n",
       "0         10000.0    36     11.44       329.48          8               3   \n",
       "1          8000.0    36     11.99       265.68          9               0   \n",
       "2         15600.0    36     10.49       506.97          7               3   \n",
       "3          7200.0    36      6.49       220.65          1               3   \n",
       "4         24375.0    60     17.27       609.33         14               0   \n",
       "...           ...   ...       ...          ...        ...             ...   \n",
       "396024     6000.0    36     13.11       202.49          8               3   \n",
       "396025    10000.0    60     10.99       217.38          8               3   \n",
       "396026    21000.0    36     12.29       700.42         10               0   \n",
       "396027     5000.0    36      9.99       161.32          5               3   \n",
       "396028    21000.0    60     15.31       503.02         11               0   \n",
       "\n",
       "        annual_inc  verification_status  purpose    dti  ...  pub_rec  \\\n",
       "0         117000.0                    0       12  26.24  ...      0.0   \n",
       "1          65000.0                    0        2  22.05  ...      0.0   \n",
       "2          43057.0                    1        1  12.79  ...      0.0   \n",
       "3          54000.0                    0        1   2.60  ...      0.0   \n",
       "4          55000.0                    2        1  33.95  ...      0.0   \n",
       "...            ...                  ...      ...    ...  ...      ...   \n",
       "396024     64000.0                    0        2  10.81  ...      0.0   \n",
       "396025     40000.0                    1        2  15.63  ...      0.0   \n",
       "396026    110000.0                    1        2  21.45  ...      0.0   \n",
       "396027     56500.0                    2        2  17.56  ...      0.0   \n",
       "396028     64000.0                    2        2  15.88  ...      0.0   \n",
       "\n",
       "        revol_bal  revol_util  total_acc  initial_list_status  \\\n",
       "0         36369.0        41.8       25.0                    1   \n",
       "1         20131.0        53.3       27.0                    0   \n",
       "2         11987.0        92.2       26.0                    0   \n",
       "3          5472.0        21.5       13.0                    0   \n",
       "4         24584.0        69.8       43.0                    0   \n",
       "...           ...         ...        ...                  ...   \n",
       "396024    11456.0        97.1        9.0                    1   \n",
       "396025     1990.0        34.3       23.0                    1   \n",
       "396026    43263.0        95.7        8.0                    0   \n",
       "396027    32704.0        66.9       23.0                    0   \n",
       "396028    15704.0        53.8       20.0                    0   \n",
       "\n",
       "        application_type  mort_acc  pub_rec_bankruptcies  zip_code  \\\n",
       "0                      1       0.0                   0.0     22690   \n",
       "1                      1       3.0                   0.0     05113   \n",
       "2                      1       0.0                   0.0     05113   \n",
       "3                      1       0.0                   0.0     00813   \n",
       "4                      1       1.0                   0.0     11650   \n",
       "...                  ...       ...                   ...       ...   \n",
       "396024                 1       0.0                   0.0     05113   \n",
       "396025                 1       0.0                   0.0     30723   \n",
       "396026                 1       1.0                   0.0     05113   \n",
       "396027                 1       0.0                   0.0     70466   \n",
       "396028                 1       5.0                   0.0     29597   \n",
       "\n",
       "       earliest_cr_year  \n",
       "0                  1990  \n",
       "1                  2004  \n",
       "2                  2007  \n",
       "3                  2006  \n",
       "4                  1999  \n",
       "...                 ...  \n",
       "396024             1991  \n",
       "396025             2004  \n",
       "396026             2006  \n",
       "396027             1997  \n",
       "396028             1990  \n",
       "\n",
       "[356270 rows x 21 columns]"
      ]
     },
     "execution_count": 38,
     "metadata": {},
     "output_type": "execute_result"
    }
   ],
   "source": [
    "X"
   ]
  },
  {
   "cell_type": "code",
   "execution_count": 39,
   "id": "6c19527f",
   "metadata": {},
   "outputs": [
    {
     "data": {
      "text/plain": [
       "Index(['loan_amnt', 'term', 'int_rate', 'installment', 'sub_grade',\n",
       "       'home_ownership', 'annual_inc', 'verification_status', 'purpose', 'dti',\n",
       "       'open_acc', 'pub_rec', 'revol_bal', 'revol_util', 'total_acc',\n",
       "       'initial_list_status', 'application_type', 'mort_acc',\n",
       "       'pub_rec_bankruptcies', 'zip_code', 'earliest_cr_year'],\n",
       "      dtype='object')"
      ]
     },
     "execution_count": 39,
     "metadata": {},
     "output_type": "execute_result"
    }
   ],
   "source": [
    "X.columns"
   ]
  },
  {
   "cell_type": "markdown",
   "id": "5f5f6da3",
   "metadata": {},
   "source": [
    "### Splitting Data for Training and Testing"
   ]
  },
  {
   "cell_type": "code",
   "execution_count": 40,
   "id": "f7831fdb",
   "metadata": {},
   "outputs": [
    {
     "data": {
      "text/plain": [
       "((285016, 22), (71254, 22), (285016,), (71254,))"
      ]
     },
     "execution_count": 40,
     "metadata": {},
     "output_type": "execute_result"
    }
   ],
   "source": [
    "X_scaled = sm.add_constant(X)\n",
    "X_train, X_test, y_train, y_test = train_test_split(X_scaled, y, test_size=0.2, random_state=10)\n",
    "X_train.shape, X_test.shape, y_train.shape, y_test.shape"
   ]
  },
  {
   "cell_type": "markdown",
   "id": "67c32062",
   "metadata": {},
   "source": [
    "### Building the Decision Tree Model for First Iteration"
   ]
  },
  {
   "cell_type": "code",
   "execution_count": 41,
   "id": "2fae8dec",
   "metadata": {},
   "outputs": [],
   "source": [
    "tree_1 = DecisionTreeClassifier(max_depth=5)\n",
    "\n",
    "tree_1 = tree_1.fit(X_train, y_train)"
   ]
  },
  {
   "cell_type": "markdown",
   "id": "bcda2524",
   "metadata": {},
   "source": [
    "### Prediction using the model:"
   ]
  },
  {
   "cell_type": "code",
   "execution_count": 42,
   "id": "3ace29c4",
   "metadata": {},
   "outputs": [
    {
     "data": {
      "text/plain": [
       "array([1, 1, 1, 1, 0, 1, 0, 1, 1, 1, 1], dtype=int64)"
      ]
     },
     "execution_count": 42,
     "metadata": {},
     "output_type": "execute_result"
    }
   ],
   "source": [
    "y_pred = tree_1.predict(X_test)\n",
    "\n",
    "y_pred[0:11]"
   ]
  },
  {
   "cell_type": "code",
   "execution_count": 43,
   "id": "126083ab",
   "metadata": {},
   "outputs": [
    {
     "data": {
      "text/plain": [
       "372463    1\n",
       "13687     0\n",
       "117889    1\n",
       "364824    1\n",
       "228747    0\n",
       "388978    1\n",
       "153513    0\n",
       "45477     0\n",
       "247875    1\n",
       "112175    1\n",
       "316546    1\n",
       "Name: loan_status, dtype: int64"
      ]
     },
     "execution_count": 43,
     "metadata": {},
     "output_type": "execute_result"
    }
   ],
   "source": [
    "y_test[0:11]"
   ]
  },
  {
   "cell_type": "markdown",
   "id": "c5d121e0",
   "metadata": {},
   "source": [
    "### Plotting the decision tree:"
   ]
  },
  {
   "cell_type": "code",
   "execution_count": 44,
   "id": "2d96552f",
   "metadata": {},
   "outputs": [
    {
     "data": {
      "image/png": "[encoded data removed]",
      "text/plain": [
       "<Figure size 432x288 with 1 Axes>"
      ]
     },
     "metadata": {
      "needs_background": "light"
     },
     "output_type": "display_data"
    }
   ],
   "source": [
    "tree.plot_tree(tree_1, filled=True);"
   ]
  },
  {
   "cell_type": "markdown",
   "id": "29cd8b56",
   "metadata": {},
   "source": [
    "### Performance Metrics"
   ]
  },
  {
   "cell_type": "code",
   "execution_count": 45,
   "id": "0d87c68f",
   "metadata": {},
   "outputs": [
    {
     "name": "stdout",
     "output_type": "stream",
     "text": [
      "Classification report of tree_1:\n",
      "               precision    recall  f1-score   support\n",
      "\n",
      "           0       1.00      0.42      0.59     14311\n",
      "           1       0.87      1.00      0.93     56943\n",
      "\n",
      "    accuracy                           0.88     71254\n",
      "   macro avg       0.94      0.71      0.76     71254\n",
      "weighted avg       0.90      0.88      0.86     71254\n",
      "\n"
     ]
    }
   ],
   "source": [
    "tree_1_report = classification_report(y_test, y_pred)\n",
    "\n",
    "print('Classification report of tree_1:\\n', tree_1_report)"
   ]
  },
  {
   "cell_type": "code",
   "execution_count": 46,
   "id": "320c7a04",
   "metadata": {},
   "outputs": [
    {
     "data": {
      "image/png": "[encoded data removed]",
      "text/plain": [
       "<Figure size 432x288 with 2 Axes>"
      ]
     },
     "metadata": {
      "needs_background": "light"
     },
     "output_type": "display_data"
    }
   ],
   "source": [
    "tree_1_cm = confusion_matrix(y_test, y_pred)\n",
    "\n",
    "sns.heatmap(tree_1_cm, annot=True, fmt='0.0f');"
   ]
  },
  {
   "cell_type": "code",
   "execution_count": 47,
   "id": "6a21a4a7",
   "metadata": {},
   "outputs": [],
   "source": [
    "pred_df = pd.DataFrame({'Actual_Class':y_test, 'Predicted_Prob':y_pred})"
   ]
  },
  {
   "cell_type": "code",
   "execution_count": 48,
   "id": "9e739b0d",
   "metadata": {},
   "outputs": [],
   "source": [
    "pred_df['Predicted_Class'] = pred_df['Predicted_Prob'].map(lambda x: 1 if x>0.5 else 0)"
   ]
  },
  {
   "cell_type": "code",
   "execution_count": 49,
   "id": "c2637cd5",
   "metadata": {},
   "outputs": [],
   "source": [
    "fpr, tpr, threshold = roc_curve(pred_df['Actual_Class'], pred_df['Predicted_Prob'])"
   ]
  },
  {
   "cell_type": "code",
   "execution_count": 50,
   "id": "07c428c4",
   "metadata": {},
   "outputs": [
    {
     "name": "stdout",
     "output_type": "stream",
     "text": [
      "ROC AUC score: 0.7113758647194466\n"
     ]
    },
    {
     "data": {
      "image/png": "[encoded data removed]",
      "text/plain": [
       "<Figure size 432x288 with 1 Axes>"
      ]
     },
     "metadata": {
      "needs_background": "light"
     },
     "output_type": "display_data"
    }
   ],
   "source": [
    "plt.plot(fpr, tpr);\n",
    "plt.plot([0,1], [0,1], color='r');\n",
    "plt.xlabel('FPR');\n",
    "plt.ylabel('TPR');\n",
    "\n",
    "plt.title('ROC Curve');\n",
    "\n",
    "score = roc_auc_score(pred_df['Actual_Class'], pred_df['Predicted_Prob'])\n",
    "\n",
    "print('ROC AUC score:', score)"
   ]
  },
  {
   "cell_type": "markdown",
   "id": "5c27b2d8",
   "metadata": {},
   "source": [
    "### Modifying the model with increased max_depth: tree_2"
   ]
  },
  {
   "cell_type": "code",
   "execution_count": 51,
   "id": "6891fadf",
   "metadata": {},
   "outputs": [],
   "source": [
    "tree_2 = DecisionTreeClassifier(max_depth=40)\n",
    "\n",
    "tree_2 = tree_2.fit(X_train, y_train)"
   ]
  },
  {
   "cell_type": "code",
   "execution_count": 52,
   "id": "b6bbeb28",
   "metadata": {},
   "outputs": [
    {
     "data": {
      "text/plain": [
       "array([1, 0, 0, 1, 0, 1, 0, 1, 1, 1, 1], dtype=int64)"
      ]
     },
     "execution_count": 52,
     "metadata": {},
     "output_type": "execute_result"
    }
   ],
   "source": [
    "y_pred2 = tree_2.predict(X_test)\n",
    "\n",
    "y_pred2[0:11]"
   ]
  },
  {
   "cell_type": "code",
   "execution_count": 53,
   "id": "06bb12f3",
   "metadata": {},
   "outputs": [
    {
     "data": {
      "text/plain": [
       "372463    1\n",
       "13687     0\n",
       "117889    1\n",
       "364824    1\n",
       "228747    0\n",
       "388978    1\n",
       "153513    0\n",
       "45477     0\n",
       "247875    1\n",
       "112175    1\n",
       "316546    1\n",
       "Name: loan_status, dtype: int64"
      ]
     },
     "execution_count": 53,
     "metadata": {},
     "output_type": "execute_result"
    }
   ],
   "source": [
    "y_test[0:11]"
   ]
  },
  {
   "cell_type": "code",
   "execution_count": 54,
   "id": "bf400efc",
   "metadata": {},
   "outputs": [
    {
     "name": "stdout",
     "output_type": "stream",
     "text": [
      "Classification report of tree_2:\n",
      "               precision    recall  f1-score   support\n",
      "\n",
      "           0       0.57      0.59      0.58     14311\n",
      "           1       0.90      0.89      0.89     56943\n",
      "\n",
      "    accuracy                           0.83     71254\n",
      "   macro avg       0.73      0.74      0.74     71254\n",
      "weighted avg       0.83      0.83      0.83     71254\n",
      "\n"
     ]
    }
   ],
   "source": [
    "tree_2_report = classification_report(y_test, y_pred2)\n",
    "\n",
    "print('Classification report of tree_2:\\n', tree_2_report)"
   ]
  },
  {
   "cell_type": "code",
   "execution_count": 55,
   "id": "6f189435",
   "metadata": {},
   "outputs": [
    {
     "data": {
      "image/png": "[encoded data removed]",
      "text/plain": [
       "<Figure size 432x288 with 2 Axes>"
      ]
     },
     "metadata": {
      "needs_background": "light"
     },
     "output_type": "display_data"
    }
   ],
   "source": [
    "tree_2_cm = confusion_matrix(y_test, y_pred2)\n",
    "\n",
    "sns.heatmap(tree_2_cm, annot=True, fmt='0.0f');"
   ]
  },
  {
   "cell_type": "code",
   "execution_count": 56,
   "id": "86f79618",
   "metadata": {},
   "outputs": [],
   "source": [
    "pred_df2 = pd.DataFrame({'Actual_Class':y_test, 'Predicted_Prob':y_pred2})\n",
    "pred_df2['Predicted_Class'] = pred_df2['Predicted_Prob'].map(lambda x: 1 if x>0.5 else 0)\n",
    "fpr,tpr,threshold = roc_curve(pred_df2['Actual_Class'], pred_df2['Predicted_Prob'])"
   ]
  },
  {
   "cell_type": "code",
   "execution_count": 57,
   "id": "f273b0c0",
   "metadata": {},
   "outputs": [
    {
     "name": "stdout",
     "output_type": "stream",
     "text": [
      "ROC AUC Score: 0.7402016053593112\n"
     ]
    },
    {
     "data": {
      "image/png": "[encoded data removed]",
      "text/plain": [
       "<Figure size 432x288 with 1 Axes>"
      ]
     },
     "metadata": {
      "needs_background": "light"
     },
     "output_type": "display_data"
    }
   ],
   "source": [
    "plt.plot(fpr, tpr);\n",
    "plt.plot([0,1], [0,1], color='r');\n",
    "plt.xlabel('FPR');\n",
    "plt.ylabel('TPR');\n",
    "\n",
    "plt.title('ROC Curve');\n",
    "\n",
    "score=roc_auc_score(pred_df2['Actual_Class'], pred_df2['Predicted_Prob'])\n",
    "\n",
    "print('ROC AUC Score:', score)"
   ]
  },
  {
   "cell_type": "code",
   "execution_count": null,
   "id": "3ef0bfa7",
   "metadata": {},
   "outputs": [],
   "source": []
  }
 ],
 "metadata": {
  "kernelspec": {
   "display_name": "Python 3 (ipykernel)",
   "language": "python",
   "name": "python3"
  },
  "language_info": {
   "codemirror_mode": {
    "name": "ipython",
    "version": 3
   },
   "file_extension": ".py",
   "mimetype": "text/x-python",
   "name": "python",
   "nbconvert_exporter": "python",
   "pygments_lexer": "ipython3",
   "version": "3.11.5"
  }
 },
 "nbformat": 4,
 "nbformat_minor": 5
}
